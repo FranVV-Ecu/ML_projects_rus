{
 "cells": [
  {
   "cell_type": "markdown",
   "metadata": {},
   "source": [
    "# Описание проекта\n",
    "\n",
    "Для добывающей компании «ГлавРосГосНефть». Нужно решить, где бурить новую скважину.\n",
    "\n",
    "Предоставлены пробы нефти в трёх регионах: в каждом 10 000 месторождений, где измерили качество нефти и объём её запасов. Постройте модель машинного обучения, которая поможет определить регион, где добыча принесёт наибольшую прибыль. Проанализируйте возможную прибыль и риски техникой *Bootstrap.*\n",
    "\n",
    "Шаги для выбора локации:\n",
    "\n",
    "- В избранном регионе ищут месторождения, для каждого определяют значения признаков;\n",
    "- Строят модель и оценивают объём запасов;\n",
    "- Выбирают месторождения с самым высокими оценками значений. Количество месторождений зависит от бюджета компании и стоимости разработки одной скважины;\n",
    "- Прибыль равна суммарной прибыли отобранных месторождений.\n",
    "\n",
    "##Описание данных\n",
    "Данные геологоразведки трёх регионов находятся в файлах:\n",
    " * geo_data_0.csv. Скачать датасет\n",
    " * geo_data_1.csv. Скачать датасет\n",
    " * geo_data_2.csv. Скачать датасет\n",
    " * id — уникальный идентификатор скважины;\n",
    " * f0, f1, f2 — три признака точек (неважно, что они означают, но сами признаки значимы);\n",
    " * product — объём запасов в скважине (тыс. баррелей).\n",
    "\n",
    "**Условия задачи:**\n",
    " * Для обучения модели подходит только линейная регрессия (остальные — недостаточно предсказуемые).\n",
    " * При разведке региона исследуют 500 точек, из которых выбирают 200 лучших для расчёта прибыли.\n",
    " * Бюджет на разработку скважин в регионе — 10 млрд рублей.\n",
    " * Один баррель сырья приносит 450 рублей дохода. Доход с каждой единицы продукта составляет 450 тыс. рублей, поскольку объём указан в тысячах баррелей.\n",
    " * После оценки рисков нужно оставить лишь те регионы, в которых вероятность убытков меньше 2.5%. Среди них выбирают регион с наибольшей средней прибылью.\n",
    "\n",
    "Данные синтетические: детали контрактов и характеристики месторождений не разглашаются."
   ]
  },
  {
   "cell_type": "markdown",
   "metadata": {},
   "source": [
    "# 1. Загрузка и подготовка данных"
   ]
  },
  {
   "cell_type": "code",
   "execution_count": 4,
   "metadata": {},
   "outputs": [],
   "source": [
    "import pandas as pd\n"
   ]
  },
  {
   "cell_type": "code",
   "execution_count": 5,
   "metadata": {},
   "outputs": [
    {
     "name": "stdout",
     "output_type": "stream",
     "text": [
      "\n",
      "       id        f0        f1        f2     product\n",
      "0  txEyH  0.705745 -0.497823  1.221170  105.280062\n",
      "1  2acmU  1.334711 -0.340164  4.365080   73.037750\n",
      "2  409Wp  1.022732  0.151990  1.419926   85.265647\n",
      "3  iJLyR -0.032172  0.139033  2.978566  168.620776\n",
      "4  Xdl7t  1.988431  0.155413  4.751769  154.036647 \n",
      "\n",
      "\n",
      "       id         f0         f1        f2     product\n",
      "0  kBEdx -15.001348  -8.276000 -0.005876    3.179103\n",
      "1  62mP7  14.272088  -3.475083  0.999183   26.953261\n",
      "2  vyE1P   6.263187  -5.948386  5.001160  134.766305\n",
      "3  KcrkZ -13.081196 -11.506057  4.999415  137.945408\n",
      "4  AHL4O  12.702195  -8.147433  5.004363  134.766305 \n",
      "\n",
      "\n",
      "       id        f0        f1        f2     product\n",
      "0  fwXo0 -1.146987  0.963328 -0.828965   27.758673\n",
      "1  WJtFt  0.262778  0.269839 -2.530187   56.069697\n",
      "2  ovLUW  0.194587  0.289035 -5.586433   62.871910\n",
      "3  q6cA6  2.236060 -0.553760  0.930038  114.572842\n",
      "4  WPMUX -0.515993  1.716266  5.899011  149.600746 \n",
      "\n"
     ]
    }
   ],
   "source": [
    "# Открытие датасетов каждого региона\n",
    "\n",
    "path = r\"C:\\Users\\Asus\\yandex-praktikum\\07 Машинное обучение в бизнесе\"\n",
    "\n",
    "region_1 = pd.read_csv(path + '/ML_buissnes_region_1.csv')\n",
    "\n",
    "region_2 = pd.read_csv(path + '/ML_buissnes_region_2.csv')\n",
    "\n",
    "region_3 = pd.read_csv(path + '/ML_buissnes_region_3.csv')\n",
    "\n",
    "for data in region_1,region_2,region_3:\n",
    "    head = data.head()\n",
    "    print('\\n', head, '\\n')\n",
    "                     "
   ]
  },
  {
   "cell_type": "code",
   "execution_count": 6,
   "metadata": {},
   "outputs": [
    {
     "name": "stdout",
     "output_type": "stream",
     "text": [
      "<class 'pandas.core.frame.DataFrame'>\n",
      "RangeIndex: 100000 entries, 0 to 99999\n",
      "Data columns (total 5 columns):\n",
      "id         100000 non-null object\n",
      "f0         100000 non-null float64\n",
      "f1         100000 non-null float64\n",
      "f2         100000 non-null float64\n",
      "product    100000 non-null float64\n",
      "dtypes: float64(4), object(1)\n",
      "memory usage: 3.8+ MB\n",
      "\n",
      " None \n",
      "\n",
      "<class 'pandas.core.frame.DataFrame'>\n",
      "RangeIndex: 100000 entries, 0 to 99999\n",
      "Data columns (total 5 columns):\n",
      "id         100000 non-null object\n",
      "f0         100000 non-null float64\n",
      "f1         100000 non-null float64\n",
      "f2         100000 non-null float64\n",
      "product    100000 non-null float64\n",
      "dtypes: float64(4), object(1)\n",
      "memory usage: 3.8+ MB\n",
      "\n",
      " None \n",
      "\n",
      "<class 'pandas.core.frame.DataFrame'>\n",
      "RangeIndex: 100000 entries, 0 to 99999\n",
      "Data columns (total 5 columns):\n",
      "id         100000 non-null object\n",
      "f0         100000 non-null float64\n",
      "f1         100000 non-null float64\n",
      "f2         100000 non-null float64\n",
      "product    100000 non-null float64\n",
      "dtypes: float64(4), object(1)\n",
      "memory usage: 3.8+ MB\n",
      "\n",
      " None \n",
      "\n"
     ]
    }
   ],
   "source": [
    "#Рассмотрение информаци каждого датасета\n",
    "for data in region_1,region_2,region_3:\n",
    "    info = data.info()\n",
    "    print('\\n', info, '\\n' )"
   ]
  },
  {
   "cell_type": "code",
   "execution_count": 7,
   "metadata": {},
   "outputs": [
    {
     "name": "stdout",
     "output_type": "stream",
     "text": [
      "id         0\n",
      "f0         0\n",
      "f1         0\n",
      "f2         0\n",
      "product    0\n",
      "dtype: int64 \n",
      "\n",
      "id         0\n",
      "f0         0\n",
      "f1         0\n",
      "f2         0\n",
      "product    0\n",
      "dtype: int64 \n",
      "\n",
      "id         0\n",
      "f0         0\n",
      "f1         0\n",
      "f2         0\n",
      "product    0\n",
      "dtype: int64 \n",
      "\n"
     ]
    }
   ],
   "source": [
    "# Поиск пустих значений\n",
    "for data in region_1,region_2,region_3:\n",
    "    nan_count = data.isna().sum()\n",
    "    print( nan_count,'\\n')"
   ]
  },
  {
   "cell_type": "code",
   "execution_count": 8,
   "metadata": {},
   "outputs": [
    {
     "name": "stdout",
     "output_type": "stream",
     "text": [
      "0 \n",
      "\n",
      "0 \n",
      "\n",
      "0 \n",
      "\n"
     ]
    }
   ],
   "source": [
    "#Поиск дупликатов \n",
    "for data in region_1,region_2,region_3:\n",
    "    duplicates = data.duplicated().sum()\n",
    "    print( duplicates, '\\n')"
   ]
  },
  {
   "cell_type": "markdown",
   "metadata": {},
   "source": [
    "### Вывод\n",
    "\n",
    "Датасеты не имеют значений NAN и дубликатов, датасеты готовы к обработку."
   ]
  },
  {
   "cell_type": "markdown",
   "metadata": {},
   "source": [
    "# 2. Обучение и проверка модели"
   ]
  },
  {
   "cell_type": "code",
   "execution_count": 9,
   "metadata": {},
   "outputs": [],
   "source": [
    "from sklearn.model_selection import train_test_split\n",
    "from sklearn.linear_model import LinearRegression"
   ]
  },
  {
   "cell_type": "code",
   "execution_count": 10,
   "metadata": {},
   "outputs": [],
   "source": [
    "#Назначение признаков каждого региона\n",
    "\n",
    "features_1 = region_1.drop(['id','product'] , axis = 1)\n",
    "target_1 = region_1['product']\n",
    "\n",
    "features_2 = region_2.drop(['id','product'] , axis = 1)\n",
    "target_2 = region_2['product']\n",
    "\n",
    "features_3 = region_3.drop(['id', 'product'], axis = 1 )\n",
    "target_3 = region_3['product']"
   ]
  },
  {
   "cell_type": "code",
   "execution_count": 11,
   "metadata": {},
   "outputs": [
    {
     "data": {
      "text/plain": [
       "(75000,)"
      ]
     },
     "execution_count": 11,
     "metadata": {},
     "output_type": "execute_result"
    }
   ],
   "source": [
    "# Деление признауов на обучающий и валидационной данных региона 1\n",
    "features_train_1, features_valid_1, target_train_1, target_valid_1 = train_test_split(\n",
    "        features_1,\n",
    "        target_1,\n",
    "        test_size = 0.25\n",
    "    )\n",
    "\n",
    "target_train_1.shape"
   ]
  },
  {
   "cell_type": "code",
   "execution_count": 12,
   "metadata": {},
   "outputs": [
    {
     "data": {
      "text/plain": [
       "(75000, 3)"
      ]
     },
     "execution_count": 12,
     "metadata": {},
     "output_type": "execute_result"
    }
   ],
   "source": [
    "# Деление признауов на обучающий и валидационной данных региона 2\n",
    "features_train_2, features_valid_2, target_train_2, target_valid_2 = train_test_split(\n",
    "        features_2,\n",
    "        target_2,\n",
    "        test_size = 0.25\n",
    "    )\n",
    "\n",
    "features_train_2.shape"
   ]
  },
  {
   "cell_type": "code",
   "execution_count": 13,
   "metadata": {},
   "outputs": [
    {
     "data": {
      "text/plain": [
       "(25000, 3)"
      ]
     },
     "execution_count": 13,
     "metadata": {},
     "output_type": "execute_result"
    }
   ],
   "source": [
    "# Деление признауов на обучающий и валидационной данных региона 3\n",
    "features_train_3, features_valid_3, target_train_3, target_valid_3 = train_test_split(\n",
    "        features_3,\n",
    "        target_3,\n",
    "        test_size = 0.25\n",
    "    )\n",
    "\n",
    "features_valid_3.shape"
   ]
  },
  {
   "cell_type": "code",
   "execution_count": 14,
   "metadata": {},
   "outputs": [
    {
     "name": "stdout",
     "output_type": "stream",
     "text": [
      "RMSE region 1 =  37.58175523424325\n"
     ]
    }
   ],
   "source": [
    "from sklearn.metrics import mean_squared_error \n",
    "\n",
    "# Применеине линейнную регрессию региона 1\n",
    "model_1 = LinearRegression()\n",
    "model_1.fit(features_train_1, target_train_1)\n",
    "\n",
    "#Предсказание на вылидационых данных региона 1 \n",
    "predict_1 = model_1.predict(features_valid_1)\n",
    "\n",
    "# Вычисление корень от среднеквадратичной ошибки  региона 1 \n",
    "rmse_1 = mean_squared_error(target_valid_1, predict_1)**0.5\n",
    "\n",
    "print( 'RMSE region 1 = ' , rmse_1)"
   ]
  },
  {
   "cell_type": "code",
   "execution_count": 15,
   "metadata": {},
   "outputs": [
    {
     "name": "stdout",
     "output_type": "stream",
     "text": [
      "R2 region 1 = 0.27930563628812044\n"
     ]
    }
   ],
   "source": [
    "from sklearn.metrics import r2_score \n",
    "# Вычисление коэффициента детерминации региона 1\n",
    "r2_region_1 = r2_score(target_valid_1, predict_1)\n",
    "print(\"R2 region 1 =\", r2_region_1)\n"
   ]
  },
  {
   "cell_type": "code",
   "execution_count": 16,
   "metadata": {},
   "outputs": [
    {
     "name": "stdout",
     "output_type": "stream",
     "text": [
      "MAE region 1 = 30.963415561208013\n"
     ]
    }
   ],
   "source": [
    "from sklearn.metrics import mean_absolute_error\n",
    "\n",
    "# Вычисление среднего абсолютного отклонения региона 1\n",
    "mae_1 = mean_absolute_error(target_valid_1, predict_1)\n",
    "\n",
    "print('MAE region 1 =' , mae_1)"
   ]
  },
  {
   "cell_type": "code",
   "execution_count": 17,
   "metadata": {},
   "outputs": [
    {
     "data": {
      "text/plain": [
       "<Figure size 640x480 with 1 Axes>"
      ]
     },
     "metadata": {},
     "output_type": "display_data"
    }
   ],
   "source": [
    "import matplotlib.pyplot as plt\n",
    "\n",
    "# Распределение плотноси частота сыря региона 1\n",
    "density_1 = region_1['product'].plot(kind = 'density', label = True, title = 'Density region 1', grid =  True)\n",
    "plt.show()\n"
   ]
  },
  {
   "cell_type": "code",
   "execution_count": 18,
   "metadata": {},
   "outputs": [
    {
     "name": "stdout",
     "output_type": "stream",
     "text": [
      "RMSE region 2 =  0.8921138649171674\n"
     ]
    }
   ],
   "source": [
    "# Обучение линейнной регрессии на данных регион 2\n",
    "model_2 = LinearRegression()\n",
    "model_2.fit(features_train_2, target_train_2)\n",
    "\n",
    "#Предсказание на валидационых данных\n",
    "predict_2 = model_2.predict(features_valid_2)\n",
    "\n",
    "# Вычисление корень от среднеквадратичной ошибки  региона 2\n",
    "rmse_2 = mean_squared_error(target_valid_2, predict_2)**0.5\n",
    "\n",
    "#\n",
    "print('RMSE region 2 = ' , rmse_2)"
   ]
  },
  {
   "cell_type": "code",
   "execution_count": 19,
   "metadata": {},
   "outputs": [
    {
     "name": "stdout",
     "output_type": "stream",
     "text": [
      "R2 region 2 = 0.999623118382357\n"
     ]
    }
   ],
   "source": [
    "# Вычисление коэффициента детерминации региона 2\n",
    "r2_region_2 = r2_score(target_valid_2, predict_2)\n",
    "print(\"R2 region 2 =\", r2_region_2)\n"
   ]
  },
  {
   "cell_type": "code",
   "execution_count": 20,
   "metadata": {},
   "outputs": [
    {
     "name": "stdout",
     "output_type": "stream",
     "text": [
      "MAE region 1 = 0.719464730063041\n"
     ]
    }
   ],
   "source": [
    "\n",
    "# Вычисление среднего абсолютного отклонения региона 2\n",
    "mae_2 = mean_absolute_error(target_valid_2, predict_2)\n",
    "\n",
    "print('MAE region 1 =' , mae_2)"
   ]
  },
  {
   "cell_type": "code",
   "execution_count": 21,
   "metadata": {},
   "outputs": [
    {
     "data": {
      "image/png": "[encoded data removed]",
      "text/plain": [
       "<Figure size 432x288 with 1 Axes>"
      ]
     },
     "metadata": {
      "needs_background": "light"
     },
     "output_type": "display_data"
    }
   ],
   "source": [
    "# Распределение плотноси частота сыря региона 1\n",
    "density_2 = region_2['product'].plot(kind = 'density', grid = True, title = 'Density frequency  product region 2')\n",
    "plt.show()"
   ]
  },
  {
   "cell_type": "code",
   "execution_count": 22,
   "metadata": {},
   "outputs": [
    {
     "name": "stdout",
     "output_type": "stream",
     "text": [
      "RMSE region 3 = 39.93342435812008\n"
     ]
    }
   ],
   "source": [
    "# Применеине линейнную регрессию региона 3\n",
    "model_3 = LinearRegression()\n",
    "model_3.fit(features_train_3, target_train_3)\n",
    "\n",
    "#Предсказание на вылидационых данных региона 3\n",
    "predict_3 = model_3.predict(features_valid_3)\n",
    "\n",
    "# Вычисление корень от среднеквадратичной ошибки  региона 3\n",
    "rmse_3 = mean_squared_error(target_valid_3, predict_3)**0.5\n",
    "\n",
    "print('RMSE region 3 =' , rmse_3)"
   ]
  },
  {
   "cell_type": "code",
   "execution_count": 23,
   "metadata": {},
   "outputs": [
    {
     "name": "stdout",
     "output_type": "stream",
     "text": [
      "R2 region 3 = 0.2019891967109576\n"
     ]
    }
   ],
   "source": [
    " #Вычисление коэффициента детерминации региона 3\n",
    "r2_region_3 = r2_score(target_valid_3, predict_3)\n",
    "print(\"R2 region 3 =\", r2_region_3)\n"
   ]
  },
  {
   "cell_type": "code",
   "execution_count": 24,
   "metadata": {},
   "outputs": [
    {
     "name": "stdout",
     "output_type": "stream",
     "text": [
      "MAE region 3=  32.72969826988217\n"
     ]
    }
   ],
   "source": [
    "# Вычисление среднего абсолютного отклонения региона 1\n",
    "mae_3 = mean_absolute_error(target_valid_3, predict_3)\n",
    "\n",
    "print('MAE region 3= ', mae_3)"
   ]
  },
  {
   "cell_type": "code",
   "execution_count": 25,
   "metadata": {},
   "outputs": [
    {
     "data": {
      "image/png": "[encoded data removed]",
      "text/plain": [
       "<Figure size 432x288 with 1 Axes>"
      ]
     },
     "metadata": {
      "needs_background": "light"
     },
     "output_type": "display_data"
    }
   ],
   "source": [
    "# Распределение плотности частоты сыря региона 3 \n",
    "density_3 = region_3['product'].plot(kind = 'density', grid = True, title = 'Densiti product region 3')\n",
    "plt.show()"
   ]
  },
  {
   "cell_type": "code",
   "execution_count": 26,
   "metadata": {},
   "outputs": [
    {
     "data": {
      "text/html": [
       "<div>\n",
       "<style scoped>\n",
       "    .dataframe tbody tr th:only-of-type {\n",
       "        vertical-align: middle;\n",
       "    }\n",
       "\n",
       "    .dataframe tbody tr th {\n",
       "        vertical-align: top;\n",
       "    }\n",
       "\n",
       "    .dataframe thead th {\n",
       "        text-align: right;\n",
       "    }\n",
       "</style>\n",
       "<table border=\"1\" class=\"dataframe\">\n",
       "  <thead>\n",
       "    <tr style=\"text-align: right;\">\n",
       "      <th></th>\n",
       "      <th>RMSE</th>\n",
       "      <th>MAE</th>\n",
       "      <th>R2</th>\n",
       "    </tr>\n",
       "  </thead>\n",
       "  <tbody>\n",
       "    <tr>\n",
       "      <td>region_1</td>\n",
       "      <td>37.581755</td>\n",
       "      <td>30.963416</td>\n",
       "      <td>0.279306</td>\n",
       "    </tr>\n",
       "    <tr>\n",
       "      <td>region_2</td>\n",
       "      <td>0.892114</td>\n",
       "      <td>0.719465</td>\n",
       "      <td>0.999623</td>\n",
       "    </tr>\n",
       "    <tr>\n",
       "      <td>region_3</td>\n",
       "      <td>39.933424</td>\n",
       "      <td>32.729698</td>\n",
       "      <td>0.201989</td>\n",
       "    </tr>\n",
       "  </tbody>\n",
       "</table>\n",
       "</div>"
      ],
      "text/plain": [
       "               RMSE        MAE        R2\n",
       "region_1  37.581755  30.963416  0.279306\n",
       "region_2   0.892114   0.719465  0.999623\n",
       "region_3  39.933424  32.729698  0.201989"
      ]
     },
     "execution_count": 26,
     "metadata": {},
     "output_type": "execute_result"
    }
   ],
   "source": [
    "\n",
    "results = {'RMSE': [rmse_1, rmse_2, rmse_3], 'MAE': [mae_1, mae_2, mae_3], 'R2':[r2_region_1, r2_region_2 ,r2_region_3]}\n",
    "metrics = pd.DataFrame(data=results,\n",
    "                     index= ['region_1', 'region_2', 'region_3'])\n",
    "\n",
    "metrics\n"
   ]
  },
  {
   "cell_type": "markdown",
   "metadata": {},
   "source": [
    "### Вывод\n",
    "\n",
    "Модель линеийной регресии исправлется с предсказанями лцчше на второй регион, этот вывод исходит из резултата R2 которая близко к единице.  Большое значение корень орень от среднеквадратичной ошибки  региона говорит о большом разбросе ощибок, эти значения намного болще для регилнов 1 и 3. Так же среднего абсолютного отклонения региона 1 и 3 намного болще чес для регилна 2.\n",
    "\n",
    "Распределение всех предсказания объёма сыря не приближается к нормалному распределению."
   ]
  },
  {
   "cell_type": "markdown",
   "metadata": {},
   "source": [
    "# 3. Подготовка к расчёту прибыли"
   ]
  },
  {
   "cell_type": "code",
   "execution_count": 27,
   "metadata": {},
   "outputs": [],
   "source": [
    "#Переменная общий бюдюет\n",
    "budget_total = 10*10**9\n",
    "\n",
    "#Переменная бюджет на разработку одного месторождения\n",
    "dof = 50*10**6\n",
    "\n",
    "# Переменная прибыля от одного бареля\n",
    "profit_bbl = 4500"
   ]
  },
  {
   "cell_type": "code",
   "execution_count": 28,
   "metadata": {},
   "outputs": [
    {
     "data": {
      "text/plain": [
       "11111.111111111111"
      ]
     },
     "execution_count": 28,
     "metadata": {},
     "output_type": "execute_result"
    }
   ],
   "source": [
    "# Расчет минимального количества объема сыря на месторождения для ее разработки \n",
    "min_bbl_in_of = dof/ (profit_bbl)\n",
    "\n",
    "min_bbl_in_of"
   ]
  },
  {
   "cell_type": "code",
   "execution_count": 29,
   "metadata": {},
   "outputs": [
    {
     "data": {
      "text/plain": [
       "2222222.222222222"
      ]
     },
     "execution_count": 29,
     "metadata": {},
     "output_type": "execute_result"
    }
   ],
   "source": [
    "# Расчёт маинимального обэема сыря в регионе для ее разработки \n",
    "min_bbl_in_region = budget_total / (profit_bbl)\n",
    "\n",
    "min_bbl_in_region"
   ]
  },
  {
   "cell_type": "code",
   "execution_count": 30,
   "metadata": {},
   "outputs": [
    {
     "data": {
      "text/plain": [
       "200.0"
      ]
     },
     "execution_count": 30,
     "metadata": {},
     "output_type": "execute_result"
    }
   ],
   "source": [
    "# Расчет количество  месторождениях возможных при данном бюджете\n",
    "qty_dof = budget_total / dof\n",
    "\n",
    "qty_dof"
   ]
  },
  {
   "cell_type": "code",
   "execution_count": 31,
   "metadata": {},
   "outputs": [],
   "source": [
    "# Функция расчета скммарной прибыли  исходя из количетсва возможных месторождений \n",
    "def revenue(sample, count):\n",
    "    sample_sorted = sample.sort_values(ascending=False)[:count]\n",
    "    return profit_bbl* 1000 * sample_sorted.sum()\n",
    "\n"
   ]
  },
  {
   "cell_type": "markdown",
   "metadata": {},
   "source": [
    "# 4. Расчёт прибыли и рисков "
   ]
  },
  {
   "cell_type": "code",
   "execution_count": 32,
   "metadata": {},
   "outputs": [],
   "source": [
    "import numpy as np\n",
    "\n",
    "# Будстрап для предсказания решилна 1, исследуем 500 месторождений а из них берем 200 самых прибылных.\n",
    "state = np.random.RandomState(12345)\n",
    "prediction_1 = pd.Series(predict_1)    \n",
    "values_1 = []\n",
    "for i in range(1000):\n",
    "    prediction_subsample = prediction_1.sample(500, replace= True, random_state = state)\n",
    "    values_1.append(revenue(prediction_subsample, 200))\n",
    "    \n",
    "values_1 = pd.Series(values_1)\n",
    "\n",
    "\n"
   ]
  },
  {
   "cell_type": "code",
   "execution_count": 33,
   "metadata": {},
   "outputs": [
    {
     "name": "stdout",
     "output_type": "stream",
     "text": [
      "count    1.000000e+03\n",
      "mean     1.035223e+11\n",
      "std      1.133015e+09\n",
      "min      1.002034e+11\n",
      "25%      1.027754e+11\n",
      "50%      1.035203e+11\n",
      "75%      1.042793e+11\n",
      "max      1.069255e+11\n",
      "dtype: float64 count    1.000000e+03\n",
      "mean     1.240741e+11\n",
      "std      1.999765e+09\n",
      "min      1.181475e+11\n",
      "25%      1.227780e+11\n",
      "50%      1.241114e+11\n",
      "75%      1.254082e+11\n",
      "max      1.306312e+11\n",
      "dtype: float64\n"
     ]
    },
    {
     "data": {
      "image/png": "[encoded data removed]",
      "text/plain": [
       "<Figure size 432x288 with 1 Axes>"
      ]
     },
     "metadata": {
      "needs_background": "light"
     },
     "output_type": "display_data"
    }
   ],
   "source": [
    "# Будстрап для признака  региона 1, исследуем 500 месторождений а из них берем 200 самых прибылных.\n",
    "target_1 = []\n",
    "\n",
    "for i in range(1000):\n",
    "   \n",
    "    target_subsample = target_valid_1.sample(500, replace= True, random_state = state)\n",
    "    target_1.append(revenue(target_subsample, 200))\n",
    "    \n",
    "target_1 = pd.Series(target_1)\n",
    "\n",
    "# Построим распределения плотности для предсказания и реальных данных прибиля. \n",
    "ax = values_1.plot(kind = 'density', grid = True, label= 'predict_1')\n",
    "\n",
    "target_1.plot(kind = 'density', grid = True, ax=ax, label = 'target_1')\n",
    "\n",
    "# Выведим на экран обзор величин \n",
    "print(values_1.describe(),target_1.describe())\n"
   ]
  },
  {
   "cell_type": "code",
   "execution_count": 34,
   "metadata": {},
   "outputs": [
    {
     "name": "stdout",
     "output_type": "stream",
     "text": [
      "Cреднее предсказания региона 1 : 103522271460.7839\n",
      "95%-ый доверительный интервал региона 1 : (103451962551.7383, 103592580369.82951)\n"
     ]
    }
   ],
   "source": [
    "from scipy import stats as st\n",
    "\n",
    "print(\"Cреднее предсказания региона 1 :\", values_1.mean()) \n",
    "confidence_interval = st.t.interval( 0.95, len(values_1)- 1,   loc = values_1.mean() , scale = values_1.sem()) # < напишите код здесь >\n",
    "\n",
    "print(\"95%-ый доверительный интервал региона 1 :\", confidence_interval)"
   ]
  },
  {
   "cell_type": "code",
   "execution_count": 35,
   "metadata": {},
   "outputs": [
    {
     "name": "stdout",
     "output_type": "stream",
     "text": [
      "Cреднее валидационого признака региона 1 : 124074080887.08623\n",
      "95%-ый доверительный интервал региона 1 : (123949986116.88396, 124198175657.2885)\n"
     ]
    }
   ],
   "source": [
    "print(\"Cреднее валидационого признака региона 1 :\", target_1.mean()) \n",
    "confidence_interval = st.t.interval( 0.95, len(target_1)- 1,   loc = target_1.mean() , scale = target_1.sem()) # < напишите код здесь >\n",
    "\n",
    "print(\"95%-ый доверительный интервал региона 1 :\", confidence_interval)\n"
   ]
  },
  {
   "cell_type": "markdown",
   "metadata": {},
   "source": [
    "### Вывод\n",
    "\n",
    "Из графика видно что среднее значение предсказание 103 мил а среднее значение признака 123 мил отличаются . Это резултат был ожидаемый из-за ранее получених результатов метрики качество модели.  Низкое R2= 0.23 и высокое значения МАЕ = 31,5."
   ]
  },
  {
   "cell_type": "code",
   "execution_count": 36,
   "metadata": {},
   "outputs": [],
   "source": [
    "# Будстрап для предсказания региона 2, исследуем 500 месторождений а из них берем 200 самых прибылных.\n",
    "prediction_2 =[]\n",
    "predict_2 = pd.Series(predict_2)    \n",
    "for i in range(1000):\n",
    "    prediction_subsample_2 = predict_2.sample(500, replace= True, random_state = state)\n",
    "    prediction_2.append(revenue(prediction_subsample_2, 200))\n",
    "    \n",
    "prediction_2 = pd.Series(prediction_2)\n",
    "\n"
   ]
  },
  {
   "cell_type": "code",
   "execution_count": 37,
   "metadata": {},
   "outputs": [
    {
     "name": "stdout",
     "output_type": "stream",
     "text": [
      "count    1.000000e+03\n",
      "mean     1.044561e+11\n",
      "std      2.090863e+09\n",
      "min      9.634389e+10\n",
      "25%      1.029505e+11\n",
      "50%      1.044545e+11\n",
      "75%      1.058441e+11\n",
      "max      1.111705e+11\n",
      "dtype: float64 count    1.000000e+03\n",
      "mean     1.045196e+11\n",
      "std      2.009003e+09\n",
      "min      9.889836e+10\n",
      "25%      1.032326e+11\n",
      "50%      1.045987e+11\n",
      "75%      1.058971e+11\n",
      "max      1.109197e+11\n",
      "dtype: float64\n"
     ]
    },
    {
     "data": {
      "image/png": "[encoded data removed]",
      "text/plain": [
       "<Figure size 432x288 with 1 Axes>"
      ]
     },
     "metadata": {
      "needs_background": "light"
     },
     "output_type": "display_data"
    }
   ],
   "source": [
    "# Будстрап для признака  региона 2, исследуем 500 месторождений а из них берем 200 самых прибылных.\n",
    "target_2 = []\n",
    "\n",
    "for i in range(1000):\n",
    "    target_subsample_2 = target_valid_2.sample(500, replace= True, random_state = state)\n",
    "    target_2.append(revenue(target_subsample_2, 200))\n",
    "    \n",
    "target_2 = pd.Series(target_2)\n",
    "\n",
    "# Построим распределения плотности для предсказания и реальных данных прибыля. \n",
    "ax = prediction_2.plot(kind = 'density', grid = True, label= 'predict_2')\n",
    "\n",
    "target_2.plot(kind = 'density', grid = True, ax=ax, label = 'target_2')\n",
    "\n",
    "print(prediction_2.describe() , target_2.describe())"
   ]
  },
  {
   "cell_type": "code",
   "execution_count": 38,
   "metadata": {},
   "outputs": [
    {
     "name": "stdout",
     "output_type": "stream",
     "text": [
      "Cреднее предсказания региона 2 : 104456054342.45578\n",
      "95%-ый доверительный интервал региона 2: (104326306510.86285, 104585802174.0487)\n"
     ]
    }
   ],
   "source": [
    "print(\"Cреднее предсказания региона 2 :\", prediction_2.mean()) \n",
    "confidence_interval = st.t.interval( 0.95, len(values_1)- 1,   loc = prediction_2.mean() , scale = prediction_2.sem()) # < напишите код здесь >\n",
    "\n",
    "print(\"95%-ый доверительный интервал региона 2:\", confidence_interval)"
   ]
  },
  {
   "cell_type": "code",
   "execution_count": 39,
   "metadata": {},
   "outputs": [
    {
     "name": "stdout",
     "output_type": "stream",
     "text": [
      "Cреднее признака региона 2: 104519593853.46545\n",
      "95%-ый доверительный интервал региона 2: (104394925834.79138, 104644261872.13953)\n"
     ]
    }
   ],
   "source": [
    "print(\"Cреднее признака региона 2:\", target_2.mean()) \n",
    "confidence_interval = st.t.interval( 0.95, len(values_1)- 1,   loc = target_2.mean() , scale = target_2.sem()) # < напишите код здесь >\n",
    "\n",
    "print(\"95%-ый доверительный интервал региона 2:\", confidence_interval)"
   ]
  },
  {
   "cell_type": "markdown",
   "metadata": {},
   "source": [
    "### Вывод\n",
    "\n",
    "Из графика распределения видно что среднее значение предсказание и  среднее значение признака практический совпадают около значения 104 милярда . Это резултат был ожидаемый из-за ранее получених результатов метрики качество модели.  R2= 0.99 близко к единице  и низкое значения МАЕ = 0,71."
   ]
  },
  {
   "cell_type": "code",
   "execution_count": 40,
   "metadata": {},
   "outputs": [],
   "source": [
    "# Будстрап для предсказания региона 3, исследуем 500 месторождений а из них берем 200 самых прибылных.\n",
    "prediction_3 =[]\n",
    "predict_3 = pd.Series(predict_3)    \n",
    "for i in range(1000):\n",
    "    \n",
    "    prediction_subsample_3 = predict_3.sample(500, replace= True, random_state = state)\n",
    "    prediction_3.append(revenue(prediction_subsample_3, 200))\n",
    "    \n",
    "prediction_3 = pd.Series(prediction_3)"
   ]
  },
  {
   "cell_type": "code",
   "execution_count": 41,
   "metadata": {},
   "outputs": [
    {
     "name": "stdout",
     "output_type": "stream",
     "text": [
      "count    1.000000e+03\n",
      "mean     1.031776e+11\n",
      "std      9.863322e+08\n",
      "min      9.988629e+10\n",
      "25%      1.025090e+11\n",
      "50%      1.032208e+11\n",
      "75%      1.038558e+11\n",
      "max      1.061489e+11\n",
      "dtype: float64\n",
      "count    1.000000e+03\n",
      "mean     1.263450e+11\n",
      "std      2.086600e+09\n",
      "min      1.201262e+11\n",
      "25%      1.249536e+11\n",
      "50%      1.263533e+11\n",
      "75%      1.277946e+11\n",
      "max      1.325422e+11\n",
      "dtype: float64\n"
     ]
    },
    {
     "data": {
      "image/png": "[encoded data removed]",
      "text/plain": [
       "<Figure size 432x288 with 1 Axes>"
      ]
     },
     "metadata": {
      "needs_background": "light"
     },
     "output_type": "display_data"
    }
   ],
   "source": [
    "# Будстрап для признака  региона 3, исследуем 500 месторождений а из них берем 200 самых прибылных.\n",
    "target_3 = []\n",
    "\n",
    "for i in range(1000):\n",
    "    #sort_prediction_1 = prediction_1.sort_values(ascending = False)[:200]\n",
    "    target_subsample_3 = target_valid_3.sample(500, replace= True, random_state = state)\n",
    "    target_3.append(revenue(target_subsample_3, 200))\n",
    "    \n",
    "target_3 = pd.Series(target_3)\n",
    "\n",
    "# Построим распределения плотности для предсказания и реальных данных прибыля\n",
    "ax = prediction_3.plot(kind = 'density', grid = True, label= 'predict_2')\n",
    "\n",
    "target_3.plot(kind = 'density', grid = True, ax=ax, label = 'target_2')\n",
    "\n",
    "print(prediction_3.describe())\n",
    "print(target_3.describe())"
   ]
  },
  {
   "cell_type": "markdown",
   "metadata": {},
   "source": [
    "### Вывод\n",
    "\n",
    "Из графика распределения видно что среднее значение предсказание и  среднее значение признака сильно отличаются. Это резултат был ожидаемый из-за ранее получених результатов метрики качество модели.  R2= 0.19 близко к нулью  и высокое значения МАЕ = 40."
   ]
  },
  {
   "cell_type": "markdown",
   "metadata": {},
   "source": [
    "Если бы у нас не было сведения для сравнения рекомендовали бы разработать регион 2 по скольку среднее значения прибыля 104 милярда рублей. На 1 милярд больше чем средное значение прибыля региона 1 и на 2 милярда чем региона 3. Этот результат тоже обоснуется еще на качество метрики модели.\n",
    "\n",
    "После сравнения полученых результатов с реальными данными, следует того что больше средное значение прибыля получается из региона 2. То есть ниселоцовразно принимать решения на низкие значения метрики коэфициента детерминаци."
   ]
  },
  {
   "cell_type": "code",
   "execution_count": null,
   "metadata": {},
   "outputs": [],
   "source": []
  }
 ],
 "metadata": {
  "kernelspec": {
   "display_name": "Python 3",
   "language": "python",
   "name": "python3"
  },
  "language_info": {
   "codemirror_mode": {
    "name": "ipython",
    "version": 3
   },
   "file_extension": ".py",
   "mimetype": "text/x-python",
   "name": "python",
   "nbconvert_exporter": "python",
   "pygments_lexer": "ipython3",
   "version": "3.7.4"
  }
 },
 "nbformat": 4,
 "nbformat_minor": 2
}
