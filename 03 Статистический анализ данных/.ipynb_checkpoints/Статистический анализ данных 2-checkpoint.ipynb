{
 "cells": [
  {
   "cell_type": "markdown",
   "metadata": {},
   "source": [
    "# Рекомендация тарифов"
   ]
  },
  {
   "cell_type": "markdown",
   "metadata": {},
   "source": [
    "В вашем распоряжении данные о поведении клиентов, которые уже перешли на эти тарифы (из проекта курса «Статистический анализ данных»). Нужно построить модель для задачи классификации, которая выберет подходящий тариф. Предобработка данных не понадобится — вы её уже сделали.\n",
    "\n",
    "Постройте модель с максимально большим значением *accuracy*. Чтобы сдать проект успешно, нужно довести долю правильных ответов по крайней мере до 0.75. Проверьте *accuracy* на тестовой выборке самостоятельно."
   ]
  },
  {
   "cell_type": "markdown",
   "metadata": {},
   "source": [
    "## 1. Откройте и изучите файл"
   ]
  },
  {
   "cell_type": "code",
   "execution_count": 1,
   "metadata": {},
   "outputs": [],
   "source": [
    "import pandas as pd"
   ]
  },
  {
   "cell_type": "code",
   "execution_count": 2,
   "metadata": {},
   "outputs": [
    {
     "data": {
      "text/html": [
       "<div>\n",
       "<style scoped>\n",
       "    .dataframe tbody tr th:only-of-type {\n",
       "        vertical-align: middle;\n",
       "    }\n",
       "\n",
       "    .dataframe tbody tr th {\n",
       "        vertical-align: top;\n",
       "    }\n",
       "\n",
       "    .dataframe thead th {\n",
       "        text-align: right;\n",
       "    }\n",
       "</style>\n",
       "<table border=\"1\" class=\"dataframe\">\n",
       "  <thead>\n",
       "    <tr style=\"text-align: right;\">\n",
       "      <th></th>\n",
       "      <th>calls</th>\n",
       "      <th>minutes</th>\n",
       "      <th>messages</th>\n",
       "      <th>mb_used</th>\n",
       "      <th>is_ultra</th>\n",
       "    </tr>\n",
       "  </thead>\n",
       "  <tbody>\n",
       "    <tr>\n",
       "      <td>0</td>\n",
       "      <td>40.0</td>\n",
       "      <td>311.90</td>\n",
       "      <td>83.0</td>\n",
       "      <td>19915.42</td>\n",
       "      <td>0</td>\n",
       "    </tr>\n",
       "    <tr>\n",
       "      <td>1</td>\n",
       "      <td>85.0</td>\n",
       "      <td>516.75</td>\n",
       "      <td>56.0</td>\n",
       "      <td>22696.96</td>\n",
       "      <td>0</td>\n",
       "    </tr>\n",
       "    <tr>\n",
       "      <td>2</td>\n",
       "      <td>77.0</td>\n",
       "      <td>467.66</td>\n",
       "      <td>86.0</td>\n",
       "      <td>21060.45</td>\n",
       "      <td>0</td>\n",
       "    </tr>\n",
       "    <tr>\n",
       "      <td>3</td>\n",
       "      <td>106.0</td>\n",
       "      <td>745.53</td>\n",
       "      <td>81.0</td>\n",
       "      <td>8437.39</td>\n",
       "      <td>1</td>\n",
       "    </tr>\n",
       "    <tr>\n",
       "      <td>4</td>\n",
       "      <td>66.0</td>\n",
       "      <td>418.74</td>\n",
       "      <td>1.0</td>\n",
       "      <td>14502.75</td>\n",
       "      <td>0</td>\n",
       "    </tr>\n",
       "  </tbody>\n",
       "</table>\n",
       "</div>"
      ],
      "text/plain": [
       "   calls  minutes  messages   mb_used  is_ultra\n",
       "0   40.0   311.90      83.0  19915.42         0\n",
       "1   85.0   516.75      56.0  22696.96         0\n",
       "2   77.0   467.66      86.0  21060.45         0\n",
       "3  106.0   745.53      81.0   8437.39         1\n",
       "4   66.0   418.74       1.0  14502.75         0"
      ]
     },
     "execution_count": 2,
     "metadata": {},
     "output_type": "execute_result"
    }
   ],
   "source": [
    "# Открываем датасет и выведим 5 чтрок\n",
    "df = pd.read_csv('/datasets/users_behavior.csv')\n",
    "df.head()"
   ]
  },
  {
   "cell_type": "code",
   "execution_count": 3,
   "metadata": {},
   "outputs": [
    {
     "name": "stdout",
     "output_type": "stream",
     "text": [
      "<class 'pandas.core.frame.DataFrame'>\n",
      "RangeIndex: 3214 entries, 0 to 3213\n",
      "Data columns (total 5 columns):\n",
      "calls       3214 non-null float64\n",
      "minutes     3214 non-null float64\n",
      "messages    3214 non-null float64\n",
      "mb_used     3214 non-null float64\n",
      "is_ultra    3214 non-null int64\n",
      "dtypes: float64(4), int64(1)\n",
      "memory usage: 125.7 KB\n"
     ]
    }
   ],
   "source": [
    "# Выведим на экран информацтб о датасета\n",
    "df.info()"
   ]
  },
  {
   "cell_type": "code",
   "execution_count": 4,
   "metadata": {},
   "outputs": [
    {
     "data": {
      "text/plain": [
       "calls       0\n",
       "minutes     0\n",
       "messages    0\n",
       "mb_used     0\n",
       "is_ultra    0\n",
       "dtype: int64"
      ]
     },
     "execution_count": 4,
     "metadata": {},
     "output_type": "execute_result"
    }
   ],
   "source": [
    "# Счет пропушенных значений\n",
    "\n",
    "count_nan = df.isna().sum()\n",
    "\n",
    "count_nan"
   ]
  },
  {
   "cell_type": "markdown",
   "metadata": {},
   "source": [
    "### Вывод\n",
    "\n",
    "Из информаци иследует что нет пропущеных значении, и тип данных каждой строке годен для дальнейшего построения моделей."
   ]
  },
  {
   "cell_type": "code",
   "execution_count": 5,
   "metadata": {},
   "outputs": [
    {
     "data": {
      "text/plain": [
       "array([[<matplotlib.axes._subplots.AxesSubplot object at 0x7f134c9cb7f0>,\n",
       "        <matplotlib.axes._subplots.AxesSubplot object at 0x7f134a6d5940>,\n",
       "        <matplotlib.axes._subplots.AxesSubplot object at 0x7f134a68ae80>,\n",
       "        <matplotlib.axes._subplots.AxesSubplot object at 0x7f134a648470>,\n",
       "        <matplotlib.axes._subplots.AxesSubplot object at 0x7f134a6799e8>],\n",
       "       [<matplotlib.axes._subplots.AxesSubplot object at 0x7f134a62af98>,\n",
       "        <matplotlib.axes._subplots.AxesSubplot object at 0x7f134a5e7588>,\n",
       "        <matplotlib.axes._subplots.AxesSubplot object at 0x7f134a597b70>,\n",
       "        <matplotlib.axes._subplots.AxesSubplot object at 0x7f134a597ba8>,\n",
       "        <matplotlib.axes._subplots.AxesSubplot object at 0x7f134a5076d8>],\n",
       "       [<matplotlib.axes._subplots.AxesSubplot object at 0x7f134a537c88>,\n",
       "        <matplotlib.axes._subplots.AxesSubplot object at 0x7f134a4f6278>,\n",
       "        <matplotlib.axes._subplots.AxesSubplot object at 0x7f134a4a6828>,\n",
       "        <matplotlib.axes._subplots.AxesSubplot object at 0x7f134a459dd8>,\n",
       "        <matplotlib.axes._subplots.AxesSubplot object at 0x7f134a4153c8>],\n",
       "       [<matplotlib.axes._subplots.AxesSubplot object at 0x7f134a3c3978>,\n",
       "        <matplotlib.axes._subplots.AxesSubplot object at 0x7f134a3f9f28>,\n",
       "        <matplotlib.axes._subplots.AxesSubplot object at 0x7f134a3b3518>,\n",
       "        <matplotlib.axes._subplots.AxesSubplot object at 0x7f134a365ac8>,\n",
       "        <matplotlib.axes._subplots.AxesSubplot object at 0x7f134a3240b8>],\n",
       "       [<matplotlib.axes._subplots.AxesSubplot object at 0x7f134a2d2668>,\n",
       "        <matplotlib.axes._subplots.AxesSubplot object at 0x7f134a285c18>,\n",
       "        <matplotlib.axes._subplots.AxesSubplot object at 0x7f134a242208>,\n",
       "        <matplotlib.axes._subplots.AxesSubplot object at 0x7f134a2727b8>,\n",
       "        <matplotlib.axes._subplots.AxesSubplot object at 0x7f134a224d68>]],\n",
       "      dtype=object)"
      ]
     },
     "execution_count": 5,
     "metadata": {},
     "output_type": "execute_result"
    }
   ],
   "source": [
    "# Строим матрица рассеяния\n",
    "\n",
    "pd.plotting.scatter_matrix(df, figsize = (15,15), diagonal = 'kde')"
   ]
  },
  {
   "cell_type": "markdown",
   "metadata": {},
   "source": [
    "## 2. Разбейте данные на выборки"
   ]
  },
  {
   "cell_type": "code",
   "execution_count": 6,
   "metadata": {},
   "outputs": [],
   "source": [
    "from sklearn.model_selection import train_test_split\n"
   ]
  },
  {
   "cell_type": "code",
   "execution_count": 7,
   "metadata": {},
   "outputs": [],
   "source": [
    "# Определяем функцию для того чтобы разделить датасет на : обущающий, валидацилный и тестовый\n",
    "\n",
    "def train_test_validate_split(features, targets, test_size=0.2, validate_size=0.1):\n",
    "    # Делим на обучующую и тестовую часть\n",
    "    features_train, features_test, targets_train, targets_test = train_test_split(\n",
    "        features,\n",
    "        targets,\n",
    "        stratify=targets,\n",
    "        test_size=test_size\n",
    "    )\n",
    "    # Воторой раз делим датачет\n",
    "    post_split_validate_size = validate_size / (1 - test_size)\n",
    "    features_train, features_validate, targets_train, targets_validate = train_test_split(\n",
    "        features_train,\n",
    "        targets_train,\n",
    "        stratify=targets_train,\n",
    "        test_size=post_split_validate_size\n",
    "    )\n",
    "    return features_train, features_test, features_validate, targets_train, targets_test, targets_validate"
   ]
  },
  {
   "cell_type": "code",
   "execution_count": 8,
   "metadata": {},
   "outputs": [],
   "source": [
    "# Определение признаков и целового признака \n",
    "\n",
    "features = df.drop('is_ultra' , axis = 1)\n",
    "\n",
    "target = df['is_ultra']"
   ]
  },
  {
   "cell_type": "code",
   "execution_count": 9,
   "metadata": {},
   "outputs": [],
   "source": [
    "# Применение функцию деления датасета на 3 части \n",
    "features_train, features_test, features_validate, targets_train, targets_test, targets_validate =(\n",
    "    train_test_validate_split(features, target) \n",
    ")\n"
   ]
  },
  {
   "cell_type": "code",
   "execution_count": 10,
   "metadata": {},
   "outputs": [],
   "source": [
    "#Именование стольбцов для далнейщего обработка в цикле\n",
    "\n",
    "features_train.name = 'features_train'\n",
    "features_test.name = 'features_test'\n",
    "features_validate.name = 'features_validate'\n",
    "targets_train.name = 'targets_train'\n",
    "targets_test.name = 'targets_test'\n",
    "targets_validate.name = 'targets_validate'"
   ]
  },
  {
   "cell_type": "code",
   "execution_count": 11,
   "metadata": {},
   "outputs": [
    {
     "name": "stdout",
     "output_type": "stream",
     "text": [
      "Длина датафрэйма features_train : 2249\n",
      "Длина датафрэйма features_test : 643\n",
      "Длина датафрэйма features_validate : 322\n",
      "Длина датафрэйма targets_train : 2249\n",
      "Длина датафрэйма targets_test : 643\n",
      "Длина датафрэйма targets_validate : 322\n"
     ]
    }
   ],
   "source": [
    "# Проверка длины датасетов \n",
    "\n",
    "for data in (features_train, features_test, features_validate, targets_train, targets_test, targets_validate ):\n",
    "    print('Длина датафрэйма', data.name  ,':', len(data))"
   ]
  },
  {
   "cell_type": "markdown",
   "metadata": {},
   "source": [
    "## 3. Исследуйте модели"
   ]
  },
  {
   "cell_type": "code",
   "execution_count": 12,
   "metadata": {},
   "outputs": [],
   "source": [
    "from sklearn.tree import DecisionTreeClassifier\n",
    "\n",
    "from sklearn.metrics import accuracy_score\n"
   ]
  },
  {
   "cell_type": "code",
   "execution_count": 13,
   "metadata": {},
   "outputs": [],
   "source": [
    "# Создание листов для далнейшего сохранения резултатов классификатора дерева решений\n",
    "\n",
    "array_DTC_train = []\n",
    "array_DTC_validate =[]\n",
    "\n",
    "#Цикл для обучения валидация и тест на разных гиперпараметрах классификатор дерева решений\n",
    "for depth in range(1, 31, 2):\n",
    "    \n",
    "    model_DTC = DecisionTreeClassifier(max_depth = depth ,  random_state = 123456)\n",
    "    model_DTC.fit(features_train , targets_train)\n",
    "    \n",
    "    prediction_DTC_train =  model_DTC.predict(features_train)\n",
    "    accuracy_DTC_train = accuracy_score(targets_train, prediction_DTC_train)\n",
    "    array_DTC_train.append(accuracy_DTC_train.round(4))\n",
    "    \n",
    "    prediction_DTC_validate = model_DTC.predict(features_validate)\n",
    "    accuracy_DTC_validate = accuracy_score(targets_validate, prediction_DTC_validate)\n",
    "    array_DTC_validate.append(accuracy_DTC_validate.round(4))\n",
    "    \n",
    "    \n",
    "  \n",
    "    \n"
   ]
  },
  {
   "cell_type": "code",
   "execution_count": 14,
   "metadata": {},
   "outputs": [
    {
     "data": {
      "text/html": [
       "<div>\n",
       "<style scoped>\n",
       "    .dataframe tbody tr th:only-of-type {\n",
       "        vertical-align: middle;\n",
       "    }\n",
       "\n",
       "    .dataframe tbody tr th {\n",
       "        vertical-align: top;\n",
       "    }\n",
       "\n",
       "    .dataframe thead th {\n",
       "        text-align: right;\n",
       "    }\n",
       "</style>\n",
       "<table border=\"1\" class=\"dataframe\">\n",
       "  <thead>\n",
       "    <tr style=\"text-align: right;\">\n",
       "      <th></th>\n",
       "      <th>max_depth</th>\n",
       "      <th>train</th>\n",
       "      <th>validate</th>\n",
       "    </tr>\n",
       "  </thead>\n",
       "  <tbody>\n",
       "    <tr>\n",
       "      <td>0</td>\n",
       "      <td>1</td>\n",
       "      <td>0.7492</td>\n",
       "      <td>0.7547</td>\n",
       "    </tr>\n",
       "    <tr>\n",
       "      <td>1</td>\n",
       "      <td>3</td>\n",
       "      <td>0.7972</td>\n",
       "      <td>0.8043</td>\n",
       "    </tr>\n",
       "    <tr>\n",
       "      <td>2</td>\n",
       "      <td>5</td>\n",
       "      <td>0.8173</td>\n",
       "      <td>0.7919</td>\n",
       "    </tr>\n",
       "    <tr>\n",
       "      <td>3</td>\n",
       "      <td>7</td>\n",
       "      <td>0.8426</td>\n",
       "      <td>0.8106</td>\n",
       "    </tr>\n",
       "    <tr>\n",
       "      <td>4</td>\n",
       "      <td>9</td>\n",
       "      <td>0.8679</td>\n",
       "      <td>0.8012</td>\n",
       "    </tr>\n",
       "    <tr>\n",
       "      <td>5</td>\n",
       "      <td>11</td>\n",
       "      <td>0.8902</td>\n",
       "      <td>0.7826</td>\n",
       "    </tr>\n",
       "    <tr>\n",
       "      <td>6</td>\n",
       "      <td>13</td>\n",
       "      <td>0.9173</td>\n",
       "      <td>0.7516</td>\n",
       "    </tr>\n",
       "    <tr>\n",
       "      <td>7</td>\n",
       "      <td>15</td>\n",
       "      <td>0.9466</td>\n",
       "      <td>0.7516</td>\n",
       "    </tr>\n",
       "    <tr>\n",
       "      <td>8</td>\n",
       "      <td>17</td>\n",
       "      <td>0.9707</td>\n",
       "      <td>0.7267</td>\n",
       "    </tr>\n",
       "    <tr>\n",
       "      <td>9</td>\n",
       "      <td>19</td>\n",
       "      <td>0.9884</td>\n",
       "      <td>0.7298</td>\n",
       "    </tr>\n",
       "    <tr>\n",
       "      <td>10</td>\n",
       "      <td>21</td>\n",
       "      <td>0.9973</td>\n",
       "      <td>0.7267</td>\n",
       "    </tr>\n",
       "    <tr>\n",
       "      <td>11</td>\n",
       "      <td>23</td>\n",
       "      <td>0.9987</td>\n",
       "      <td>0.7112</td>\n",
       "    </tr>\n",
       "    <tr>\n",
       "      <td>12</td>\n",
       "      <td>25</td>\n",
       "      <td>0.9996</td>\n",
       "      <td>0.7174</td>\n",
       "    </tr>\n",
       "    <tr>\n",
       "      <td>13</td>\n",
       "      <td>27</td>\n",
       "      <td>1.0000</td>\n",
       "      <td>0.7050</td>\n",
       "    </tr>\n",
       "    <tr>\n",
       "      <td>14</td>\n",
       "      <td>29</td>\n",
       "      <td>1.0000</td>\n",
       "      <td>0.7050</td>\n",
       "    </tr>\n",
       "  </tbody>\n",
       "</table>\n",
       "</div>"
      ],
      "text/plain": [
       "    max_depth   train  validate\n",
       "0           1  0.7492    0.7547\n",
       "1           3  0.7972    0.8043\n",
       "2           5  0.8173    0.7919\n",
       "3           7  0.8426    0.8106\n",
       "4           9  0.8679    0.8012\n",
       "5          11  0.8902    0.7826\n",
       "6          13  0.9173    0.7516\n",
       "7          15  0.9466    0.7516\n",
       "8          17  0.9707    0.7267\n",
       "9          19  0.9884    0.7298\n",
       "10         21  0.9973    0.7267\n",
       "11         23  0.9987    0.7112\n",
       "12         25  0.9996    0.7174\n",
       "13         27  1.0000    0.7050\n",
       "14         29  1.0000    0.7050"
      ]
     },
     "execution_count": 14,
     "metadata": {},
     "output_type": "execute_result"
    }
   ],
   "source": [
    "import numpy as np\n",
    "\n",
    "# Резултаты качество обучения, валидация в одном датафрейме классификатора дерева решений\n",
    "\n",
    "accuracy_DTC = pd.DataFrame( [array_DTC_train,array_DTC_validate],\n",
    "                           columns = range(1,31,2)).T.reset_index()                        \n",
    "                           \n",
    "\n",
    "\n",
    "accuracy_DTC.columns = ['max_depth','train','validate']\n",
    "\n",
    "accuracy_DTC"
   ]
  },
  {
   "cell_type": "code",
   "execution_count": 15,
   "metadata": {},
   "outputs": [
    {
     "data": {
      "text/plain": [
       "Text(0.5, 1.0, 'Accuracy Decision Tree Classifier Models')"
      ]
     },
     "execution_count": 15,
     "metadata": {},
     "output_type": "execute_result"
    },
    {
     "data": {
      "image/png": "[encoded data removed]",
      "text/plain": [
       "<Figure size 1080x360 with 1 Axes>"
      ]
     },
     "metadata": {
      "needs_background": "light"
     },
     "output_type": "display_data"
    }
   ],
   "source": [
    "import matplotlib.pyplot as plt \n",
    "\n",
    "x = accuracy_DTC['max_depth']\n",
    "y = accuracy_DTC['train']\n",
    "z = accuracy_DTC['validate']\n",
    "plt.figure(figsize=(15,5))\n",
    "plt.xlim(1,29)\n",
    "plt.xlabel('max_depth')\n",
    "plt.ylabel('Accuracy')\n",
    "plt.plot(x, y , color='blue', label = 'Train')\n",
    "plt.plot(x,z,  color = 'red', label = 'validate')\n",
    "plt.grid()\n",
    "plt.legend()\n",
    "plt.title('Accuracy Decision Tree Classifier Models')\n",
    "\n"
   ]
  },
  {
   "cell_type": "markdown",
   "metadata": {},
   "source": [
    "## Вывод \n",
    "\n",
    "При увеличении глубины дерева в классификатора дерева решений наблюдается учеличение значения точности на обучающий модель, и при валидации значения качество снижается, следовательно при увеличении значения глубины дерево увеличивается переобучения моделей. Оптимальный значение глубины является 7. При данном значении глубины значение точность при валидации максимальное и равно 80%."
   ]
  },
  {
   "cell_type": "code",
   "execution_count": 16,
   "metadata": {},
   "outputs": [],
   "source": [
    "from sklearn.ensemble import RandomForestClassifier"
   ]
  },
  {
   "cell_type": "code",
   "execution_count": 17,
   "metadata": {},
   "outputs": [],
   "source": [
    "# Создание листов для далнейшего сохранения резултатов случайного леса\n",
    "\n",
    "RFC_train = []\n",
    "RFC_validate = []\n",
    "\n",
    "\n",
    "#Цикл для обучения валидация и тест на разных гиперпараметрах случайного леса\n",
    "for estim in range(1, 21, 1):\n",
    "    \n",
    "    model_RFC = RandomForestClassifier(random_state=12345, n_estimators= estim, max_depth = 10)\n",
    "    \n",
    "    model_RFC.fit(features_train , targets_train)\n",
    "    \n",
    "    prediction_RFC_train = model_RFC.predict(features_train)\n",
    "    accuracy_RFC_train =  accuracy_score(targets_train, prediction_RFC_train)\n",
    "    RFC_train.append(accuracy_RFC_train.round(4))\n",
    "    \n",
    "    prediction_RFC_validate = model_RFC.predict(features_validate)\n",
    "    RFC_validate_accuracy = accuracy_score(targets_validate, prediction_RFC_validate)\n",
    "    RFC_validate.append(RFC_validate_accuracy.round(4))\n",
    "    \n",
    "    \n",
    " \n"
   ]
  },
  {
   "cell_type": "code",
   "execution_count": 18,
   "metadata": {},
   "outputs": [
    {
     "data": {
      "text/html": [
       "<div>\n",
       "<style scoped>\n",
       "    .dataframe tbody tr th:only-of-type {\n",
       "        vertical-align: middle;\n",
       "    }\n",
       "\n",
       "    .dataframe tbody tr th {\n",
       "        vertical-align: top;\n",
       "    }\n",
       "\n",
       "    .dataframe thead th {\n",
       "        text-align: right;\n",
       "    }\n",
       "</style>\n",
       "<table border=\"1\" class=\"dataframe\">\n",
       "  <thead>\n",
       "    <tr style=\"text-align: right;\">\n",
       "      <th></th>\n",
       "      <th>estim</th>\n",
       "      <th>train</th>\n",
       "      <th>validate</th>\n",
       "    </tr>\n",
       "  </thead>\n",
       "  <tbody>\n",
       "    <tr>\n",
       "      <td>0</td>\n",
       "      <td>1</td>\n",
       "      <td>0.8439</td>\n",
       "      <td>0.8012</td>\n",
       "    </tr>\n",
       "    <tr>\n",
       "      <td>1</td>\n",
       "      <td>2</td>\n",
       "      <td>0.8613</td>\n",
       "      <td>0.7919</td>\n",
       "    </tr>\n",
       "    <tr>\n",
       "      <td>2</td>\n",
       "      <td>3</td>\n",
       "      <td>0.8617</td>\n",
       "      <td>0.8137</td>\n",
       "    </tr>\n",
       "    <tr>\n",
       "      <td>3</td>\n",
       "      <td>4</td>\n",
       "      <td>0.8702</td>\n",
       "      <td>0.8012</td>\n",
       "    </tr>\n",
       "    <tr>\n",
       "      <td>4</td>\n",
       "      <td>5</td>\n",
       "      <td>0.8688</td>\n",
       "      <td>0.8106</td>\n",
       "    </tr>\n",
       "    <tr>\n",
       "      <td>5</td>\n",
       "      <td>6</td>\n",
       "      <td>0.8728</td>\n",
       "      <td>0.8075</td>\n",
       "    </tr>\n",
       "    <tr>\n",
       "      <td>6</td>\n",
       "      <td>7</td>\n",
       "      <td>0.8751</td>\n",
       "      <td>0.8168</td>\n",
       "    </tr>\n",
       "    <tr>\n",
       "      <td>7</td>\n",
       "      <td>8</td>\n",
       "      <td>0.8768</td>\n",
       "      <td>0.8230</td>\n",
       "    </tr>\n",
       "    <tr>\n",
       "      <td>8</td>\n",
       "      <td>9</td>\n",
       "      <td>0.8804</td>\n",
       "      <td>0.8199</td>\n",
       "    </tr>\n",
       "    <tr>\n",
       "      <td>9</td>\n",
       "      <td>10</td>\n",
       "      <td>0.8782</td>\n",
       "      <td>0.8230</td>\n",
       "    </tr>\n",
       "    <tr>\n",
       "      <td>10</td>\n",
       "      <td>11</td>\n",
       "      <td>0.8826</td>\n",
       "      <td>0.8230</td>\n",
       "    </tr>\n",
       "    <tr>\n",
       "      <td>11</td>\n",
       "      <td>12</td>\n",
       "      <td>0.8831</td>\n",
       "      <td>0.8323</td>\n",
       "    </tr>\n",
       "    <tr>\n",
       "      <td>12</td>\n",
       "      <td>13</td>\n",
       "      <td>0.8848</td>\n",
       "      <td>0.8261</td>\n",
       "    </tr>\n",
       "    <tr>\n",
       "      <td>13</td>\n",
       "      <td>14</td>\n",
       "      <td>0.8862</td>\n",
       "      <td>0.8199</td>\n",
       "    </tr>\n",
       "    <tr>\n",
       "      <td>14</td>\n",
       "      <td>15</td>\n",
       "      <td>0.8871</td>\n",
       "      <td>0.8323</td>\n",
       "    </tr>\n",
       "    <tr>\n",
       "      <td>15</td>\n",
       "      <td>16</td>\n",
       "      <td>0.8880</td>\n",
       "      <td>0.8292</td>\n",
       "    </tr>\n",
       "    <tr>\n",
       "      <td>16</td>\n",
       "      <td>17</td>\n",
       "      <td>0.8897</td>\n",
       "      <td>0.8261</td>\n",
       "    </tr>\n",
       "    <tr>\n",
       "      <td>17</td>\n",
       "      <td>18</td>\n",
       "      <td>0.8893</td>\n",
       "      <td>0.8230</td>\n",
       "    </tr>\n",
       "    <tr>\n",
       "      <td>18</td>\n",
       "      <td>19</td>\n",
       "      <td>0.8880</td>\n",
       "      <td>0.8261</td>\n",
       "    </tr>\n",
       "    <tr>\n",
       "      <td>19</td>\n",
       "      <td>20</td>\n",
       "      <td>0.8893</td>\n",
       "      <td>0.8261</td>\n",
       "    </tr>\n",
       "  </tbody>\n",
       "</table>\n",
       "</div>"
      ],
      "text/plain": [
       "    estim   train  validate\n",
       "0       1  0.8439    0.8012\n",
       "1       2  0.8613    0.7919\n",
       "2       3  0.8617    0.8137\n",
       "3       4  0.8702    0.8012\n",
       "4       5  0.8688    0.8106\n",
       "5       6  0.8728    0.8075\n",
       "6       7  0.8751    0.8168\n",
       "7       8  0.8768    0.8230\n",
       "8       9  0.8804    0.8199\n",
       "9      10  0.8782    0.8230\n",
       "10     11  0.8826    0.8230\n",
       "11     12  0.8831    0.8323\n",
       "12     13  0.8848    0.8261\n",
       "13     14  0.8862    0.8199\n",
       "14     15  0.8871    0.8323\n",
       "15     16  0.8880    0.8292\n",
       "16     17  0.8897    0.8261\n",
       "17     18  0.8893    0.8230\n",
       "18     19  0.8880    0.8261\n",
       "19     20  0.8893    0.8261"
      ]
     },
     "execution_count": 18,
     "metadata": {},
     "output_type": "execute_result"
    }
   ],
   "source": [
    "# Резултаты качество обучения, валидация и теста в одном датафрейме случайного леса\n",
    "\n",
    "accuracy_RFC = pd.DataFrame( [RFC_train, RFC_validate],\n",
    "                           columns = range(1,21,1)).T.reset_index() \n",
    "\n",
    "accuracy_RFC.columns = ['estim', 'train', 'validate']\n",
    "\n",
    "accuracy_RFC"
   ]
  },
  {
   "cell_type": "code",
   "execution_count": 19,
   "metadata": {},
   "outputs": [
    {
     "data": {
      "text/plain": [
       "Text(0.5, 1.0, ' Accuracy Random Forest Classifier Models ')"
      ]
     },
     "execution_count": 19,
     "metadata": {},
     "output_type": "execute_result"
    },
    {
     "data": {
      "image/png": "[encoded data removed]",
      "text/plain": [
       "<Figure size 1080x360 with 1 Axes>"
      ]
     },
     "metadata": {
      "needs_background": "light"
     },
     "output_type": "display_data"
    }
   ],
   "source": [
    "x = accuracy_RFC['estim']\n",
    "y = accuracy_RFC['train']\n",
    "z = accuracy_RFC['validate']\n",
    "plt.figure(figsize=(15,5))\n",
    "plt.xlim(1,21)\n",
    "plt.xlabel('n_estimator')\n",
    "plt.ylabel('Accuracy')\n",
    "plt.plot(x, y , color='blue', label = 'Train')\n",
    "plt.plot(x,z,  color = 'red', label = 'validate')\n",
    "plt.grid()\n",
    "plt.legend()\n",
    "plt.title(' Accuracy Random Forest Classifier Models ')\n"
   ]
  },
  {
   "cell_type": "markdown",
   "metadata": {},
   "source": [
    "## Вывод \n",
    "\n",
    "При увеличении значение n_estimators случайного леса  решений значения точности валидационой выборке увличивается и достигает его максимальное значение при n_estimators равно 10, затем точности валидации снижается. Это свидителствует о переобучения модели."
   ]
  },
  {
   "cell_type": "code",
   "execution_count": 20,
   "metadata": {},
   "outputs": [],
   "source": [
    "from sklearn.linear_model import LogisticRegression\n"
   ]
  },
  {
   "cell_type": "code",
   "execution_count": 21,
   "metadata": {},
   "outputs": [
    {
     "name": "stderr",
     "output_type": "stream",
     "text": [
      "/opt/conda/lib/python3.7/site-packages/sklearn/svm/base.py:929: ConvergenceWarning: Liblinear failed to converge, increase the number of iterations.\n",
      "  \"the number of iterations.\", ConvergenceWarning)\n"
     ]
    },
    {
     "data": {
      "text/plain": [
       "0.70476"
      ]
     },
     "execution_count": 21,
     "metadata": {},
     "output_type": "execute_result"
    }
   ],
   "source": [
    "# Обучение модель Логистической регресси\n",
    "\n",
    "model = LogisticRegression(random_state=12345, solver = 'liblinear' , max_iter = 10)\n",
    "\n",
    "model.fit(features_train, targets_train)\n",
    "\n",
    "prediction_train = model.predict(features_train)\n",
    "\n",
    "accuracy_train = accuracy_score(targets_train, prediction_train)\n",
    "\n",
    "accuracy_train.round(5)"
   ]
  },
  {
   "cell_type": "code",
   "execution_count": 22,
   "metadata": {},
   "outputs": [
    {
     "data": {
      "text/plain": [
       "0.69876"
      ]
     },
     "execution_count": 22,
     "metadata": {},
     "output_type": "execute_result"
    }
   ],
   "source": [
    "# Валидация модель Логистической регресси\n",
    "\n",
    "\n",
    "prediction_validate = model.predict(features_validate)\n",
    "\n",
    "accuracy_validate = accuracy_score(targets_validate, prediction_validate)\n",
    "\n",
    "accuracy_validate.round(5)"
   ]
  },
  {
   "cell_type": "markdown",
   "metadata": {},
   "source": [
    "## Вывод \n",
    "\n",
    "При увеличении применения логистической регресии значение точности меньше чем при присенение других моделей обучения."
   ]
  },
  {
   "cell_type": "markdown",
   "metadata": {},
   "source": [
    "## 4. Проверьте модель на тестовой выборке"
   ]
  },
  {
   "cell_type": "code",
   "execution_count": 23,
   "metadata": {},
   "outputs": [
    {
     "data": {
      "text/plain": [
       "0.7076205287713841"
      ]
     },
     "execution_count": 23,
     "metadata": {},
     "output_type": "execute_result"
    }
   ],
   "source": [
    "# Тестирование модель Логистической регресси\n",
    "\n",
    "prediction_test = model.predict(features_test)\n",
    "\n",
    "accuracy_test = accuracy_score(targets_test, prediction_test)\n",
    "\n",
    "accuracy_test"
   ]
  },
  {
   "cell_type": "code",
   "execution_count": 24,
   "metadata": {},
   "outputs": [
    {
     "data": {
      "text/html": [
       "<div>\n",
       "<style scoped>\n",
       "    .dataframe tbody tr th:only-of-type {\n",
       "        vertical-align: middle;\n",
       "    }\n",
       "\n",
       "    .dataframe tbody tr th {\n",
       "        vertical-align: top;\n",
       "    }\n",
       "\n",
       "    .dataframe thead th {\n",
       "        text-align: right;\n",
       "    }\n",
       "</style>\n",
       "<table border=\"1\" class=\"dataframe\">\n",
       "  <thead>\n",
       "    <tr style=\"text-align: right;\">\n",
       "      <th></th>\n",
       "      <th>max_depth</th>\n",
       "      <th>train</th>\n",
       "      <th>validate</th>\n",
       "    </tr>\n",
       "  </thead>\n",
       "  <tbody>\n",
       "    <tr>\n",
       "      <td>2</td>\n",
       "      <td>5</td>\n",
       "      <td>0.8155</td>\n",
       "      <td>0.8012</td>\n",
       "    </tr>\n",
       "  </tbody>\n",
       "</table>\n",
       "</div>"
      ],
      "text/plain": [
       "   max_depth   train  validate\n",
       "2          5  0.8155    0.8012"
      ]
     },
     "execution_count": 24,
     "metadata": {},
     "output_type": "execute_result"
    }
   ],
   "source": [
    "# Нахождение оптимальной модели класификатора дерево рещений по максимальному значению точности валидаций\n",
    "optimal_DTC_accuracy = accuracy_DTC[accuracy_DTC['validate'] == accuracy_DTC['validate'].max()]\n",
    "\n",
    "optimal_DTC_accuracy"
   ]
  },
  {
   "cell_type": "code",
   "execution_count": 25,
   "metadata": {},
   "outputs": [
    {
     "data": {
      "text/plain": [
       "0.79"
      ]
     },
     "execution_count": 25,
     "metadata": {},
     "output_type": "execute_result"
    }
   ],
   "source": [
    "#обучение модели классификатора дерева решений с оптимальным значением глубины дерево\n",
    "optimal_model_DTC = DecisionTreeClassifier(max_depth = 7 ,  random_state = 123456)\n",
    "optimal_model_DTC.fit(features_train , targets_train)\n",
    "\n",
    "# Тестирование модель классификатора дерева решений\n",
    "prediction_DTC_test =  optimal_model_DTC.predict(features_test)\n",
    "accuracy_DTC_test = accuracy_score(targets_test, prediction_DTC_test)\n",
    "accuracy_DTC_test.round(4)"
   ]
  },
  {
   "cell_type": "code",
   "execution_count": 26,
   "metadata": {},
   "outputs": [
    {
     "data": {
      "text/html": [
       "<div>\n",
       "<style scoped>\n",
       "    .dataframe tbody tr th:only-of-type {\n",
       "        vertical-align: middle;\n",
       "    }\n",
       "\n",
       "    .dataframe tbody tr th {\n",
       "        vertical-align: top;\n",
       "    }\n",
       "\n",
       "    .dataframe thead th {\n",
       "        text-align: right;\n",
       "    }\n",
       "</style>\n",
       "<table border=\"1\" class=\"dataframe\">\n",
       "  <thead>\n",
       "    <tr style=\"text-align: right;\">\n",
       "      <th></th>\n",
       "      <th>estim</th>\n",
       "      <th>train</th>\n",
       "      <th>validate</th>\n",
       "    </tr>\n",
       "  </thead>\n",
       "  <tbody>\n",
       "    <tr>\n",
       "      <td>11</td>\n",
       "      <td>12</td>\n",
       "      <td>0.8831</td>\n",
       "      <td>0.8323</td>\n",
       "    </tr>\n",
       "    <tr>\n",
       "      <td>14</td>\n",
       "      <td>15</td>\n",
       "      <td>0.8871</td>\n",
       "      <td>0.8323</td>\n",
       "    </tr>\n",
       "  </tbody>\n",
       "</table>\n",
       "</div>"
      ],
      "text/plain": [
       "    estim   train  validate\n",
       "11     12  0.8831    0.8323\n",
       "14     15  0.8871    0.8323"
      ]
     },
     "execution_count": 26,
     "metadata": {},
     "output_type": "execute_result"
    }
   ],
   "source": [
    "# Нахождение оптимальной модели клаяификатора дерево рещений\n",
    "optimal_RFC_accuracy = accuracy_RFC[accuracy_RFC['validate'] == accuracy_RFC['validate'].max()]\n",
    "\n",
    "optimal_RFC_accuracy"
   ]
  },
  {
   "cell_type": "code",
   "execution_count": 27,
   "metadata": {},
   "outputs": [
    {
     "data": {
      "text/plain": [
       "0.8149"
      ]
     },
     "execution_count": 27,
     "metadata": {},
     "output_type": "execute_result"
    }
   ],
   "source": [
    "#обучение модели случайного леса\n",
    "optimal_model_RFC = RandomForestClassifier(random_state=12345, n_estimators= 8, max_depth = 7)\n",
    "    \n",
    "optimal_model_RFC.fit(features_train , targets_train)\n",
    "\n",
    "# Тестирование модель случайного леса\n",
    "\n",
    "prediction_RFC_test = optimal_model_RFC.predict(features_test)\n",
    "accuracy_RFC_test =  accuracy_score(targets_test, prediction_RFC_test)\n",
    "accuracy_RFC_test.round(4)\n",
    "\n"
   ]
  },
  {
   "cell_type": "markdown",
   "metadata": {},
   "source": [
    "## Вывод\n",
    "\n",
    "Исходя из полученых значении качество лучше модель оказался случаный лес при n_estimator равно 8 , получили качество при тестирование равно 82,43%"
   ]
  },
  {
   "cell_type": "markdown",
   "metadata": {},
   "source": [
    "## 5. (бонус) Проверьте модели на адекватность"
   ]
  },
  {
   "cell_type": "code",
   "execution_count": null,
   "metadata": {},
   "outputs": [],
   "source": []
  },
  {
   "cell_type": "code",
   "execution_count": 28,
   "metadata": {},
   "outputs": [
    {
     "data": {
      "text/html": [
       "<div>\n",
       "<style scoped>\n",
       "    .dataframe tbody tr th:only-of-type {\n",
       "        vertical-align: middle;\n",
       "    }\n",
       "\n",
       "    .dataframe tbody tr th {\n",
       "        vertical-align: top;\n",
       "    }\n",
       "\n",
       "    .dataframe thead th {\n",
       "        text-align: right;\n",
       "    }\n",
       "</style>\n",
       "<table border=\"1\" class=\"dataframe\">\n",
       "  <thead>\n",
       "    <tr style=\"text-align: right;\">\n",
       "      <th></th>\n",
       "      <th>Accuracy_Test</th>\n",
       "    </tr>\n",
       "  </thead>\n",
       "  <tbody>\n",
       "    <tr>\n",
       "      <td>Decision_Tree_Classifier</td>\n",
       "      <td>0.790047</td>\n",
       "    </tr>\n",
       "    <tr>\n",
       "      <td>Random_Forest_Classifier</td>\n",
       "      <td>0.814930</td>\n",
       "    </tr>\n",
       "    <tr>\n",
       "      <td>Logistic_Regression</td>\n",
       "      <td>0.707621</td>\n",
       "    </tr>\n",
       "  </tbody>\n",
       "</table>\n",
       "</div>"
      ],
      "text/plain": [
       "                          Accuracy_Test\n",
       "Decision_Tree_Classifier       0.790047\n",
       "Random_Forest_Classifier       0.814930\n",
       "Logistic_Regression            0.707621"
      ]
     },
     "execution_count": 28,
     "metadata": {},
     "output_type": "execute_result"
    }
   ],
   "source": [
    "#Проверка на адекватность\n",
    "\n",
    "sanity_check = pd.DataFrame([[accuracy_DTC_test], [accuracy_RFC_test], [accuracy_test]],\n",
    "                           columns = ['Accuracy_Test'],\n",
    "                           index = ['Decision_Tree_Classifier', 'Random_Forest_Classifier' , 'Logistic_Regression'])\n",
    "\n",
    "\n",
    "sanity_check\n",
    "\n"
   ]
  },
  {
   "cell_type": "markdown",
   "metadata": {},
   "source": [
    "## Вывод\n",
    "\n",
    "Высше значение качество модели, получили при применении класификатор случайного леса. Полученное значение 0,82 больше чем 0,75 который требоалось по заданию. \n",
    "\n",
    "\n",
    "Рассмотрим отдельно ответы «1» (ультра ) и «0» (смарт):\n",
    " \n",
    "Ответы модели не связаны с правильными ответами, поэтому вероятность угадать «1» равна 50% (так же и для «0»). Accuracy будет равна 0.5.\n",
    "\n",
    "\n",
    "Точность нащей модели 0,82, что значительно высше случайное выборке и равно 0,5. Что свидительствует о адвекватность выбраной модели. "
   ]
  }
 ],
 "metadata": {
  "kernelspec": {
   "display_name": "Python 3",
   "language": "python",
   "name": "python3"
  },
  "language_info": {
   "codemirror_mode": {
    "name": "ipython",
    "version": 3
   },
   "file_extension": ".py",
   "mimetype": "text/x-python",
   "name": "python",
   "nbconvert_exporter": "python",
   "pygments_lexer": "ipython3",
   "version": "3.7.4"
  }
 },
 "nbformat": 4,
 "nbformat_minor": 2
}
