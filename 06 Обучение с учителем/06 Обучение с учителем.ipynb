{
 "cells": [
  {
   "cell_type": "markdown",
   "metadata": {},
   "source": [
    "# Отток клиентов\n",
    "\n",
    "Из «Бета-Банка» стали уходить клиенты. Каждый месяц. Немного, но заметно. Банковские маркетологи посчитали: сохранять текущих клиентов дешевле, чем привлекать новых.\n",
    "\n",
    "Строим прогноз, уйдёт клиент из банка в ближайшее время или нет. Вам предоставлены исторические данные о поведении клиентов и расторжении договоров с банком. \n",
    "\n",
    "Построим модель с предельно большим значением *F1*-меры. Нужно довести метрику до 0.59. Проверим *F1*-меру на тестовой выборке самостоятельно.\n",
    "\n",
    "Дополнительно измеряйем *AUC-ROC*, сравниваем её значение с *F1*-мерой.\n",
    "\n",
    "Источник данных: [https://www.kaggle.com/barelydedicated/bank-customer-churn-modeling](https://www.kaggle.com/barelydedicated/bank-customer-churn-modeling)\n",
    "\n",
    " ## Описание данных\n",
    "Данные находятся в файле /datasets/Churn.csv (англ. «отток клиентов»). \n",
    "\n",
    "**Признаки**\n",
    " - RowNumber — индекс строки в данных\n",
    " - CustomerId — уникальный идентификатор клиента\n",
    " - Surname — фамилия\n",
    " - CreditScore — кредитный рейтинг\n",
    " - Geography — страна проживания\n",
    " - Gender — пол\n",
    " - Age — возраст\n",
    " - Tenure — количество недвижимости у клиента\n",
    " - Balance — баланс на счёте\n",
    " - NumOfProducts — количество продуктов банка, используемых клиентом\n",
    " - HasCrCard — наличие кредитной карты\n",
    " - IsActiveMember — активность клиента\n",
    " - EstimatedSalary — предполагаемая зарплата\n",
    " \n",
    "**Целевой признак**\n",
    " - Exited — факт ухода клиента"
   ]
  },
  {
   "cell_type": "markdown",
   "metadata": {},
   "source": [
    "# 1. Подготовка данных"
   ]
  },
  {
   "cell_type": "code",
   "execution_count": 4,
   "metadata": {},
   "outputs": [],
   "source": [
    "import pandas as pd"
   ]
  },
  {
   "cell_type": "code",
   "execution_count": 5,
   "metadata": {
    "scrolled": false
   },
   "outputs": [
    {
     "data": {
      "text/html": [
       "<div>\n",
       "<style scoped>\n",
       "    .dataframe tbody tr th:only-of-type {\n",
       "        vertical-align: middle;\n",
       "    }\n",
       "\n",
       "    .dataframe tbody tr th {\n",
       "        vertical-align: top;\n",
       "    }\n",
       "\n",
       "    .dataframe thead th {\n",
       "        text-align: right;\n",
       "    }\n",
       "</style>\n",
       "<table border=\"1\" class=\"dataframe\">\n",
       "  <thead>\n",
       "    <tr style=\"text-align: right;\">\n",
       "      <th></th>\n",
       "      <th>0</th>\n",
       "      <th>1</th>\n",
       "      <th>2</th>\n",
       "      <th>3</th>\n",
       "      <th>4</th>\n",
       "    </tr>\n",
       "  </thead>\n",
       "  <tbody>\n",
       "    <tr>\n",
       "      <td>RowNumber</td>\n",
       "      <td>1</td>\n",
       "      <td>2</td>\n",
       "      <td>3</td>\n",
       "      <td>4</td>\n",
       "      <td>5</td>\n",
       "    </tr>\n",
       "    <tr>\n",
       "      <td>CustomerId</td>\n",
       "      <td>15634602</td>\n",
       "      <td>15647311</td>\n",
       "      <td>15619304</td>\n",
       "      <td>15701354</td>\n",
       "      <td>15737888</td>\n",
       "    </tr>\n",
       "    <tr>\n",
       "      <td>Surname</td>\n",
       "      <td>Hargrave</td>\n",
       "      <td>Hill</td>\n",
       "      <td>Onio</td>\n",
       "      <td>Boni</td>\n",
       "      <td>Mitchell</td>\n",
       "    </tr>\n",
       "    <tr>\n",
       "      <td>CreditScore</td>\n",
       "      <td>619</td>\n",
       "      <td>608</td>\n",
       "      <td>502</td>\n",
       "      <td>699</td>\n",
       "      <td>850</td>\n",
       "    </tr>\n",
       "    <tr>\n",
       "      <td>Geography</td>\n",
       "      <td>France</td>\n",
       "      <td>Spain</td>\n",
       "      <td>France</td>\n",
       "      <td>France</td>\n",
       "      <td>Spain</td>\n",
       "    </tr>\n",
       "    <tr>\n",
       "      <td>Gender</td>\n",
       "      <td>Female</td>\n",
       "      <td>Female</td>\n",
       "      <td>Female</td>\n",
       "      <td>Female</td>\n",
       "      <td>Female</td>\n",
       "    </tr>\n",
       "    <tr>\n",
       "      <td>Age</td>\n",
       "      <td>42</td>\n",
       "      <td>41</td>\n",
       "      <td>42</td>\n",
       "      <td>39</td>\n",
       "      <td>43</td>\n",
       "    </tr>\n",
       "    <tr>\n",
       "      <td>Tenure</td>\n",
       "      <td>2</td>\n",
       "      <td>1</td>\n",
       "      <td>8</td>\n",
       "      <td>1</td>\n",
       "      <td>2</td>\n",
       "    </tr>\n",
       "    <tr>\n",
       "      <td>Balance</td>\n",
       "      <td>0</td>\n",
       "      <td>83807.9</td>\n",
       "      <td>159661</td>\n",
       "      <td>0</td>\n",
       "      <td>125511</td>\n",
       "    </tr>\n",
       "    <tr>\n",
       "      <td>NumOfProducts</td>\n",
       "      <td>1</td>\n",
       "      <td>1</td>\n",
       "      <td>3</td>\n",
       "      <td>2</td>\n",
       "      <td>1</td>\n",
       "    </tr>\n",
       "    <tr>\n",
       "      <td>HasCrCard</td>\n",
       "      <td>1</td>\n",
       "      <td>0</td>\n",
       "      <td>1</td>\n",
       "      <td>0</td>\n",
       "      <td>1</td>\n",
       "    </tr>\n",
       "    <tr>\n",
       "      <td>IsActiveMember</td>\n",
       "      <td>1</td>\n",
       "      <td>1</td>\n",
       "      <td>0</td>\n",
       "      <td>0</td>\n",
       "      <td>1</td>\n",
       "    </tr>\n",
       "    <tr>\n",
       "      <td>EstimatedSalary</td>\n",
       "      <td>101349</td>\n",
       "      <td>112543</td>\n",
       "      <td>113932</td>\n",
       "      <td>93826.6</td>\n",
       "      <td>79084.1</td>\n",
       "    </tr>\n",
       "    <tr>\n",
       "      <td>Exited</td>\n",
       "      <td>1</td>\n",
       "      <td>0</td>\n",
       "      <td>1</td>\n",
       "      <td>0</td>\n",
       "      <td>0</td>\n",
       "    </tr>\n",
       "  </tbody>\n",
       "</table>\n",
       "</div>"
      ],
      "text/plain": [
       "                        0         1         2         3         4\n",
       "RowNumber               1         2         3         4         5\n",
       "CustomerId       15634602  15647311  15619304  15701354  15737888\n",
       "Surname          Hargrave      Hill      Onio      Boni  Mitchell\n",
       "CreditScore           619       608       502       699       850\n",
       "Geography          France     Spain    France    France     Spain\n",
       "Gender             Female    Female    Female    Female    Female\n",
       "Age                    42        41        42        39        43\n",
       "Tenure                  2         1         8         1         2\n",
       "Balance                 0   83807.9    159661         0    125511\n",
       "NumOfProducts           1         1         3         2         1\n",
       "HasCrCard               1         0         1         0         1\n",
       "IsActiveMember          1         1         0         0         1\n",
       "EstimatedSalary    101349    112543    113932   93826.6   79084.1\n",
       "Exited                  1         0         1         0         0"
      ]
     },
     "execution_count": 5,
     "metadata": {},
     "output_type": "execute_result"
    }
   ],
   "source": [
    "# Открываем датасет\n",
    "\n",
    "path = r\"C:\\Users\\Asus\\yandex-praktikum\\06 Обучение с учителем\"\n",
    "data = pd.read_csv(path+'/ML_supervised.csv')\n",
    "\n",
    "# Вывод первых 5 строка\n",
    "data.head().T"
   ]
  },
  {
   "cell_type": "code",
   "execution_count": 6,
   "metadata": {},
   "outputs": [
    {
     "name": "stdout",
     "output_type": "stream",
     "text": [
      "<class 'pandas.core.frame.DataFrame'>\n",
      "RangeIndex: 10000 entries, 0 to 9999\n",
      "Data columns (total 14 columns):\n",
      "RowNumber          10000 non-null int64\n",
      "CustomerId         10000 non-null int64\n",
      "Surname            10000 non-null object\n",
      "CreditScore        10000 non-null int64\n",
      "Geography          10000 non-null object\n",
      "Gender             10000 non-null object\n",
      "Age                10000 non-null int64\n",
      "Tenure             9091 non-null float64\n",
      "Balance            10000 non-null float64\n",
      "NumOfProducts      10000 non-null int64\n",
      "HasCrCard          10000 non-null int64\n",
      "IsActiveMember     10000 non-null int64\n",
      "EstimatedSalary    10000 non-null float64\n",
      "Exited             10000 non-null int64\n",
      "dtypes: float64(3), int64(8), object(3)\n",
      "memory usage: 1.1+ MB\n"
     ]
    }
   ],
   "source": [
    "# Выводим информацию о датасете\n",
    "data.info()"
   ]
  },
  {
   "cell_type": "code",
   "execution_count": 7,
   "metadata": {},
   "outputs": [
    {
     "data": {
      "text/plain": [
       "RowNumber            0\n",
       "CustomerId           0\n",
       "Surname              0\n",
       "CreditScore          0\n",
       "Geography            0\n",
       "Gender               0\n",
       "Age                  0\n",
       "Tenure             909\n",
       "Balance              0\n",
       "NumOfProducts        0\n",
       "HasCrCard            0\n",
       "IsActiveMember       0\n",
       "EstimatedSalary      0\n",
       "Exited               0\n",
       "dtype: int64"
      ]
     },
     "execution_count": 7,
     "metadata": {},
     "output_type": "execute_result"
    }
   ],
   "source": [
    "# Выявляем NaN значение\n",
    "data.isna().sum()"
   ]
  },
  {
   "cell_type": "code",
   "execution_count": 8,
   "metadata": {},
   "outputs": [
    {
     "data": {
      "text/html": [
       "<div>\n",
       "<style scoped>\n",
       "    .dataframe tbody tr th:only-of-type {\n",
       "        vertical-align: middle;\n",
       "    }\n",
       "\n",
       "    .dataframe tbody tr th {\n",
       "        vertical-align: top;\n",
       "    }\n",
       "\n",
       "    .dataframe thead th {\n",
       "        text-align: right;\n",
       "    }\n",
       "</style>\n",
       "<table border=\"1\" class=\"dataframe\">\n",
       "  <thead>\n",
       "    <tr style=\"text-align: right;\">\n",
       "      <th></th>\n",
       "      <th>RowNumber</th>\n",
       "      <th>CustomerId</th>\n",
       "      <th>Surname</th>\n",
       "      <th>CreditScore</th>\n",
       "      <th>Geography</th>\n",
       "      <th>Gender</th>\n",
       "      <th>Age</th>\n",
       "      <th>Tenure</th>\n",
       "      <th>Balance</th>\n",
       "      <th>NumOfProducts</th>\n",
       "      <th>HasCrCard</th>\n",
       "      <th>IsActiveMember</th>\n",
       "      <th>EstimatedSalary</th>\n",
       "      <th>Exited</th>\n",
       "    </tr>\n",
       "  </thead>\n",
       "  <tbody>\n",
       "    <tr>\n",
       "      <td>30</td>\n",
       "      <td>31</td>\n",
       "      <td>15589475</td>\n",
       "      <td>Azikiwe</td>\n",
       "      <td>591</td>\n",
       "      <td>Spain</td>\n",
       "      <td>Female</td>\n",
       "      <td>39</td>\n",
       "      <td>NaN</td>\n",
       "      <td>0.00</td>\n",
       "      <td>3</td>\n",
       "      <td>1</td>\n",
       "      <td>0</td>\n",
       "      <td>140469.38</td>\n",
       "      <td>1</td>\n",
       "    </tr>\n",
       "    <tr>\n",
       "      <td>48</td>\n",
       "      <td>49</td>\n",
       "      <td>15766205</td>\n",
       "      <td>Yin</td>\n",
       "      <td>550</td>\n",
       "      <td>Germany</td>\n",
       "      <td>Male</td>\n",
       "      <td>38</td>\n",
       "      <td>NaN</td>\n",
       "      <td>103391.38</td>\n",
       "      <td>1</td>\n",
       "      <td>0</td>\n",
       "      <td>1</td>\n",
       "      <td>90878.13</td>\n",
       "      <td>0</td>\n",
       "    </tr>\n",
       "    <tr>\n",
       "      <td>51</td>\n",
       "      <td>52</td>\n",
       "      <td>15768193</td>\n",
       "      <td>Trevisani</td>\n",
       "      <td>585</td>\n",
       "      <td>Germany</td>\n",
       "      <td>Male</td>\n",
       "      <td>36</td>\n",
       "      <td>NaN</td>\n",
       "      <td>146050.97</td>\n",
       "      <td>2</td>\n",
       "      <td>0</td>\n",
       "      <td>0</td>\n",
       "      <td>86424.57</td>\n",
       "      <td>0</td>\n",
       "    </tr>\n",
       "    <tr>\n",
       "      <td>53</td>\n",
       "      <td>54</td>\n",
       "      <td>15702298</td>\n",
       "      <td>Parkhill</td>\n",
       "      <td>655</td>\n",
       "      <td>Germany</td>\n",
       "      <td>Male</td>\n",
       "      <td>41</td>\n",
       "      <td>NaN</td>\n",
       "      <td>125561.97</td>\n",
       "      <td>1</td>\n",
       "      <td>0</td>\n",
       "      <td>0</td>\n",
       "      <td>164040.94</td>\n",
       "      <td>1</td>\n",
       "    </tr>\n",
       "    <tr>\n",
       "      <td>60</td>\n",
       "      <td>61</td>\n",
       "      <td>15651280</td>\n",
       "      <td>Hunter</td>\n",
       "      <td>742</td>\n",
       "      <td>Germany</td>\n",
       "      <td>Male</td>\n",
       "      <td>35</td>\n",
       "      <td>NaN</td>\n",
       "      <td>136857.00</td>\n",
       "      <td>1</td>\n",
       "      <td>0</td>\n",
       "      <td>0</td>\n",
       "      <td>84509.57</td>\n",
       "      <td>0</td>\n",
       "    </tr>\n",
       "    <tr>\n",
       "      <td>...</td>\n",
       "      <td>...</td>\n",
       "      <td>...</td>\n",
       "      <td>...</td>\n",
       "      <td>...</td>\n",
       "      <td>...</td>\n",
       "      <td>...</td>\n",
       "      <td>...</td>\n",
       "      <td>...</td>\n",
       "      <td>...</td>\n",
       "      <td>...</td>\n",
       "      <td>...</td>\n",
       "      <td>...</td>\n",
       "      <td>...</td>\n",
       "      <td>...</td>\n",
       "    </tr>\n",
       "    <tr>\n",
       "      <td>9944</td>\n",
       "      <td>9945</td>\n",
       "      <td>15703923</td>\n",
       "      <td>Cameron</td>\n",
       "      <td>744</td>\n",
       "      <td>Germany</td>\n",
       "      <td>Male</td>\n",
       "      <td>41</td>\n",
       "      <td>NaN</td>\n",
       "      <td>190409.34</td>\n",
       "      <td>2</td>\n",
       "      <td>1</td>\n",
       "      <td>1</td>\n",
       "      <td>138361.48</td>\n",
       "      <td>0</td>\n",
       "    </tr>\n",
       "    <tr>\n",
       "      <td>9956</td>\n",
       "      <td>9957</td>\n",
       "      <td>15707861</td>\n",
       "      <td>Nucci</td>\n",
       "      <td>520</td>\n",
       "      <td>France</td>\n",
       "      <td>Female</td>\n",
       "      <td>46</td>\n",
       "      <td>NaN</td>\n",
       "      <td>85216.61</td>\n",
       "      <td>1</td>\n",
       "      <td>1</td>\n",
       "      <td>0</td>\n",
       "      <td>117369.52</td>\n",
       "      <td>1</td>\n",
       "    </tr>\n",
       "    <tr>\n",
       "      <td>9964</td>\n",
       "      <td>9965</td>\n",
       "      <td>15642785</td>\n",
       "      <td>Douglas</td>\n",
       "      <td>479</td>\n",
       "      <td>France</td>\n",
       "      <td>Male</td>\n",
       "      <td>34</td>\n",
       "      <td>NaN</td>\n",
       "      <td>117593.48</td>\n",
       "      <td>2</td>\n",
       "      <td>0</td>\n",
       "      <td>0</td>\n",
       "      <td>113308.29</td>\n",
       "      <td>0</td>\n",
       "    </tr>\n",
       "    <tr>\n",
       "      <td>9985</td>\n",
       "      <td>9986</td>\n",
       "      <td>15586914</td>\n",
       "      <td>Nepean</td>\n",
       "      <td>659</td>\n",
       "      <td>France</td>\n",
       "      <td>Male</td>\n",
       "      <td>36</td>\n",
       "      <td>NaN</td>\n",
       "      <td>123841.49</td>\n",
       "      <td>2</td>\n",
       "      <td>1</td>\n",
       "      <td>0</td>\n",
       "      <td>96833.00</td>\n",
       "      <td>0</td>\n",
       "    </tr>\n",
       "    <tr>\n",
       "      <td>9999</td>\n",
       "      <td>10000</td>\n",
       "      <td>15628319</td>\n",
       "      <td>Walker</td>\n",
       "      <td>792</td>\n",
       "      <td>France</td>\n",
       "      <td>Female</td>\n",
       "      <td>28</td>\n",
       "      <td>NaN</td>\n",
       "      <td>130142.79</td>\n",
       "      <td>1</td>\n",
       "      <td>1</td>\n",
       "      <td>0</td>\n",
       "      <td>38190.78</td>\n",
       "      <td>0</td>\n",
       "    </tr>\n",
       "  </tbody>\n",
       "</table>\n",
       "<p>909 rows × 14 columns</p>\n",
       "</div>"
      ],
      "text/plain": [
       "      RowNumber  CustomerId    Surname  CreditScore Geography  Gender  Age  \\\n",
       "30           31    15589475    Azikiwe          591     Spain  Female   39   \n",
       "48           49    15766205        Yin          550   Germany    Male   38   \n",
       "51           52    15768193  Trevisani          585   Germany    Male   36   \n",
       "53           54    15702298   Parkhill          655   Germany    Male   41   \n",
       "60           61    15651280     Hunter          742   Germany    Male   35   \n",
       "...         ...         ...        ...          ...       ...     ...  ...   \n",
       "9944       9945    15703923    Cameron          744   Germany    Male   41   \n",
       "9956       9957    15707861      Nucci          520    France  Female   46   \n",
       "9964       9965    15642785    Douglas          479    France    Male   34   \n",
       "9985       9986    15586914     Nepean          659    France    Male   36   \n",
       "9999      10000    15628319     Walker          792    France  Female   28   \n",
       "\n",
       "      Tenure    Balance  NumOfProducts  HasCrCard  IsActiveMember  \\\n",
       "30       NaN       0.00              3          1               0   \n",
       "48       NaN  103391.38              1          0               1   \n",
       "51       NaN  146050.97              2          0               0   \n",
       "53       NaN  125561.97              1          0               0   \n",
       "60       NaN  136857.00              1          0               0   \n",
       "...      ...        ...            ...        ...             ...   \n",
       "9944     NaN  190409.34              2          1               1   \n",
       "9956     NaN   85216.61              1          1               0   \n",
       "9964     NaN  117593.48              2          0               0   \n",
       "9985     NaN  123841.49              2          1               0   \n",
       "9999     NaN  130142.79              1          1               0   \n",
       "\n",
       "      EstimatedSalary  Exited  \n",
       "30          140469.38       1  \n",
       "48           90878.13       0  \n",
       "51           86424.57       0  \n",
       "53          164040.94       1  \n",
       "60           84509.57       0  \n",
       "...               ...     ...  \n",
       "9944        138361.48       0  \n",
       "9956        117369.52       1  \n",
       "9964        113308.29       0  \n",
       "9985         96833.00       0  \n",
       "9999         38190.78       0  \n",
       "\n",
       "[909 rows x 14 columns]"
      ]
     },
     "execution_count": 8,
     "metadata": {},
     "output_type": "execute_result"
    }
   ],
   "source": [
    "# Рассмотрим строка со значением NaN\n",
    "data_nan = data[data['Tenure'].isna()]\n",
    "\n",
    "data_nan"
   ]
  },
  {
   "cell_type": "markdown",
   "metadata": {},
   "source": [
    "### Вывод \n",
    "\n",
    "По сколько строки со значениями NaN около 10% от обшего количества наблюдений, нецелесообразно их удаления. Заменяем значение NaN на медиану."
   ]
  },
  {
   "cell_type": "code",
   "execution_count": 9,
   "metadata": {},
   "outputs": [
    {
     "data": {
      "text/plain": [
       "RowNumber          0\n",
       "CustomerId         0\n",
       "Surname            0\n",
       "CreditScore        0\n",
       "Geography          0\n",
       "Gender             0\n",
       "Age                0\n",
       "Tenure             0\n",
       "Balance            0\n",
       "NumOfProducts      0\n",
       "HasCrCard          0\n",
       "IsActiveMember     0\n",
       "EstimatedSalary    0\n",
       "Exited             0\n",
       "dtype: int64"
      ]
     },
     "execution_count": 9,
     "metadata": {},
     "output_type": "execute_result"
    }
   ],
   "source": [
    "#Замена NaN значение на медиану\n",
    "df = data.fillna(data['Tenure'].median())\n",
    "df.isna().sum()"
   ]
  },
  {
   "cell_type": "code",
   "execution_count": 10,
   "metadata": {},
   "outputs": [
    {
     "data": {
      "text/plain": [
       "0"
      ]
     },
     "execution_count": 10,
     "metadata": {},
     "output_type": "execute_result"
    }
   ],
   "source": [
    "# Рассмотрение наличия дубликатов\n",
    "df.duplicated().sum()"
   ]
  },
  {
   "cell_type": "code",
   "execution_count": 11,
   "metadata": {},
   "outputs": [],
   "source": [
    "# Удаление столбцы RowNumber, CostumerID и Surname \n",
    "\n",
    "df_ok =  df.drop(['RowNumber', 'CustomerId', 'Surname'], axis = 1)"
   ]
  },
  {
   "cell_type": "markdown",
   "metadata": {},
   "source": [
    "<font color=\"green\"> В этот проект не рассматриваются модели с категориальныит признаками</font>"
   ]
  },
  {
   "cell_type": "code",
   "execution_count": 12,
   "metadata": {},
   "outputs": [],
   "source": [
    "# Импорт функции масштавиробания\n",
    "from sklearn.preprocessing import StandardScaler\n",
    "\n",
    "# Группа столбцов со значениями сильно отилчаюшихса от 1.\n",
    "numeric = ['CreditScore', 'Age', 'Tenure', 'Balance', 'EstimatedSalary']\n",
    "\n",
    "# Масштавирование значений в датафреиме\n",
    "scaler = StandardScaler()\n",
    "scaler.fit(df[numeric])\n",
    "df_ok[numeric] = scaler.transform(df_ok[numeric])\n"
   ]
  },
  {
   "cell_type": "code",
   "execution_count": 13,
   "metadata": {},
   "outputs": [
    {
     "data": {
      "text/html": [
       "<div>\n",
       "<style scoped>\n",
       "    .dataframe tbody tr th:only-of-type {\n",
       "        vertical-align: middle;\n",
       "    }\n",
       "\n",
       "    .dataframe tbody tr th {\n",
       "        vertical-align: top;\n",
       "    }\n",
       "\n",
       "    .dataframe thead th {\n",
       "        text-align: right;\n",
       "    }\n",
       "</style>\n",
       "<table border=\"1\" class=\"dataframe\">\n",
       "  <thead>\n",
       "    <tr style=\"text-align: right;\">\n",
       "      <th></th>\n",
       "      <th>CreditScore</th>\n",
       "      <th>Age</th>\n",
       "      <th>Tenure</th>\n",
       "      <th>Balance</th>\n",
       "      <th>NumOfProducts</th>\n",
       "      <th>HasCrCard</th>\n",
       "      <th>IsActiveMember</th>\n",
       "      <th>EstimatedSalary</th>\n",
       "      <th>Exited</th>\n",
       "      <th>Geography_Germany</th>\n",
       "      <th>Geography_Spain</th>\n",
       "      <th>Gender_Male</th>\n",
       "    </tr>\n",
       "  </thead>\n",
       "  <tbody>\n",
       "    <tr>\n",
       "      <td>0</td>\n",
       "      <td>-0.326221</td>\n",
       "      <td>0.293517</td>\n",
       "      <td>-1.086246</td>\n",
       "      <td>-1.225848</td>\n",
       "      <td>1</td>\n",
       "      <td>1</td>\n",
       "      <td>1</td>\n",
       "      <td>0.021886</td>\n",
       "      <td>1</td>\n",
       "      <td>0</td>\n",
       "      <td>0</td>\n",
       "      <td>0</td>\n",
       "    </tr>\n",
       "    <tr>\n",
       "      <td>1</td>\n",
       "      <td>-0.440036</td>\n",
       "      <td>0.198164</td>\n",
       "      <td>-1.448581</td>\n",
       "      <td>0.117350</td>\n",
       "      <td>1</td>\n",
       "      <td>0</td>\n",
       "      <td>1</td>\n",
       "      <td>0.216534</td>\n",
       "      <td>0</td>\n",
       "      <td>0</td>\n",
       "      <td>1</td>\n",
       "      <td>0</td>\n",
       "    </tr>\n",
       "    <tr>\n",
       "      <td>2</td>\n",
       "      <td>-1.536794</td>\n",
       "      <td>0.293517</td>\n",
       "      <td>1.087768</td>\n",
       "      <td>1.333053</td>\n",
       "      <td>3</td>\n",
       "      <td>1</td>\n",
       "      <td>0</td>\n",
       "      <td>0.240687</td>\n",
       "      <td>1</td>\n",
       "      <td>0</td>\n",
       "      <td>0</td>\n",
       "      <td>0</td>\n",
       "    </tr>\n",
       "    <tr>\n",
       "      <td>3</td>\n",
       "      <td>0.501521</td>\n",
       "      <td>0.007457</td>\n",
       "      <td>-1.448581</td>\n",
       "      <td>-1.225848</td>\n",
       "      <td>2</td>\n",
       "      <td>0</td>\n",
       "      <td>0</td>\n",
       "      <td>-0.108918</td>\n",
       "      <td>0</td>\n",
       "      <td>0</td>\n",
       "      <td>0</td>\n",
       "      <td>0</td>\n",
       "    </tr>\n",
       "    <tr>\n",
       "      <td>4</td>\n",
       "      <td>2.063884</td>\n",
       "      <td>0.388871</td>\n",
       "      <td>-1.086246</td>\n",
       "      <td>0.785728</td>\n",
       "      <td>1</td>\n",
       "      <td>1</td>\n",
       "      <td>1</td>\n",
       "      <td>-0.365276</td>\n",
       "      <td>0</td>\n",
       "      <td>0</td>\n",
       "      <td>1</td>\n",
       "      <td>0</td>\n",
       "    </tr>\n",
       "  </tbody>\n",
       "</table>\n",
       "</div>"
      ],
      "text/plain": [
       "   CreditScore       Age    Tenure   Balance  NumOfProducts  HasCrCard  \\\n",
       "0    -0.326221  0.293517 -1.086246 -1.225848              1          1   \n",
       "1    -0.440036  0.198164 -1.448581  0.117350              1          0   \n",
       "2    -1.536794  0.293517  1.087768  1.333053              3          1   \n",
       "3     0.501521  0.007457 -1.448581 -1.225848              2          0   \n",
       "4     2.063884  0.388871 -1.086246  0.785728              1          1   \n",
       "\n",
       "   IsActiveMember  EstimatedSalary  Exited  Geography_Germany  \\\n",
       "0               1         0.021886       1                  0   \n",
       "1               1         0.216534       0                  0   \n",
       "2               0         0.240687       1                  0   \n",
       "3               0        -0.108918       0                  0   \n",
       "4               1        -0.365276       0                  0   \n",
       "\n",
       "   Geography_Spain  Gender_Male  \n",
       "0                0            0  \n",
       "1                1            0  \n",
       "2                0            0  \n",
       "3                0            0  \n",
       "4                1            0  "
      ]
     },
     "execution_count": 13,
     "metadata": {},
     "output_type": "execute_result"
    }
   ],
   "source": [
    "# Кодирование категориальных наблюдений \n",
    "df_ohe = pd.get_dummies(df_ok, drop_first = True)\n",
    "\n",
    "df_ohe.head()"
   ]
  },
  {
   "cell_type": "markdown",
   "metadata": {},
   "source": [
    " ### Вывод\n",
    " \n",
    " Возникает гипотезу о том что признаки RowNumber, CustomerID и Surname негативно вляют на модель предсказание поскольку эти признаки либо назначеные либо абсолютно случаинные. Поэтому создадим два датафрейима чтобы проверить гипотезу. \n",
    " \n",
    " <font color=\"green\"> Данную гипотезу не проверяем на этом проекте."
   ]
  },
  {
   "cell_type": "code",
   "execution_count": 14,
   "metadata": {},
   "outputs": [],
   "source": [
    "from sklearn.model_selection import train_test_split\n",
    "\n",
    "\n",
    "\n",
    "# Назначение признаков \n",
    "features = df_ohe.drop(['Exited'], axis = 1)\n",
    "target = df_ohe['Exited']\n"
   ]
  },
  {
   "cell_type": "code",
   "execution_count": 15,
   "metadata": {},
   "outputs": [],
   "source": [
    "# Определяем функцию для того чтобы разделить датасет на 3 части : обущающий, валидацилный и тестовый\n",
    "\n",
    "def train_test_validate_split(features, targets, test_size=0.2, validate_size=0.1):\n",
    "    # Делим на обучующую и тестовую часть\n",
    "    features_train, features_test, target_train, target_test = train_test_split(\n",
    "        features,\n",
    "        targets,\n",
    "        stratify=targets,\n",
    "        test_size=test_size\n",
    "    )\n",
    "    # Воторой раз делим датачет\n",
    "    post_split_validate_size = validate_size / (1 - test_size)\n",
    "    features_train, features_valid, target_train, target_valid = train_test_split(\n",
    "        features_train,\n",
    "        target_train,\n",
    "        stratify=target_train,\n",
    "        test_size=post_split_validate_size\n",
    "    )\n",
    "    return features_train, features_test, features_valid, target_train, target_test, target_valid"
   ]
  },
  {
   "cell_type": "code",
   "execution_count": 16,
   "metadata": {},
   "outputs": [],
   "source": [
    "# Применение функций деления датасета на 3 части \n",
    "features_train, features_test, features_valid, target_train, target_test, target_valid =(\n",
    "    train_test_validate_split(features, target) )\n"
   ]
  },
  {
   "cell_type": "code",
   "execution_count": 17,
   "metadata": {},
   "outputs": [],
   "source": [
    "#Именование стольбцов для далнейщего обработка в цикле\n",
    "\n",
    "features_train.name = 'features_train'\n",
    "features_test.name = 'features_test'\n",
    "features_valid.name = 'features_valid'\n",
    "target_train.name = 'target_train'\n",
    "target_test.name = 'target_test'\n",
    "target_valid.name = 'target_valid'"
   ]
  },
  {
   "cell_type": "code",
   "execution_count": 18,
   "metadata": {},
   "outputs": [
    {
     "name": "stdout",
     "output_type": "stream",
     "text": [
      "Длина датафрэйма features_train : (7000, 11)\n",
      "Длина датафрэйма features_test : (2000, 11)\n",
      "Длина датафрэйма features_valid : (1000, 11)\n",
      "Длина датафрэйма target_train : (7000,)\n",
      "Длина датафрэйма target_test : (2000,)\n",
      "Длина датафрэйма target_valid : (1000,)\n"
     ]
    }
   ],
   "source": [
    "# Проверка длины датасетов \n",
    "\n",
    "for data in (features_train, features_test, features_valid, target_train, target_test, target_valid ):\n",
    "    print('Длина датафрэйма', data.name  ,':', data.shape)"
   ]
  },
  {
   "cell_type": "markdown",
   "metadata": {},
   "source": []
  },
  {
   "cell_type": "markdown",
   "metadata": {},
   "source": [
    "# 2. Исследование задачи"
   ]
  },
  {
   "cell_type": "code",
   "execution_count": 19,
   "metadata": {},
   "outputs": [],
   "source": [
    "# Импорт библиотеки \n",
    "from sklearn.linear_model import LogisticRegression\n",
    "from sklearn.tree import DecisionTreeClassifier\n",
    "from sklearn.ensemble import RandomForestClassifier\n",
    "from sklearn.metrics import accuracy_score\n",
    "from sklearn.metrics import f1_score\n",
    "import  matplotlib.pyplot as plt\n",
    "import numpy as np\n",
    "import warnings\n",
    "warnings.simplefilter(\"ignore\")"
   ]
  },
  {
   "cell_type": "code",
   "execution_count": 20,
   "metadata": {},
   "outputs": [],
   "source": [
    "\n",
    "# Определяем функцию которая расчитивает точности при разнных глубин деоева\n",
    "def search_hyperparameter (modelML, low, high, step):\n",
    "    train = []\n",
    "    valid = []\n",
    "    f1 = []\n",
    "    \n",
    "    for hyperp in range(low, high, step):\n",
    "        model = modelML(random_state = 12345 ,  max_depth = hyperp)\n",
    "        model.fit(features_train, target_train)\n",
    "    \n",
    "        predict_train = model.predict(features_train)\n",
    "        accuracy_train = accuracy_score(target_train, predict_train)\n",
    "        train.append(accuracy_train)\n",
    "    \n",
    "        prediction_valid = model.predict(features_valid)\n",
    "        accuracy_valid = accuracy_score(target_valid, prediction_valid)\n",
    "        valid.append(accuracy_valid)\n",
    "        \n",
    "        f1_value = f1_score(target_valid, prediction_valid)\n",
    "        f1.append(f1_value)\n",
    "        \n",
    "    results= pd.DataFrame( [train, valid, f1],\n",
    "                           columns = range(low,high,step)).T.reset_index()                        \n",
    "                           \n",
    "    results.columns = ['parametr','accuracy train','accuracy valid', 'f1 score']\n",
    "    \n",
    "    return results\n",
    "\n",
    "    "
   ]
  },
  {
   "cell_type": "code",
   "execution_count": 21,
   "metadata": {},
   "outputs": [
    {
     "name": "stdout",
     "output_type": "stream",
     "text": [
      "    parametr  accuracy train  accuracy valid  f1 score\n",
      "0          1        0.796286           0.796  0.000000\n",
      "1          2        0.831286           0.831  0.510145\n",
      "2          3        0.845429           0.849  0.462633\n",
      "3          4        0.851857           0.853  0.539185\n",
      "4          5        0.858714           0.859  0.505263\n",
      "5          6        0.868429           0.868  0.579618\n",
      "6          7        0.872286           0.857  0.540193\n",
      "7          8        0.884857           0.853  0.578797\n",
      "8          9        0.896429           0.852  0.554217\n",
      "9         10        0.910714           0.844  0.549133\n",
      "10        11        0.926000           0.838  0.534483\n",
      "11        12        0.941857           0.835  0.535211\n",
      "12        13        0.953143           0.827  0.520776\n",
      "13        14        0.964000           0.825  0.535809\n",
      "14        15        0.973143           0.821  0.530184\n",
      "15        16        0.979714           0.821  0.544529\n",
      "16        17        0.985143           0.804  0.497436\n",
      "17        18        0.989571           0.806  0.500000\n",
      "18        19        0.993571           0.811  0.519084\n",
      "19        20        0.996571           0.808  0.520000\n"
     ]
    }
   ],
   "source": [
    "# Применяем функцию перебора гиперпараметра для рещаюшего дерево классификатора\n",
    "dtc = search_hyperparameter(DecisionTreeClassifier, 1, 21, 1)\n",
    "\n",
    "print(dtc)"
   ]
  },
  {
   "cell_type": "code",
   "execution_count": 22,
   "metadata": {},
   "outputs": [],
   "source": [
    "# Определение функций построения графика accuracy и f1_score для датасетов с категориальными и без ктегориалных признаков дла дерево класификатора.\n",
    "\n",
    "def plot_results (data, low, high, title):\n",
    "    x = data['parametr']\n",
    "    y = data['accuracy train']\n",
    "    z = data['accuracy valid']\n",
    "    k = data['f1 score']\n",
    "    plt.figure(figsize=(15,5))\n",
    "    plt.xlim(low,high)\n",
    "    plt.ylim(data['f1 score'].min(),1)\n",
    "    plt.xlabel('Hyperparametr')\n",
    "    plt.ylabel('Accuracy, F1_score')\n",
    "    plt.plot(x, y , color='blue', label = 'Accuracy train')\n",
    "    plt.plot(x,z,  color = 'green', label = 'Accuracy valid')\n",
    "    plt.plot(x, k , color='y', label = 'F1 score')\n",
    "    plt.grid()\n",
    "    plt.legend()\n",
    "    plt.title(title)\n",
    "    plt.show()"
   ]
  },
  {
   "cell_type": "code",
   "execution_count": 23,
   "metadata": {},
   "outputs": [
    {
     "data": {
      "image/png": "[encoded data removed]",
      "text/plain": [
       "<Figure size 1080x360 with 1 Axes>"
      ]
     },
     "metadata": {
      "needs_background": "light"
     },
     "output_type": "display_data"
    }
   ],
   "source": [
    "# Применение фукции построение графика при рещаюшим деревом.\n",
    "plot_results(dtc, 1,19, 'Decision Tree Classifier max_depth vs Accuracy and f1_score')"
   ]
  },
  {
   "cell_type": "markdown",
   "metadata": {},
   "source": [
    "### Вывод\n",
    "\n",
    "При сравнении модель решаюшего дерево применены к датасетам с категориальныими признаками и без них, наблюдается что при увеличение глубины дерево кривые расходятся, то что связано с переобчением модели.\n",
    " \n",
    " При сравнении модель решаюшего дерево c увеличением глубины дерево значении accuracy расходятся что свидительствует о перелбучение модели. Оптималное значение глубины дерево max_depth = 6, что совпадает с найбольшем полученным значением f1 score = 0,569"
   ]
  },
  {
   "cell_type": "code",
   "execution_count": 24,
   "metadata": {},
   "outputs": [
    {
     "data": {
      "text/html": [
       "<div>\n",
       "<style scoped>\n",
       "    .dataframe tbody tr th:only-of-type {\n",
       "        vertical-align: middle;\n",
       "    }\n",
       "\n",
       "    .dataframe tbody tr th {\n",
       "        vertical-align: top;\n",
       "    }\n",
       "\n",
       "    .dataframe thead th {\n",
       "        text-align: right;\n",
       "    }\n",
       "</style>\n",
       "<table border=\"1\" class=\"dataframe\">\n",
       "  <thead>\n",
       "    <tr style=\"text-align: right;\">\n",
       "      <th></th>\n",
       "      <th>parametr</th>\n",
       "      <th>accuracy train</th>\n",
       "      <th>accuracy valid</th>\n",
       "      <th>f1 score</th>\n",
       "    </tr>\n",
       "  </thead>\n",
       "  <tbody>\n",
       "    <tr>\n",
       "      <td>0</td>\n",
       "      <td>1</td>\n",
       "      <td>0.796286</td>\n",
       "      <td>0.796</td>\n",
       "      <td>0.000000</td>\n",
       "    </tr>\n",
       "    <tr>\n",
       "      <td>1</td>\n",
       "      <td>2</td>\n",
       "      <td>0.815143</td>\n",
       "      <td>0.820</td>\n",
       "      <td>0.217391</td>\n",
       "    </tr>\n",
       "    <tr>\n",
       "      <td>2</td>\n",
       "      <td>3</td>\n",
       "      <td>0.819714</td>\n",
       "      <td>0.820</td>\n",
       "      <td>0.224138</td>\n",
       "    </tr>\n",
       "    <tr>\n",
       "      <td>3</td>\n",
       "      <td>4</td>\n",
       "      <td>0.855143</td>\n",
       "      <td>0.854</td>\n",
       "      <td>0.510067</td>\n",
       "    </tr>\n",
       "    <tr>\n",
       "      <td>4</td>\n",
       "      <td>5</td>\n",
       "      <td>0.854857</td>\n",
       "      <td>0.856</td>\n",
       "      <td>0.482014</td>\n",
       "    </tr>\n",
       "    <tr>\n",
       "      <td>5</td>\n",
       "      <td>6</td>\n",
       "      <td>0.867000</td>\n",
       "      <td>0.861</td>\n",
       "      <td>0.541254</td>\n",
       "    </tr>\n",
       "    <tr>\n",
       "      <td>6</td>\n",
       "      <td>7</td>\n",
       "      <td>0.874286</td>\n",
       "      <td>0.860</td>\n",
       "      <td>0.530201</td>\n",
       "    </tr>\n",
       "    <tr>\n",
       "      <td>7</td>\n",
       "      <td>8</td>\n",
       "      <td>0.881714</td>\n",
       "      <td>0.861</td>\n",
       "      <td>0.535117</td>\n",
       "    </tr>\n",
       "    <tr>\n",
       "      <td>8</td>\n",
       "      <td>9</td>\n",
       "      <td>0.889714</td>\n",
       "      <td>0.861</td>\n",
       "      <td>0.541254</td>\n",
       "    </tr>\n",
       "    <tr>\n",
       "      <td>9</td>\n",
       "      <td>10</td>\n",
       "      <td>0.901143</td>\n",
       "      <td>0.866</td>\n",
       "      <td>0.570513</td>\n",
       "    </tr>\n",
       "    <tr>\n",
       "      <td>10</td>\n",
       "      <td>11</td>\n",
       "      <td>0.917857</td>\n",
       "      <td>0.866</td>\n",
       "      <td>0.578616</td>\n",
       "    </tr>\n",
       "    <tr>\n",
       "      <td>11</td>\n",
       "      <td>12</td>\n",
       "      <td>0.931143</td>\n",
       "      <td>0.859</td>\n",
       "      <td>0.555205</td>\n",
       "    </tr>\n",
       "    <tr>\n",
       "      <td>12</td>\n",
       "      <td>13</td>\n",
       "      <td>0.941714</td>\n",
       "      <td>0.866</td>\n",
       "      <td>0.578616</td>\n",
       "    </tr>\n",
       "    <tr>\n",
       "      <td>13</td>\n",
       "      <td>14</td>\n",
       "      <td>0.958429</td>\n",
       "      <td>0.868</td>\n",
       "      <td>0.584906</td>\n",
       "    </tr>\n",
       "    <tr>\n",
       "      <td>14</td>\n",
       "      <td>15</td>\n",
       "      <td>0.967429</td>\n",
       "      <td>0.849</td>\n",
       "      <td>0.538226</td>\n",
       "    </tr>\n",
       "    <tr>\n",
       "      <td>15</td>\n",
       "      <td>16</td>\n",
       "      <td>0.979143</td>\n",
       "      <td>0.862</td>\n",
       "      <td>0.568750</td>\n",
       "    </tr>\n",
       "    <tr>\n",
       "      <td>16</td>\n",
       "      <td>17</td>\n",
       "      <td>0.981571</td>\n",
       "      <td>0.856</td>\n",
       "      <td>0.555556</td>\n",
       "    </tr>\n",
       "    <tr>\n",
       "      <td>17</td>\n",
       "      <td>18</td>\n",
       "      <td>0.982429</td>\n",
       "      <td>0.862</td>\n",
       "      <td>0.568750</td>\n",
       "    </tr>\n",
       "    <tr>\n",
       "      <td>18</td>\n",
       "      <td>19</td>\n",
       "      <td>0.984143</td>\n",
       "      <td>0.857</td>\n",
       "      <td>0.554517</td>\n",
       "    </tr>\n",
       "    <tr>\n",
       "      <td>19</td>\n",
       "      <td>20</td>\n",
       "      <td>0.986429</td>\n",
       "      <td>0.858</td>\n",
       "      <td>0.553459</td>\n",
       "    </tr>\n",
       "    <tr>\n",
       "      <td>20</td>\n",
       "      <td>21</td>\n",
       "      <td>0.985286</td>\n",
       "      <td>0.851</td>\n",
       "      <td>0.526984</td>\n",
       "    </tr>\n",
       "    <tr>\n",
       "      <td>21</td>\n",
       "      <td>22</td>\n",
       "      <td>0.983714</td>\n",
       "      <td>0.855</td>\n",
       "      <td>0.530744</td>\n",
       "    </tr>\n",
       "    <tr>\n",
       "      <td>22</td>\n",
       "      <td>23</td>\n",
       "      <td>0.984429</td>\n",
       "      <td>0.850</td>\n",
       "      <td>0.525316</td>\n",
       "    </tr>\n",
       "    <tr>\n",
       "      <td>23</td>\n",
       "      <td>24</td>\n",
       "      <td>0.984714</td>\n",
       "      <td>0.853</td>\n",
       "      <td>0.536278</td>\n",
       "    </tr>\n",
       "    <tr>\n",
       "      <td>24</td>\n",
       "      <td>25</td>\n",
       "      <td>0.985000</td>\n",
       "      <td>0.854</td>\n",
       "      <td>0.532051</td>\n",
       "    </tr>\n",
       "    <tr>\n",
       "      <td>25</td>\n",
       "      <td>26</td>\n",
       "      <td>0.985286</td>\n",
       "      <td>0.855</td>\n",
       "      <td>0.536741</td>\n",
       "    </tr>\n",
       "    <tr>\n",
       "      <td>26</td>\n",
       "      <td>27</td>\n",
       "      <td>0.985286</td>\n",
       "      <td>0.855</td>\n",
       "      <td>0.536741</td>\n",
       "    </tr>\n",
       "    <tr>\n",
       "      <td>27</td>\n",
       "      <td>28</td>\n",
       "      <td>0.985286</td>\n",
       "      <td>0.855</td>\n",
       "      <td>0.536741</td>\n",
       "    </tr>\n",
       "    <tr>\n",
       "      <td>28</td>\n",
       "      <td>29</td>\n",
       "      <td>0.985286</td>\n",
       "      <td>0.855</td>\n",
       "      <td>0.536741</td>\n",
       "    </tr>\n",
       "    <tr>\n",
       "      <td>29</td>\n",
       "      <td>30</td>\n",
       "      <td>0.985286</td>\n",
       "      <td>0.855</td>\n",
       "      <td>0.536741</td>\n",
       "    </tr>\n",
       "    <tr>\n",
       "      <td>30</td>\n",
       "      <td>31</td>\n",
       "      <td>0.985286</td>\n",
       "      <td>0.855</td>\n",
       "      <td>0.536741</td>\n",
       "    </tr>\n",
       "    <tr>\n",
       "      <td>31</td>\n",
       "      <td>32</td>\n",
       "      <td>0.985286</td>\n",
       "      <td>0.855</td>\n",
       "      <td>0.536741</td>\n",
       "    </tr>\n",
       "    <tr>\n",
       "      <td>32</td>\n",
       "      <td>33</td>\n",
       "      <td>0.985286</td>\n",
       "      <td>0.855</td>\n",
       "      <td>0.536741</td>\n",
       "    </tr>\n",
       "    <tr>\n",
       "      <td>33</td>\n",
       "      <td>34</td>\n",
       "      <td>0.985286</td>\n",
       "      <td>0.855</td>\n",
       "      <td>0.536741</td>\n",
       "    </tr>\n",
       "    <tr>\n",
       "      <td>34</td>\n",
       "      <td>35</td>\n",
       "      <td>0.985286</td>\n",
       "      <td>0.855</td>\n",
       "      <td>0.536741</td>\n",
       "    </tr>\n",
       "    <tr>\n",
       "      <td>35</td>\n",
       "      <td>36</td>\n",
       "      <td>0.985286</td>\n",
       "      <td>0.855</td>\n",
       "      <td>0.536741</td>\n",
       "    </tr>\n",
       "    <tr>\n",
       "      <td>36</td>\n",
       "      <td>37</td>\n",
       "      <td>0.985286</td>\n",
       "      <td>0.855</td>\n",
       "      <td>0.536741</td>\n",
       "    </tr>\n",
       "    <tr>\n",
       "      <td>37</td>\n",
       "      <td>38</td>\n",
       "      <td>0.985286</td>\n",
       "      <td>0.855</td>\n",
       "      <td>0.536741</td>\n",
       "    </tr>\n",
       "    <tr>\n",
       "      <td>38</td>\n",
       "      <td>39</td>\n",
       "      <td>0.985286</td>\n",
       "      <td>0.855</td>\n",
       "      <td>0.536741</td>\n",
       "    </tr>\n",
       "    <tr>\n",
       "      <td>39</td>\n",
       "      <td>40</td>\n",
       "      <td>0.985286</td>\n",
       "      <td>0.855</td>\n",
       "      <td>0.536741</td>\n",
       "    </tr>\n",
       "  </tbody>\n",
       "</table>\n",
       "</div>"
      ],
      "text/plain": [
       "    parametr  accuracy train  accuracy valid  f1 score\n",
       "0          1        0.796286           0.796  0.000000\n",
       "1          2        0.815143           0.820  0.217391\n",
       "2          3        0.819714           0.820  0.224138\n",
       "3          4        0.855143           0.854  0.510067\n",
       "4          5        0.854857           0.856  0.482014\n",
       "5          6        0.867000           0.861  0.541254\n",
       "6          7        0.874286           0.860  0.530201\n",
       "7          8        0.881714           0.861  0.535117\n",
       "8          9        0.889714           0.861  0.541254\n",
       "9         10        0.901143           0.866  0.570513\n",
       "10        11        0.917857           0.866  0.578616\n",
       "11        12        0.931143           0.859  0.555205\n",
       "12        13        0.941714           0.866  0.578616\n",
       "13        14        0.958429           0.868  0.584906\n",
       "14        15        0.967429           0.849  0.538226\n",
       "15        16        0.979143           0.862  0.568750\n",
       "16        17        0.981571           0.856  0.555556\n",
       "17        18        0.982429           0.862  0.568750\n",
       "18        19        0.984143           0.857  0.554517\n",
       "19        20        0.986429           0.858  0.553459\n",
       "20        21        0.985286           0.851  0.526984\n",
       "21        22        0.983714           0.855  0.530744\n",
       "22        23        0.984429           0.850  0.525316\n",
       "23        24        0.984714           0.853  0.536278\n",
       "24        25        0.985000           0.854  0.532051\n",
       "25        26        0.985286           0.855  0.536741\n",
       "26        27        0.985286           0.855  0.536741\n",
       "27        28        0.985286           0.855  0.536741\n",
       "28        29        0.985286           0.855  0.536741\n",
       "29        30        0.985286           0.855  0.536741\n",
       "30        31        0.985286           0.855  0.536741\n",
       "31        32        0.985286           0.855  0.536741\n",
       "32        33        0.985286           0.855  0.536741\n",
       "33        34        0.985286           0.855  0.536741\n",
       "34        35        0.985286           0.855  0.536741\n",
       "35        36        0.985286           0.855  0.536741\n",
       "36        37        0.985286           0.855  0.536741\n",
       "37        38        0.985286           0.855  0.536741\n",
       "38        39        0.985286           0.855  0.536741\n",
       "39        40        0.985286           0.855  0.536741"
      ]
     },
     "execution_count": 24,
     "metadata": {},
     "output_type": "execute_result"
    }
   ],
   "source": [
    "# Применяем функцию перебора гиперпараметра для случйного леса\n",
    "rfc = search_hyperparameter(RandomForestClassifier, 1, 41, 1)\n",
    "\n",
    "rfc\n"
   ]
  },
  {
   "cell_type": "code",
   "execution_count": 25,
   "metadata": {},
   "outputs": [
    {
     "data": {
      "image/png": "[encoded data removed]",
      "text/plain": [
       "<Figure size 1080x360 with 1 Axes>"
      ]
     },
     "metadata": {
      "needs_background": "light"
     },
     "output_type": "display_data"
    }
   ],
   "source": [
    "plot_results(rfc, 1,40, 'Random Forest Classifier max_depth vs Accuracy and f1_score')"
   ]
  },
  {
   "cell_type": "markdown",
   "metadata": {},
   "source": [
    "### Вывод\n",
    "\n",
    "При сравнении модель случайного дерево c увеличением глубины дерево значении accuracy расходятся что свидительствует о перелбучение модели. Оптималное значение глубины дерево max_depth = 8. После данного значения переобучения модели значительно наблюдается на расхождения крвых точности обучающей выборке и вылидационой выборке."
   ]
  },
  {
   "cell_type": "code",
   "execution_count": 26,
   "metadata": {},
   "outputs": [
    {
     "data": {
      "text/html": [
       "<div>\n",
       "<style scoped>\n",
       "    .dataframe tbody tr th:only-of-type {\n",
       "        vertical-align: middle;\n",
       "    }\n",
       "\n",
       "    .dataframe tbody tr th {\n",
       "        vertical-align: top;\n",
       "    }\n",
       "\n",
       "    .dataframe thead th {\n",
       "        text-align: right;\n",
       "    }\n",
       "</style>\n",
       "<table border=\"1\" class=\"dataframe\">\n",
       "  <thead>\n",
       "    <tr style=\"text-align: right;\">\n",
       "      <th></th>\n",
       "      <th>parametr</th>\n",
       "      <th>accuracy train</th>\n",
       "      <th>accuracy valid</th>\n",
       "      <th>f1 score</th>\n",
       "    </tr>\n",
       "  </thead>\n",
       "  <tbody>\n",
       "    <tr>\n",
       "      <td>0</td>\n",
       "      <td>1</td>\n",
       "      <td>0.792571</td>\n",
       "      <td>0.795</td>\n",
       "      <td>0.208494</td>\n",
       "    </tr>\n",
       "    <tr>\n",
       "      <td>1</td>\n",
       "      <td>2</td>\n",
       "      <td>0.812571</td>\n",
       "      <td>0.815</td>\n",
       "      <td>0.322344</td>\n",
       "    </tr>\n",
       "    <tr>\n",
       "      <td>2</td>\n",
       "      <td>3</td>\n",
       "      <td>0.813571</td>\n",
       "      <td>0.817</td>\n",
       "      <td>0.344086</td>\n",
       "    </tr>\n",
       "    <tr>\n",
       "      <td>3</td>\n",
       "      <td>4</td>\n",
       "      <td>0.812714</td>\n",
       "      <td>0.817</td>\n",
       "      <td>0.348754</td>\n",
       "    </tr>\n",
       "    <tr>\n",
       "      <td>4</td>\n",
       "      <td>5</td>\n",
       "      <td>0.812714</td>\n",
       "      <td>0.816</td>\n",
       "      <td>0.342857</td>\n",
       "    </tr>\n",
       "    <tr>\n",
       "      <td>5</td>\n",
       "      <td>6</td>\n",
       "      <td>0.812714</td>\n",
       "      <td>0.816</td>\n",
       "      <td>0.342857</td>\n",
       "    </tr>\n",
       "    <tr>\n",
       "      <td>6</td>\n",
       "      <td>7</td>\n",
       "      <td>0.812714</td>\n",
       "      <td>0.816</td>\n",
       "      <td>0.342857</td>\n",
       "    </tr>\n",
       "    <tr>\n",
       "      <td>7</td>\n",
       "      <td>8</td>\n",
       "      <td>0.812714</td>\n",
       "      <td>0.816</td>\n",
       "      <td>0.342857</td>\n",
       "    </tr>\n",
       "    <tr>\n",
       "      <td>8</td>\n",
       "      <td>9</td>\n",
       "      <td>0.812714</td>\n",
       "      <td>0.816</td>\n",
       "      <td>0.342857</td>\n",
       "    </tr>\n",
       "    <tr>\n",
       "      <td>9</td>\n",
       "      <td>10</td>\n",
       "      <td>0.812714</td>\n",
       "      <td>0.816</td>\n",
       "      <td>0.342857</td>\n",
       "    </tr>\n",
       "    <tr>\n",
       "      <td>10</td>\n",
       "      <td>11</td>\n",
       "      <td>0.812714</td>\n",
       "      <td>0.816</td>\n",
       "      <td>0.342857</td>\n",
       "    </tr>\n",
       "    <tr>\n",
       "      <td>11</td>\n",
       "      <td>12</td>\n",
       "      <td>0.812714</td>\n",
       "      <td>0.816</td>\n",
       "      <td>0.342857</td>\n",
       "    </tr>\n",
       "    <tr>\n",
       "      <td>12</td>\n",
       "      <td>13</td>\n",
       "      <td>0.812714</td>\n",
       "      <td>0.816</td>\n",
       "      <td>0.342857</td>\n",
       "    </tr>\n",
       "    <tr>\n",
       "      <td>13</td>\n",
       "      <td>14</td>\n",
       "      <td>0.812714</td>\n",
       "      <td>0.816</td>\n",
       "      <td>0.342857</td>\n",
       "    </tr>\n",
       "    <tr>\n",
       "      <td>14</td>\n",
       "      <td>15</td>\n",
       "      <td>0.812714</td>\n",
       "      <td>0.816</td>\n",
       "      <td>0.342857</td>\n",
       "    </tr>\n",
       "    <tr>\n",
       "      <td>15</td>\n",
       "      <td>16</td>\n",
       "      <td>0.812714</td>\n",
       "      <td>0.816</td>\n",
       "      <td>0.342857</td>\n",
       "    </tr>\n",
       "    <tr>\n",
       "      <td>16</td>\n",
       "      <td>17</td>\n",
       "      <td>0.812714</td>\n",
       "      <td>0.816</td>\n",
       "      <td>0.342857</td>\n",
       "    </tr>\n",
       "    <tr>\n",
       "      <td>17</td>\n",
       "      <td>18</td>\n",
       "      <td>0.812714</td>\n",
       "      <td>0.816</td>\n",
       "      <td>0.342857</td>\n",
       "    </tr>\n",
       "    <tr>\n",
       "      <td>18</td>\n",
       "      <td>19</td>\n",
       "      <td>0.812714</td>\n",
       "      <td>0.816</td>\n",
       "      <td>0.342857</td>\n",
       "    </tr>\n",
       "    <tr>\n",
       "      <td>19</td>\n",
       "      <td>20</td>\n",
       "      <td>0.812714</td>\n",
       "      <td>0.816</td>\n",
       "      <td>0.342857</td>\n",
       "    </tr>\n",
       "  </tbody>\n",
       "</table>\n",
       "</div>"
      ],
      "text/plain": [
       "    parametr  accuracy train  accuracy valid  f1 score\n",
       "0          1        0.792571           0.795  0.208494\n",
       "1          2        0.812571           0.815  0.322344\n",
       "2          3        0.813571           0.817  0.344086\n",
       "3          4        0.812714           0.817  0.348754\n",
       "4          5        0.812714           0.816  0.342857\n",
       "5          6        0.812714           0.816  0.342857\n",
       "6          7        0.812714           0.816  0.342857\n",
       "7          8        0.812714           0.816  0.342857\n",
       "8          9        0.812714           0.816  0.342857\n",
       "9         10        0.812714           0.816  0.342857\n",
       "10        11        0.812714           0.816  0.342857\n",
       "11        12        0.812714           0.816  0.342857\n",
       "12        13        0.812714           0.816  0.342857\n",
       "13        14        0.812714           0.816  0.342857\n",
       "14        15        0.812714           0.816  0.342857\n",
       "15        16        0.812714           0.816  0.342857\n",
       "16        17        0.812714           0.816  0.342857\n",
       "17        18        0.812714           0.816  0.342857\n",
       "18        19        0.812714           0.816  0.342857\n",
       "19        20        0.812714           0.816  0.342857"
      ]
     },
     "execution_count": 26,
     "metadata": {},
     "output_type": "execute_result"
    }
   ],
   "source": [
    "# Подбор гиперпараметра для логистической регресии\n",
    "train_lr = []\n",
    "valid_lr = []\n",
    "f1_lr = []\n",
    "    \n",
    "for inter in range(1, 21, 1):\n",
    "    model = LogisticRegression(random_state=12345, solver = 'liblinear' , max_iter = inter)\n",
    "    model.fit(features_train, target_train)\n",
    "    \n",
    "    predict_train = model.predict(features_train)\n",
    "    accuracy_train = accuracy_score(target_train, predict_train)\n",
    "    train_lr.append(accuracy_train)\n",
    "    \n",
    "    prediction_valid = model.predict(features_valid)\n",
    "    accuracy_valid = accuracy_score(target_valid, prediction_valid)\n",
    "    valid_lr.append(accuracy_valid)\n",
    "        \n",
    "    f1_value = f1_score(target_valid, prediction_valid)\n",
    "    f1_lr.append(f1_value)\n",
    "        \n",
    "lr= pd.DataFrame( [train_lr, valid_lr, f1_lr],\n",
    "                           columns = range(1, 21 ,1)).T.reset_index()                        \n",
    "                           \n",
    "lr.columns = ['parametr','accuracy train','accuracy valid', 'f1 score']\n",
    "    \n",
    "lr\n"
   ]
  },
  {
   "cell_type": "code",
   "execution_count": 27,
   "metadata": {},
   "outputs": [
    {
     "data": {
      "image/png": "[encoded data removed]",
      "text/plain": [
       "<Figure size 1080x360 with 1 Axes>"
      ]
     },
     "metadata": {
      "needs_background": "light"
     },
     "output_type": "display_data"
    }
   ],
   "source": [
    "plot_results(lr, 1,20, 'Logistic Regression max_depth vs Accuracy and f1_score')"
   ]
  },
  {
   "cell_type": "markdown",
   "metadata": {},
   "source": [
    "### Вывод\n",
    "\n",
    " Модель логистической регрессии рассчитал наименьшее значение f1 score. Оптимальное количество инерации 10. В дальнейшем не обрабативается данный моделю на тестовый датасет."
   ]
  },
  {
   "cell_type": "code",
   "execution_count": 28,
   "metadata": {},
   "outputs": [
    {
     "name": "stdout",
     "output_type": "stream",
     "text": [
      "0    0.7963\n",
      "1    0.2037\n",
      "Name: Exited, dtype: float64\n"
     ]
    },
    {
     "data": {
      "text/plain": [
       "<matplotlib.axes._subplots.AxesSubplot at 0x285252ecb08>"
      ]
     },
     "execution_count": 28,
     "metadata": {},
     "output_type": "execute_result"
    },
    {
     "data": {
      "image/png": "[encoded data removed]",
      "text/plain": [
       "<Figure size 432x288 with 1 Axes>"
      ]
     },
     "metadata": {
      "needs_background": "light"
     },
     "output_type": "display_data"
    }
   ],
   "source": [
    "# Частота классов целового признака\n",
    "class_frequency  =  df_ohe['Exited'].value_counts(normalize = True)\n",
    "print(class_frequency)\n",
    "class_frequency.plot(kind = 'bar')"
   ]
  },
  {
   "cell_type": "markdown",
   "metadata": {},
   "source": [
    "### Вывод\n",
    "\n",
    "Наблюдается дисбаланс классов исследуемыого датафрэйма."
   ]
  },
  {
   "cell_type": "code",
   "execution_count": 29,
   "metadata": {},
   "outputs": [
    {
     "name": "stdout",
     "output_type": "stream",
     "text": [
      "0    0.858\n",
      "1    0.142\n",
      "dtype: float64\n",
      "0.844\n"
     ]
    },
    {
     "data": {
      "image/png": "[encoded data removed]",
      "text/plain": [
       "<Figure size 432x288 with 1 Axes>"
      ]
     },
     "metadata": {
      "needs_background": "light"
     },
     "output_type": "display_data"
    }
   ],
   "source": [
    "# Проверка модели рещающего дерево на адвекватность\n",
    "optimal_dt =  DecisionTreeClassifier(max_depth = 10 ,  random_state = 12345)\n",
    "optimal_dt.fit(features_train, target_train)\n",
    "\n",
    "predict_valid_dt = pd.Series(optimal_dt.predict(features_valid))\n",
    "\n",
    "class_frequency_dt = predict_valid_dt.value_counts(normalize = True)\n",
    "\n",
    "print(class_frequency_dt)\n",
    "\n",
    "class_frequency_dt.plot(kind = 'bar')\n",
    "\n",
    "print(accuracy_score(target_valid, predict_valid_dt))"
   ]
  },
  {
   "cell_type": "code",
   "execution_count": 30,
   "metadata": {},
   "outputs": [
    {
     "name": "stdout",
     "output_type": "stream",
     "text": [
      "0    0.892\n",
      "1    0.108\n",
      "dtype: float64\n",
      "0.866\n"
     ]
    },
    {
     "data": {
      "image/png": "[encoded data removed]",
      "text/plain": [
       "<Figure size 432x288 with 1 Axes>"
      ]
     },
     "metadata": {
      "needs_background": "light"
     },
     "output_type": "display_data"
    }
   ],
   "source": [
    "# Проверка модели случайного леса  на адвекватность\n",
    "optimal_rf =  RandomForestClassifier(random_state=12345,  max_depth = 10)\n",
    "optimal_rf.fit(features_train, target_train)\n",
    "\n",
    " \n",
    "predict_valid_rf = pd.Series(optimal_rf.predict(features_valid))\n",
    "\n",
    "class_frequency_rf = predict_valid_rf.value_counts(normalize = True) \n",
    "\n",
    "print(class_frequency_rf)\n",
    "\n",
    "class_frequency_rf.plot(kind = 'bar')\n",
    "\n",
    "print(accuracy_score(target_valid, predict_valid_rf))"
   ]
  },
  {
   "cell_type": "code",
   "execution_count": 31,
   "metadata": {},
   "outputs": [
    {
     "name": "stdout",
     "output_type": "stream",
     "text": [
      "0.7963\n",
      "0       0\n",
      "1       0\n",
      "2       0\n",
      "3       0\n",
      "4       0\n",
      "       ..\n",
      "9995    0\n",
      "9996    0\n",
      "9997    0\n",
      "9998    0\n",
      "9999    0\n",
      "Length: 10000, dtype: int64\n"
     ]
    }
   ],
   "source": [
    "target_pred_constant = pd.Series([0]*len(target))\n",
    "\n",
    "print(accuracy_score(target,target_pred_constant))\n",
    "\n",
    "print(target_pred_constant)"
   ]
  },
  {
   "cell_type": "markdown",
   "metadata": {},
   "source": [
    "### Вывод\n",
    "\n",
    "При проверке на нулевой массив  значение точности меньше на 0,067 при логистической регресии а 0,047 при иодели классификатора дерево"
   ]
  },
  {
   "cell_type": "markdown",
   "metadata": {},
   "source": [
    "# 3. Борьба с дисбалансом"
   ]
  },
  {
   "cell_type": "code",
   "execution_count": 32,
   "metadata": {},
   "outputs": [],
   "source": [
    "from sklearn.metrics import confusion_matrix\n",
    "from sklearn.metrics import recall_score\n",
    "from sklearn.metrics import precision_score\n",
    "from sklearn.utils import shuffle"
   ]
  },
  {
   "cell_type": "code",
   "execution_count": 33,
   "metadata": {},
   "outputs": [
    {
     "data": {
      "text/plain": [
       "array([[749,  47],\n",
       "       [109,  95]], dtype=int64)"
      ]
     },
     "execution_count": 33,
     "metadata": {},
     "output_type": "execute_result"
    }
   ],
   "source": [
    "from sklearn.metrics import confusion_matrix\n",
    "\n",
    "# Вывод матрица ошибок решаюшего дерево\n",
    "confusion_matrix_dt= confusion_matrix(target_valid, predict_valid_dt)\n",
    "\n",
    "confusion_matrix_dt\n"
   ]
  },
  {
   "cell_type": "code",
   "execution_count": 34,
   "metadata": {},
   "outputs": [
    {
     "data": {
      "text/plain": [
       "0.46568627450980393"
      ]
     },
     "execution_count": 34,
     "metadata": {},
     "output_type": "execute_result"
    }
   ],
   "source": [
    "# Вывод полноты  решаюшего дерево\n",
    "recall_dt = recall_score(target_valid, predict_valid_dt)\n",
    "\n",
    "recall_dt"
   ]
  },
  {
   "cell_type": "code",
   "execution_count": 35,
   "metadata": {},
   "outputs": [
    {
     "data": {
      "text/plain": [
       "0.6690140845070423"
      ]
     },
     "execution_count": 35,
     "metadata": {},
     "output_type": "execute_result"
    }
   ],
   "source": [
    "# Вывод точности решаюшего дерево\n",
    "precision_dt = precision_score(target_valid,predict_valid_dt)\n",
    "\n",
    "precision_dt"
   ]
  },
  {
   "cell_type": "code",
   "execution_count": 36,
   "metadata": {},
   "outputs": [
    {
     "data": {
      "text/plain": [
       "0.5491329479768786"
      ]
     },
     "execution_count": 36,
     "metadata": {},
     "output_type": "execute_result"
    }
   ],
   "source": [
    "# Вывод метрики f1 # Вывод точности \n",
    "f1_dt = f1_score(target_valid,predict_valid_dt)\n",
    "\n",
    "f1_dt"
   ]
  },
  {
   "cell_type": "code",
   "execution_count": 37,
   "metadata": {},
   "outputs": [
    {
     "data": {
      "text/plain": [
       "array([[777,  19],\n",
       "       [115,  89]], dtype=int64)"
      ]
     },
     "execution_count": 37,
     "metadata": {},
     "output_type": "execute_result"
    }
   ],
   "source": [
    "# Вывод матрица ошибок случайного леса\n",
    "confusion_matrix_rf= confusion_matrix(target_valid, predict_valid_rf)\n",
    "\n",
    "confusion_matrix_rf"
   ]
  },
  {
   "cell_type": "code",
   "execution_count": 38,
   "metadata": {},
   "outputs": [
    {
     "data": {
      "text/plain": [
       "0.4362745098039216"
      ]
     },
     "execution_count": 38,
     "metadata": {},
     "output_type": "execute_result"
    }
   ],
   "source": [
    "# Вывод полноты случайного леса\n",
    "recall_rf = recall_score(target_valid, predict_valid_rf)\n",
    "\n",
    "recall_rf"
   ]
  },
  {
   "cell_type": "code",
   "execution_count": 39,
   "metadata": {},
   "outputs": [
    {
     "data": {
      "text/plain": [
       "0.8240740740740741"
      ]
     },
     "execution_count": 39,
     "metadata": {},
     "output_type": "execute_result"
    }
   ],
   "source": [
    "# Вывод точности случайного леса\n",
    "precision_rf = precision_score(target_valid,predict_valid_rf)\n",
    "\n",
    "precision_rf"
   ]
  },
  {
   "cell_type": "code",
   "execution_count": 40,
   "metadata": {},
   "outputs": [
    {
     "data": {
      "text/plain": [
       "0.5705128205128205"
      ]
     },
     "execution_count": 40,
     "metadata": {},
     "output_type": "execute_result"
    }
   ],
   "source": [
    "# Вывод метрики f1 случайного леса\n",
    "f1_rf = f1_score(target_valid,predict_valid_rf)\n",
    "\n",
    "f1_rf"
   ]
  },
  {
   "cell_type": "code",
   "execution_count": 41,
   "metadata": {},
   "outputs": [
    {
     "name": "stdout",
     "output_type": "stream",
     "text": [
      "F1: 0.5678119349005424\n",
      "Accuracy: 0.761\n"
     ]
    }
   ],
   "source": [
    "# Обучение модели решаюшего дерево при сбаланстрованном весе классов.\n",
    "\n",
    "model_balanced_dt = DecisionTreeClassifier(random_state=12345, max_depth = 6 ,class_weight = 'balanced')\n",
    "model_balanced_dt.fit(features_train, target_train)\n",
    "predicted_valid_balanced_dt = model_balanced_dt.predict(features_valid)\n",
    "print(\"F1:\", f1_score(target_valid, predicted_valid_balanced_dt))\n",
    "print('Accuracy:' ,accuracy_score(target_valid, predicted_valid_balanced_dt))"
   ]
  },
  {
   "cell_type": "code",
   "execution_count": 42,
   "metadata": {},
   "outputs": [
    {
     "name": "stdout",
     "output_type": "stream",
     "text": [
      "F1: 0.6165048543689321\n",
      "Accuracy: 0.842\n"
     ]
    }
   ],
   "source": [
    "# Обучение модели случайного леса при сбаланстрованном весе классов.\n",
    "\n",
    "model_balanced_RFC = RandomForestClassifier(random_state=12345,  n_estimators= 100, max_depth = 10,class_weight = 'balanced')\n",
    "model_balanced_RFC.fit(features_train, target_train)\n",
    "predicted_valid_balanced_RFC = model_balanced_RFC.predict(features_valid)\n",
    "print(\"F1:\", f1_score(target_valid, predicted_valid_balanced_RFC))\n",
    "print('Accuracy:' ,accuracy_score(target_valid, predicted_valid_balanced_RFC))"
   ]
  },
  {
   "cell_type": "markdown",
   "metadata": {},
   "source": [
    "### Вывод\n",
    "\n",
    "При модели случайного леса с гиперпараметрами n_estimators = 30 и max_depth = 10, получаем значение 0,63 что превышает минимальное значение заданное."
   ]
  },
  {
   "cell_type": "code",
   "execution_count": 43,
   "metadata": {},
   "outputs": [],
   "source": [
    "# Функция для увеличение выборки\n",
    "def upsample(features, target, repeat):\n",
    "    features_zeros = features[target == 0]\n",
    "    features_ones = features[target == 1]\n",
    "    target_zeros = target[target == 0]\n",
    "    target_ones = target[target == 1]\n",
    "\n",
    "    features_upsampled = pd.concat([features_zeros] + [features_ones] * repeat)\n",
    "    target_upsampled = pd.concat([target_zeros] + [target_ones] * repeat)\n",
    "    \n",
    "    features_upsampled, target_upsampled = shuffle(\n",
    "        features_upsampled, target_upsampled, random_state=12345)\n",
    "    \n",
    "    return features_upsampled, target_upsampled"
   ]
  },
  {
   "cell_type": "code",
   "execution_count": 44,
   "metadata": {},
   "outputs": [
    {
     "name": "stdout",
     "output_type": "stream",
     "text": [
      "F1: 0.6090712742980562\n"
     ]
    }
   ],
   "source": [
    "#Применение функции увеличения выборки к датафрейму без категориальными признаками\n",
    "features_upsampled, target_upsampled = upsample(features_train, target_train, 10)\n",
    "\n",
    "# Обучение модели случайного леса с увеличеной выборкойю\n",
    "model_upsampled_rf = RandomForestClassifier(random_state=12345, n_estimators= 100, max_depth =10 , class_weight = 'balanced'\n",
    "                                         )\n",
    "model_upsampled_rf.fit( features_upsampled, target_upsampled)\n",
    "predicted_valid_upsampled_rf = model_upsampled_rf.predict(features_valid)\n",
    "print(\"F1:\", f1_score(target_valid, predicted_valid_upsampled_rf))"
   ]
  },
  {
   "cell_type": "code",
   "execution_count": 45,
   "metadata": {},
   "outputs": [
    {
     "name": "stdout",
     "output_type": "stream",
     "text": [
      "F1: 0.5678119349005424\n"
     ]
    }
   ],
   "source": [
    "# Обучение модели  решаюшего дерево с увеличеной выборкой\n",
    "\n",
    "model_upsampled_dt = DecisionTreeClassifier(random_state=12345, max_depth = 6 ,class_weight = 'balanced')\n",
    "model_upsampled_dt.fit( features_upsampled, target_upsampled)\n",
    "predicted_valid_upsampled_dt = model_upsampled_dt.predict(features_valid)\n",
    "print(\"F1:\", f1_score(target_valid, predicted_valid_upsampled_dt))"
   ]
  },
  {
   "cell_type": "code",
   "execution_count": 46,
   "metadata": {},
   "outputs": [],
   "source": [
    "# Функция для уменьшения выборки \n",
    "def downsample(features, target, fraction):\n",
    "    features_zeros = features[target == 0]\n",
    "    features_ones = features[target == 1]\n",
    "    target_zeros = target[target == 0]\n",
    "    target_ones = target[target == 1]\n",
    "\n",
    "    features_downsampled = pd.concat(\n",
    "        [features_zeros.sample(frac=fraction, random_state=12345)] + [features_ones])\n",
    "    target_downsampled = pd.concat(\n",
    "        [target_zeros.sample(frac=fraction, random_state=12345)] + [target_ones])\n",
    "    \n",
    "    features_downsampled, target_downsampled = shuffle(\n",
    "        features_downsampled, target_downsampled, random_state=12345)\n",
    "    \n",
    "    return features_downsampled, target_downsampled\n",
    "\n"
   ]
  },
  {
   "cell_type": "code",
   "execution_count": 47,
   "metadata": {},
   "outputs": [
    {
     "name": "stdout",
     "output_type": "stream",
     "text": [
      "F1: 0.5183016105417277\n"
     ]
    }
   ],
   "source": [
    "# Применение функций уменьшения вывборки к датафрэйму без категориальных прризнаков\n",
    "features_downsampled, target_downsampled = downsample(features_train, target_train, 0.1)\n",
    "\n",
    "# Обучение модели случайного леса при уменьшеной выборке\n",
    "model_downsampled_rf = RandomForestClassifier(random_state=12345, n_estimators= 100, max_depth = 10, class_weight = 'balanced'\n",
    "                                         )\n",
    "                                         \n",
    "model_downsampled_rf.fit(features_downsampled, target_downsampled)\n",
    "\n",
    "predicted_valid_downsampled_rf = model_downsampled_rf.predict(features_valid)\n",
    "\n",
    "print(\"F1:\", f1_score(target_valid, predicted_valid_downsampled_rf))"
   ]
  },
  {
   "cell_type": "code",
   "execution_count": 48,
   "metadata": {},
   "outputs": [
    {
     "name": "stdout",
     "output_type": "stream",
     "text": [
      "F1: 0.5697674418604651\n"
     ]
    }
   ],
   "source": [
    "# Обучение модели решающего дерево при уменьшеной выборке\n",
    "model_downsampled_dt = DecisionTreeClassifier(random_state=12345, max_depth = 6 ,class_weight = 'balanced')\n",
    "                                         \n",
    "model_downsampled_dt.fit(features_downsampled, target_downsampled)\n",
    "\n",
    "predicted_valid_downsampled_dt = model_downsampled_dt.predict(features_valid)\n",
    "\n",
    "print(\"F1:\", f1_score(target_valid, predicted_valid_downsampled_dt))"
   ]
  },
  {
   "cell_type": "markdown",
   "metadata": {},
   "source": [
    "### Вывод\n",
    "\n",
    "Из результатов по борьбе дисбаланса классов следует что найбольше значения метрики f1 получили при применения всвешивания классов balanced. \n",
    "\n",
    "f1 = 0.616 что больше чем заданное по проекту 0,59"
   ]
  },
  {
   "cell_type": "markdown",
   "metadata": {},
   "source": [
    "# 4. Тестирование модели"
   ]
  },
  {
   "cell_type": "code",
   "execution_count": 49,
   "metadata": {},
   "outputs": [
    {
     "name": "stdout",
     "output_type": "stream",
     "text": [
      "0    0.7835\n",
      "1    0.2165\n",
      "dtype: float64\n",
      "0.837\n",
      "0.6119047619047618\n"
     ]
    },
    {
     "data": {
      "image/png": "[encoded data removed]",
      "text/plain": [
       "<Figure size 432x288 with 1 Axes>"
      ]
     },
     "metadata": {
      "needs_background": "light"
     },
     "output_type": "display_data"
    }
   ],
   "source": [
    "# Тестируем модель случайого леса на выборке тест\n",
    "model_balanced_RFC =  RandomForestClassifier(random_state=12345, n_estimators= 100, max_depth = 10, class_weight = 'balanced')\n",
    "model_balanced_RFC.fit(features_train, target_train)\n",
    "\n",
    "# Спрогнозуремый модели значени\n",
    "predicted_test = pd.Series(model_balanced_RFC.predict(features_test))\n",
    "\n",
    "# Частота классов\n",
    "class_frequency_model_balanced = predicted_test.value_counts(normalize = True) \n",
    "\n",
    "\n",
    "print(class_frequency_model_balanced)\n",
    "\n",
    "class_frequency_model_balanced.plot(kind = 'bar')\n",
    "\n",
    "# Значения метрики качество модели при выбоаной модели\n",
    "print(accuracy_score(target_test, predicted_test))\n",
    "print(f1_score(target_test, predicted_test))\n"
   ]
  },
  {
   "cell_type": "code",
   "execution_count": 50,
   "metadata": {},
   "outputs": [
    {
     "name": "stdout",
     "output_type": "stream",
     "text": [
      "0.7965\n"
     ]
    },
    {
     "data": {
      "text/plain": [
       "2000"
      ]
     },
     "execution_count": 50,
     "metadata": {},
     "output_type": "execute_result"
    }
   ],
   "source": [
    "# Нулевой массив \n",
    "target_pred_constant_test = pd.Series([0]*len(target_test))\n",
    "\n",
    "print(accuracy_score(target_test, target_pred_constant_test))\n",
    "\n",
    "len(target_pred_constant_test)\n"
   ]
  },
  {
   "cell_type": "markdown",
   "metadata": {},
   "source": [
    "### Вывод\n",
    "\n",
    "При тестовой выборке получили значения accuracy 0.604 , что высше чем  по задпнию"
   ]
  },
  {
   "cell_type": "code",
   "execution_count": 51,
   "metadata": {},
   "outputs": [
    {
     "data": {
      "image/png": "[encoded data removed]",
      "text/plain": [
       "<Figure size 432x288 with 1 Axes>"
      ]
     },
     "metadata": {
      "needs_background": "light"
     },
     "output_type": "display_data"
    },
    {
     "name": "stdout",
     "output_type": "stream",
     "text": [
      "0.842264452433944\n"
     ]
    }
   ],
   "source": [
    "from sklearn.metrics import roc_auc_score\n",
    "from sklearn.metrics import roc_curve\n",
    "\n",
    "# Строение криво ROC\n",
    "probabilities_test = model_balanced_RFC.predict_proba(features_test)\n",
    "probabilities_one_test = probabilities_test[:, 1]\n",
    "\n",
    "fpr, tpr, thresholds = roc_curve(target_test, probabilities_one_test)\n",
    "\n",
    "plt.figure()\n",
    "plt.plot(fpr, tpr)\n",
    "plt.plot([0, 1], [0, 1], linestyle='--')\n",
    "plt.xlabel('False Positive Rate')\n",
    "plt.ylabel('True Positive Rate')\n",
    "plt.ylim([0.0, 1.0])\n",
    "plt.xlim([0.0, 1.0])\n",
    "plt.title('ROC-кривая')\n",
    "plt.show()\n",
    "\n",
    "auc_roc =  roc_auc_score(target_test, probabilities_one_test)\n",
    "\n",
    "print(auc_roc)"
   ]
  },
  {
   "cell_type": "markdown",
   "metadata": {},
   "source": [
    "### Вывод\n",
    "\n",
    "Площадь под крривой бельше чем 0,5 то есть положителная, и кривая достаточно различается от случайного резултата, то что свидительствует о качество выбраной модели"
   ]
  },
  {
   "cell_type": "code",
   "execution_count": 52,
   "metadata": {},
   "outputs": [
    {
     "data": {
      "image/png": "[encoded data removed]",
      "text/plain": [
       "<Figure size 432x432 with 1 Axes>"
      ]
     },
     "metadata": {
      "needs_background": "light"
     },
     "output_type": "display_data"
    }
   ],
   "source": [
    "from sklearn.metrics import precision_recall_curve\n",
    "from sklearn.linear_model import LogisticRegression\n",
    "\n",
    "\n",
    "precision, recall, thresholds = precision_recall_curve(target_test, probabilities_test[:, 1])\n",
    "\n",
    "plt.figure(figsize=(6, 6))\n",
    "plt.step(recall, precision, where='post')\n",
    "plt.xlabel('Recall')\n",
    "plt.ylabel('Precision')\n",
    "plt.ylim([0.0, 1.05])\n",
    "plt.xlim([0.0, 1.0])\n",
    "plt.title('Кривая Precision-Recall')\n",
    "plt.show()"
   ]
  },
  {
   "cell_type": "markdown",
   "metadata": {},
   "source": [
    "### Вывод\n",
    "\n",
    "Кривая Точность-полнота показвает оптимистичная картина, то что может быть связано с маленким количеством наблюдений"
   ]
  }
 ],
 "metadata": {
  "kernelspec": {
   "display_name": "Python 3",
   "language": "python",
   "name": "python3"
  },
  "language_info": {
   "codemirror_mode": {
    "name": "ipython",
    "version": 3
   },
   "file_extension": ".py",
   "mimetype": "text/x-python",
   "name": "python",
   "nbconvert_exporter": "python",
   "pygments_lexer": "ipython3",
   "version": "3.7.4"
  }
 },
 "nbformat": 4,
 "nbformat_minor": 2
}
