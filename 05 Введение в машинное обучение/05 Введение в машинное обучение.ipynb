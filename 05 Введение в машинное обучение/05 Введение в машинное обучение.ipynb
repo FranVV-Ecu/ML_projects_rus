{
 "cells": [
  {
   "cell_type": "markdown",
   "metadata": {},
   "source": [
    "# Рекомендация тарифов\n",
    "\n",
    "В  распоряжении данные о поведении клиентов, которые уже перешли на эти тарифы (из проекта курса «Статистический анализ данных»). Нужно построить модель для задачи классификации, которая выберет подходящий тариф. Предобработка данных не понадобится — вы её уже сделали.\n",
    "\n",
    "Постройте модель с максимально большим значением *accuracy*. Чтобы сдать проект успешно, нужно довести долю правильных ответов по крайней мере до 0.75. Проверьте *accuracy* на тестовой выборке самостоятельно.\n",
    "\n",
    "## Описание данных\n",
    "\n",
    "Каждый объект в наборе данных — это информация о поведении одного пользователя за месяц. Известно:\n",
    " - сalls — количество звонков,\n",
    " - minutes — суммарная длительность звонков в минутах,\n",
    " - messages — количество sms-сообщений,\n",
    " - mb_used — израсходованный интернет-трафик в Мб,\n",
    " - is_ultra — каким тарифом пользовался в течение месяца («Ультра» — 1, «Смарт» — 0)."
   ]
  },
  {
   "cell_type": "markdown",
   "metadata": {},
   "source": [
    "## 1. Открытие и изучение файла"
   ]
  },
  {
   "cell_type": "code",
   "execution_count": 3,
   "metadata": {},
   "outputs": [],
   "source": [
    "import pandas as pd"
   ]
  },
  {
   "cell_type": "code",
   "execution_count": 4,
   "metadata": {},
   "outputs": [
    {
     "data": {
      "text/html": [
       "<div>\n",
       "<style scoped>\n",
       "    .dataframe tbody tr th:only-of-type {\n",
       "        vertical-align: middle;\n",
       "    }\n",
       "\n",
       "    .dataframe tbody tr th {\n",
       "        vertical-align: top;\n",
       "    }\n",
       "\n",
       "    .dataframe thead th {\n",
       "        text-align: right;\n",
       "    }\n",
       "</style>\n",
       "<table border=\"1\" class=\"dataframe\">\n",
       "  <thead>\n",
       "    <tr style=\"text-align: right;\">\n",
       "      <th></th>\n",
       "      <th>calls</th>\n",
       "      <th>minutes</th>\n",
       "      <th>messages</th>\n",
       "      <th>mb_used</th>\n",
       "      <th>is_ultra</th>\n",
       "    </tr>\n",
       "  </thead>\n",
       "  <tbody>\n",
       "    <tr>\n",
       "      <td>0</td>\n",
       "      <td>40.0</td>\n",
       "      <td>311.90</td>\n",
       "      <td>83.0</td>\n",
       "      <td>19915.42</td>\n",
       "      <td>0</td>\n",
       "    </tr>\n",
       "    <tr>\n",
       "      <td>1</td>\n",
       "      <td>85.0</td>\n",
       "      <td>516.75</td>\n",
       "      <td>56.0</td>\n",
       "      <td>22696.96</td>\n",
       "      <td>0</td>\n",
       "    </tr>\n",
       "    <tr>\n",
       "      <td>2</td>\n",
       "      <td>77.0</td>\n",
       "      <td>467.66</td>\n",
       "      <td>86.0</td>\n",
       "      <td>21060.45</td>\n",
       "      <td>0</td>\n",
       "    </tr>\n",
       "    <tr>\n",
       "      <td>3</td>\n",
       "      <td>106.0</td>\n",
       "      <td>745.53</td>\n",
       "      <td>81.0</td>\n",
       "      <td>8437.39</td>\n",
       "      <td>1</td>\n",
       "    </tr>\n",
       "    <tr>\n",
       "      <td>4</td>\n",
       "      <td>66.0</td>\n",
       "      <td>418.74</td>\n",
       "      <td>1.0</td>\n",
       "      <td>14502.75</td>\n",
       "      <td>0</td>\n",
       "    </tr>\n",
       "  </tbody>\n",
       "</table>\n",
       "</div>"
      ],
      "text/plain": [
       "   calls  minutes  messages   mb_used  is_ultra\n",
       "0   40.0   311.90      83.0  19915.42         0\n",
       "1   85.0   516.75      56.0  22696.96         0\n",
       "2   77.0   467.66      86.0  21060.45         0\n",
       "3  106.0   745.53      81.0   8437.39         1\n",
       "4   66.0   418.74       1.0  14502.75         0"
      ]
     },
     "execution_count": 4,
     "metadata": {},
     "output_type": "execute_result"
    }
   ],
   "source": [
    "# Открываем датасет и выведим 5 чтрок\n",
    "\n",
    "path = r\"C:\\Users\\Asus\\yandex-praktikum\\05 Введение в машинное обучение\"\n",
    "df = pd.read_csv(path+'\\ML_1.csv')\n",
    "df.head()"
   ]
  },
  {
   "cell_type": "code",
   "execution_count": 5,
   "metadata": {},
   "outputs": [
    {
     "name": "stdout",
     "output_type": "stream",
     "text": [
      "<class 'pandas.core.frame.DataFrame'>\n",
      "RangeIndex: 3214 entries, 0 to 3213\n",
      "Data columns (total 5 columns):\n",
      "calls       3214 non-null float64\n",
      "minutes     3214 non-null float64\n",
      "messages    3214 non-null float64\n",
      "mb_used     3214 non-null float64\n",
      "is_ultra    3214 non-null int64\n",
      "dtypes: float64(4), int64(1)\n",
      "memory usage: 125.7 KB\n"
     ]
    }
   ],
   "source": [
    "# Выведим на экран информацтб о датасета\n",
    "df.info()"
   ]
  },
  {
   "cell_type": "code",
   "execution_count": 6,
   "metadata": {},
   "outputs": [
    {
     "data": {
      "text/plain": [
       "calls       0\n",
       "minutes     0\n",
       "messages    0\n",
       "mb_used     0\n",
       "is_ultra    0\n",
       "dtype: int64"
      ]
     },
     "execution_count": 6,
     "metadata": {},
     "output_type": "execute_result"
    }
   ],
   "source": [
    "# Счет пропушенных значений\n",
    "\n",
    "count_nan = df.isna().sum()\n",
    "\n",
    "count_nan"
   ]
  },
  {
   "cell_type": "markdown",
   "metadata": {},
   "source": [
    "### Вывод\n",
    "\n",
    "Из информаци иследует что нет пропущеных значении, и тип данных каждой строке годен для дальнейшего построения моделей."
   ]
  },
  {
   "cell_type": "code",
   "execution_count": 7,
   "metadata": {
    "scrolled": false
   },
   "outputs": [
    {
     "data": {
      "text/plain": [
       "array([[<matplotlib.axes._subplots.AxesSubplot object at 0x0000026E9C3940C8>,\n",
       "        <matplotlib.axes._subplots.AxesSubplot object at 0x0000026EA00B2C48>,\n",
       "        <matplotlib.axes._subplots.AxesSubplot object at 0x0000026EA00EEA48>,\n",
       "        <matplotlib.axes._subplots.AxesSubplot object at 0x0000026EA0127B48>,\n",
       "        <matplotlib.axes._subplots.AxesSubplot object at 0x0000026EA015FC48>],\n",
       "       [<matplotlib.axes._subplots.AxesSubplot object at 0x0000026EA0196C08>,\n",
       "        <matplotlib.axes._subplots.AxesSubplot object at 0x0000026EA040FD08>,\n",
       "        <matplotlib.axes._subplots.AxesSubplot object at 0x0000026EA0448E48>,\n",
       "        <matplotlib.axes._subplots.AxesSubplot object at 0x0000026EA0452A48>,\n",
       "        <matplotlib.axes._subplots.AxesSubplot object at 0x0000026EA048CC08>],\n",
       "       [<matplotlib.axes._subplots.AxesSubplot object at 0x0000026EA04F6188>,\n",
       "        <matplotlib.axes._subplots.AxesSubplot object at 0x0000026EA052D2C8>,\n",
       "        <matplotlib.axes._subplots.AxesSubplot object at 0x0000026EA05643C8>,\n",
       "        <matplotlib.axes._subplots.AxesSubplot object at 0x0000026EA059C4C8>,\n",
       "        <matplotlib.axes._subplots.AxesSubplot object at 0x0000026EA05D4548>],\n",
       "       [<matplotlib.axes._subplots.AxesSubplot object at 0x0000026EA0612E48>,\n",
       "        <matplotlib.axes._subplots.AxesSubplot object at 0x0000026EA0645748>,\n",
       "        <matplotlib.axes._subplots.AxesSubplot object at 0x0000026EA067E888>,\n",
       "        <matplotlib.axes._subplots.AxesSubplot object at 0x0000026EA06B6988>,\n",
       "        <matplotlib.axes._subplots.AxesSubplot object at 0x0000026EA06EEA48>],\n",
       "       [<matplotlib.axes._subplots.AxesSubplot object at 0x0000026EA0725B88>,\n",
       "        <matplotlib.axes._subplots.AxesSubplot object at 0x0000026EA075CC88>,\n",
       "        <matplotlib.axes._subplots.AxesSubplot object at 0x0000026EA0794D88>,\n",
       "        <matplotlib.axes._subplots.AxesSubplot object at 0x0000026EA07CEEC8>,\n",
       "        <matplotlib.axes._subplots.AxesSubplot object at 0x0000026EA0806FC8>]],\n",
       "      dtype=object)"
      ]
     },
     "execution_count": 7,
     "metadata": {},
     "output_type": "execute_result"
    }
   ],
   "source": [
    "# Строим матрица рассеяния\n",
    "\n",
    "pd.plotting.scatter_matrix(df, figsize = (15,15), diagonal = 'kde')\n"
   ]
  },
  {
   "cell_type": "markdown",
   "metadata": {},
   "source": [
    "## 2. Разбиение данные на выборки"
   ]
  },
  {
   "cell_type": "code",
   "execution_count": 8,
   "metadata": {},
   "outputs": [],
   "source": [
    "from sklearn.model_selection import train_test_split\n"
   ]
  },
  {
   "cell_type": "code",
   "execution_count": 9,
   "metadata": {},
   "outputs": [],
   "source": [
    "# Определяем функцию для того чтобы разделить датасет на : обущающий, валидацилный и тестовый\n",
    "\n",
    "def train_test_validate_split(features, targets, test_size=0.2, validate_size=0.1):\n",
    "    # Делим на обучующую и тестовую часть\n",
    "    features_train, features_test, targets_train, targets_test = train_test_split(\n",
    "        features,\n",
    "        targets,\n",
    "        stratify=targets,\n",
    "        test_size=test_size\n",
    "    )\n",
    "    # Воторой раз делим датачет\n",
    "    post_split_validate_size = validate_size / (1 - test_size)\n",
    "    features_train, features_validate, targets_train, targets_validate = train_test_split(\n",
    "        features_train,\n",
    "        targets_train,\n",
    "        stratify=targets_train,\n",
    "        test_size=post_split_validate_size\n",
    "    )\n",
    "    return features_train, features_test, features_validate, targets_train, targets_test, targets_validate"
   ]
  },
  {
   "cell_type": "code",
   "execution_count": 10,
   "metadata": {},
   "outputs": [],
   "source": [
    "# Определение признаков и целового признака \n",
    "\n",
    "features = df.drop('is_ultra' , axis = 1)\n",
    "\n",
    "target = df['is_ultra']"
   ]
  },
  {
   "cell_type": "code",
   "execution_count": 11,
   "metadata": {},
   "outputs": [],
   "source": [
    "# Применение функцию деления датасета на 3 части \n",
    "features_train, features_test, features_validate, targets_train, targets_test, targets_validate =(\n",
    "    train_test_validate_split(features, target) \n",
    ")\n"
   ]
  },
  {
   "cell_type": "code",
   "execution_count": 12,
   "metadata": {},
   "outputs": [],
   "source": [
    "#Именование стольбцов для далнейщего обработка в цикле\n",
    "\n",
    "features_train.name = 'features_train'\n",
    "features_test.name = 'features_test'\n",
    "features_validate.name = 'features_validate'\n",
    "targets_train.name = 'targets_train'\n",
    "targets_test.name = 'targets_test'\n",
    "targets_validate.name = 'targets_validate'"
   ]
  },
  {
   "cell_type": "code",
   "execution_count": 13,
   "metadata": {},
   "outputs": [
    {
     "name": "stdout",
     "output_type": "stream",
     "text": [
      "Длина датафрэйма features_train : 2249\n",
      "Длина датафрэйма features_test : 643\n",
      "Длина датафрэйма features_validate : 322\n",
      "Длина датафрэйма targets_train : 2249\n",
      "Длина датафрэйма targets_test : 643\n",
      "Длина датафрэйма targets_validate : 322\n"
     ]
    }
   ],
   "source": [
    "# Проверка длины датасетов \n",
    "\n",
    "for data in (features_train, features_test, features_validate, targets_train, targets_test, targets_validate ):\n",
    "    print('Длина датафрэйма', data.name  ,':', len(data))"
   ]
  },
  {
   "cell_type": "markdown",
   "metadata": {},
   "source": [
    "## 3. Исследование модели"
   ]
  },
  {
   "cell_type": "code",
   "execution_count": 14,
   "metadata": {},
   "outputs": [],
   "source": [
    "from sklearn.tree import DecisionTreeClassifier\n",
    "\n",
    "from sklearn.metrics import accuracy_score\n"
   ]
  },
  {
   "cell_type": "code",
   "execution_count": 15,
   "metadata": {},
   "outputs": [],
   "source": [
    "# Создание листов для далнейшего сохранения резултатов классификатора дерева решений\n",
    "\n",
    "array_DTC_train = []\n",
    "array_DTC_validate =[]\n",
    "\n",
    "#Цикл для обучения валидация и тест на разных гиперпараметрах классификатор дерева решений\n",
    "for depth in range(1, 31, 2):\n",
    "    \n",
    "    model_DTC = DecisionTreeClassifier(max_depth = depth ,  random_state = 123456)\n",
    "    model_DTC.fit(features_train , targets_train)\n",
    "    \n",
    "    prediction_DTC_train =  model_DTC.predict(features_train)\n",
    "    accuracy_DTC_train = accuracy_score(targets_train, prediction_DTC_train)\n",
    "    array_DTC_train.append(accuracy_DTC_train.round(4))\n",
    "    \n",
    "    prediction_DTC_validate = model_DTC.predict(features_validate)\n",
    "    accuracy_DTC_validate = accuracy_score(targets_validate, prediction_DTC_validate)\n",
    "    array_DTC_validate.append(accuracy_DTC_validate.round(4))\n",
    "    \n",
    "    \n",
    "  \n",
    "    \n"
   ]
  },
  {
   "cell_type": "code",
   "execution_count": 16,
   "metadata": {},
   "outputs": [
    {
     "data": {
      "text/html": [
       "<div>\n",
       "<style scoped>\n",
       "    .dataframe tbody tr th:only-of-type {\n",
       "        vertical-align: middle;\n",
       "    }\n",
       "\n",
       "    .dataframe tbody tr th {\n",
       "        vertical-align: top;\n",
       "    }\n",
       "\n",
       "    .dataframe thead th {\n",
       "        text-align: right;\n",
       "    }\n",
       "</style>\n",
       "<table border=\"1\" class=\"dataframe\">\n",
       "  <thead>\n",
       "    <tr style=\"text-align: right;\">\n",
       "      <th></th>\n",
       "      <th>max_depth</th>\n",
       "      <th>train</th>\n",
       "      <th>validate</th>\n",
       "    </tr>\n",
       "  </thead>\n",
       "  <tbody>\n",
       "    <tr>\n",
       "      <td>0</td>\n",
       "      <td>1</td>\n",
       "      <td>0.7550</td>\n",
       "      <td>0.7391</td>\n",
       "    </tr>\n",
       "    <tr>\n",
       "      <td>1</td>\n",
       "      <td>3</td>\n",
       "      <td>0.7990</td>\n",
       "      <td>0.7919</td>\n",
       "    </tr>\n",
       "    <tr>\n",
       "      <td>2</td>\n",
       "      <td>5</td>\n",
       "      <td>0.8195</td>\n",
       "      <td>0.8012</td>\n",
       "    </tr>\n",
       "    <tr>\n",
       "      <td>3</td>\n",
       "      <td>7</td>\n",
       "      <td>0.8373</td>\n",
       "      <td>0.7950</td>\n",
       "    </tr>\n",
       "    <tr>\n",
       "      <td>4</td>\n",
       "      <td>9</td>\n",
       "      <td>0.8679</td>\n",
       "      <td>0.7764</td>\n",
       "    </tr>\n",
       "    <tr>\n",
       "      <td>5</td>\n",
       "      <td>11</td>\n",
       "      <td>0.8951</td>\n",
       "      <td>0.7888</td>\n",
       "    </tr>\n",
       "    <tr>\n",
       "      <td>6</td>\n",
       "      <td>13</td>\n",
       "      <td>0.9177</td>\n",
       "      <td>0.7919</td>\n",
       "    </tr>\n",
       "    <tr>\n",
       "      <td>7</td>\n",
       "      <td>15</td>\n",
       "      <td>0.9426</td>\n",
       "      <td>0.7516</td>\n",
       "    </tr>\n",
       "    <tr>\n",
       "      <td>8</td>\n",
       "      <td>17</td>\n",
       "      <td>0.9653</td>\n",
       "      <td>0.7453</td>\n",
       "    </tr>\n",
       "    <tr>\n",
       "      <td>9</td>\n",
       "      <td>19</td>\n",
       "      <td>0.9827</td>\n",
       "      <td>0.7360</td>\n",
       "    </tr>\n",
       "    <tr>\n",
       "      <td>10</td>\n",
       "      <td>21</td>\n",
       "      <td>0.9889</td>\n",
       "      <td>0.7391</td>\n",
       "    </tr>\n",
       "    <tr>\n",
       "      <td>11</td>\n",
       "      <td>23</td>\n",
       "      <td>0.9951</td>\n",
       "      <td>0.7205</td>\n",
       "    </tr>\n",
       "    <tr>\n",
       "      <td>12</td>\n",
       "      <td>25</td>\n",
       "      <td>0.9956</td>\n",
       "      <td>0.7298</td>\n",
       "    </tr>\n",
       "    <tr>\n",
       "      <td>13</td>\n",
       "      <td>27</td>\n",
       "      <td>0.9982</td>\n",
       "      <td>0.7205</td>\n",
       "    </tr>\n",
       "    <tr>\n",
       "      <td>14</td>\n",
       "      <td>29</td>\n",
       "      <td>0.9991</td>\n",
       "      <td>0.7143</td>\n",
       "    </tr>\n",
       "  </tbody>\n",
       "</table>\n",
       "</div>"
      ],
      "text/plain": [
       "    max_depth   train  validate\n",
       "0           1  0.7550    0.7391\n",
       "1           3  0.7990    0.7919\n",
       "2           5  0.8195    0.8012\n",
       "3           7  0.8373    0.7950\n",
       "4           9  0.8679    0.7764\n",
       "5          11  0.8951    0.7888\n",
       "6          13  0.9177    0.7919\n",
       "7          15  0.9426    0.7516\n",
       "8          17  0.9653    0.7453\n",
       "9          19  0.9827    0.7360\n",
       "10         21  0.9889    0.7391\n",
       "11         23  0.9951    0.7205\n",
       "12         25  0.9956    0.7298\n",
       "13         27  0.9982    0.7205\n",
       "14         29  0.9991    0.7143"
      ]
     },
     "execution_count": 16,
     "metadata": {},
     "output_type": "execute_result"
    }
   ],
   "source": [
    "import numpy as np\n",
    "\n",
    "# Резултаты качество обучения, валидация в одном датафрейме классификатора дерева решений\n",
    "\n",
    "accuracy_DTC = pd.DataFrame( [array_DTC_train,array_DTC_validate],\n",
    "                           columns = range(1,31,2)).T.reset_index()                        \n",
    "                           \n",
    "\n",
    "\n",
    "accuracy_DTC.columns = ['max_depth','train','validate']\n",
    "\n",
    "accuracy_DTC"
   ]
  },
  {
   "cell_type": "code",
   "execution_count": 17,
   "metadata": {},
   "outputs": [
    {
     "data": {
      "text/plain": [
       "Text(0.5, 1.0, 'Accuracy Decision Tree Classifier Models')"
      ]
     },
     "execution_count": 17,
     "metadata": {},
     "output_type": "execute_result"
    },
    {
     "data": {
      "image/png": "[encoded data removed]",
      "text/plain": [
       "<Figure size 1080x360 with 1 Axes>"
      ]
     },
     "metadata": {
      "needs_background": "light"
     },
     "output_type": "display_data"
    }
   ],
   "source": [
    "import matplotlib.pyplot as plt \n",
    "\n",
    "x = accuracy_DTC['max_depth']\n",
    "y = accuracy_DTC['train']\n",
    "z = accuracy_DTC['validate']\n",
    "plt.figure(figsize=(15,5))\n",
    "plt.xlim(1,29)\n",
    "plt.xlabel('max_depth')\n",
    "plt.ylabel('Accuracy')\n",
    "plt.plot(x, y , color='blue', label = 'Train')\n",
    "plt.plot(x,z,  color = 'red', label = 'validate')\n",
    "plt.grid()\n",
    "plt.legend()\n",
    "plt.title('Accuracy Decision Tree Classifier Models')\n",
    "\n"
   ]
  },
  {
   "cell_type": "markdown",
   "metadata": {},
   "source": [
    "## Вывод \n",
    "\n",
    "При увеличении глубины дерева в классификатора дерева решений наблюдается учеличение значения точности на обучающий модель, и при валидации значения качество снижается, следовательно при увеличении значения глубины дерево увеличивается переобучения моделей. Оптимальный значение глубины является 7. При данном значении глубины значение точность при валидации максимальное и равно 80%."
   ]
  },
  {
   "cell_type": "code",
   "execution_count": 18,
   "metadata": {},
   "outputs": [],
   "source": [
    "from sklearn.ensemble import RandomForestClassifier"
   ]
  },
  {
   "cell_type": "code",
   "execution_count": 19,
   "metadata": {},
   "outputs": [],
   "source": [
    "# Создание листов для далнейшего сохранения резултатов случайного леса\n",
    "\n",
    "RFC_train = []\n",
    "RFC_validate = []\n",
    "\n",
    "\n",
    "#Цикл для обучения валидация и тест на разных гиперпараметрах случайного леса\n",
    "for estim in range(1, 21, 1):\n",
    "    \n",
    "    model_RFC = RandomForestClassifier(random_state=12345, n_estimators= estim, max_depth = 10)\n",
    "    \n",
    "    model_RFC.fit(features_train , targets_train)\n",
    "    \n",
    "    prediction_RFC_train = model_RFC.predict(features_train)\n",
    "    accuracy_RFC_train =  accuracy_score(targets_train, prediction_RFC_train)\n",
    "    RFC_train.append(accuracy_RFC_train.round(4))\n",
    "    \n",
    "    prediction_RFC_validate = model_RFC.predict(features_validate)\n",
    "    RFC_validate_accuracy = accuracy_score(targets_validate, prediction_RFC_validate)\n",
    "    RFC_validate.append(RFC_validate_accuracy.round(4))\n",
    "    \n",
    "    \n",
    " \n"
   ]
  },
  {
   "cell_type": "code",
   "execution_count": 20,
   "metadata": {},
   "outputs": [
    {
     "data": {
      "text/html": [
       "<div>\n",
       "<style scoped>\n",
       "    .dataframe tbody tr th:only-of-type {\n",
       "        vertical-align: middle;\n",
       "    }\n",
       "\n",
       "    .dataframe tbody tr th {\n",
       "        vertical-align: top;\n",
       "    }\n",
       "\n",
       "    .dataframe thead th {\n",
       "        text-align: right;\n",
       "    }\n",
       "</style>\n",
       "<table border=\"1\" class=\"dataframe\">\n",
       "  <thead>\n",
       "    <tr style=\"text-align: right;\">\n",
       "      <th></th>\n",
       "      <th>estim</th>\n",
       "      <th>train</th>\n",
       "      <th>validate</th>\n",
       "    </tr>\n",
       "  </thead>\n",
       "  <tbody>\n",
       "    <tr>\n",
       "      <td>0</td>\n",
       "      <td>1</td>\n",
       "      <td>0.8359</td>\n",
       "      <td>0.7857</td>\n",
       "    </tr>\n",
       "    <tr>\n",
       "      <td>1</td>\n",
       "      <td>2</td>\n",
       "      <td>0.8502</td>\n",
       "      <td>0.8075</td>\n",
       "    </tr>\n",
       "    <tr>\n",
       "      <td>2</td>\n",
       "      <td>3</td>\n",
       "      <td>0.8635</td>\n",
       "      <td>0.7795</td>\n",
       "    </tr>\n",
       "    <tr>\n",
       "      <td>3</td>\n",
       "      <td>4</td>\n",
       "      <td>0.8711</td>\n",
       "      <td>0.7826</td>\n",
       "    </tr>\n",
       "    <tr>\n",
       "      <td>4</td>\n",
       "      <td>5</td>\n",
       "      <td>0.8777</td>\n",
       "      <td>0.7826</td>\n",
       "    </tr>\n",
       "    <tr>\n",
       "      <td>5</td>\n",
       "      <td>6</td>\n",
       "      <td>0.8751</td>\n",
       "      <td>0.8012</td>\n",
       "    </tr>\n",
       "    <tr>\n",
       "      <td>6</td>\n",
       "      <td>7</td>\n",
       "      <td>0.8755</td>\n",
       "      <td>0.8075</td>\n",
       "    </tr>\n",
       "    <tr>\n",
       "      <td>7</td>\n",
       "      <td>8</td>\n",
       "      <td>0.8773</td>\n",
       "      <td>0.8137</td>\n",
       "    </tr>\n",
       "    <tr>\n",
       "      <td>8</td>\n",
       "      <td>9</td>\n",
       "      <td>0.8782</td>\n",
       "      <td>0.8106</td>\n",
       "    </tr>\n",
       "    <tr>\n",
       "      <td>9</td>\n",
       "      <td>10</td>\n",
       "      <td>0.8813</td>\n",
       "      <td>0.8106</td>\n",
       "    </tr>\n",
       "    <tr>\n",
       "      <td>10</td>\n",
       "      <td>11</td>\n",
       "      <td>0.8795</td>\n",
       "      <td>0.8075</td>\n",
       "    </tr>\n",
       "    <tr>\n",
       "      <td>11</td>\n",
       "      <td>12</td>\n",
       "      <td>0.8808</td>\n",
       "      <td>0.8106</td>\n",
       "    </tr>\n",
       "    <tr>\n",
       "      <td>12</td>\n",
       "      <td>13</td>\n",
       "      <td>0.8826</td>\n",
       "      <td>0.7981</td>\n",
       "    </tr>\n",
       "    <tr>\n",
       "      <td>13</td>\n",
       "      <td>14</td>\n",
       "      <td>0.8808</td>\n",
       "      <td>0.8012</td>\n",
       "    </tr>\n",
       "    <tr>\n",
       "      <td>14</td>\n",
       "      <td>15</td>\n",
       "      <td>0.8822</td>\n",
       "      <td>0.8075</td>\n",
       "    </tr>\n",
       "    <tr>\n",
       "      <td>15</td>\n",
       "      <td>16</td>\n",
       "      <td>0.8786</td>\n",
       "      <td>0.8012</td>\n",
       "    </tr>\n",
       "    <tr>\n",
       "      <td>16</td>\n",
       "      <td>17</td>\n",
       "      <td>0.8773</td>\n",
       "      <td>0.8012</td>\n",
       "    </tr>\n",
       "    <tr>\n",
       "      <td>17</td>\n",
       "      <td>18</td>\n",
       "      <td>0.8777</td>\n",
       "      <td>0.8012</td>\n",
       "    </tr>\n",
       "    <tr>\n",
       "      <td>18</td>\n",
       "      <td>19</td>\n",
       "      <td>0.8773</td>\n",
       "      <td>0.7950</td>\n",
       "    </tr>\n",
       "    <tr>\n",
       "      <td>19</td>\n",
       "      <td>20</td>\n",
       "      <td>0.8777</td>\n",
       "      <td>0.8043</td>\n",
       "    </tr>\n",
       "  </tbody>\n",
       "</table>\n",
       "</div>"
      ],
      "text/plain": [
       "    estim   train  validate\n",
       "0       1  0.8359    0.7857\n",
       "1       2  0.8502    0.8075\n",
       "2       3  0.8635    0.7795\n",
       "3       4  0.8711    0.7826\n",
       "4       5  0.8777    0.7826\n",
       "5       6  0.8751    0.8012\n",
       "6       7  0.8755    0.8075\n",
       "7       8  0.8773    0.8137\n",
       "8       9  0.8782    0.8106\n",
       "9      10  0.8813    0.8106\n",
       "10     11  0.8795    0.8075\n",
       "11     12  0.8808    0.8106\n",
       "12     13  0.8826    0.7981\n",
       "13     14  0.8808    0.8012\n",
       "14     15  0.8822    0.8075\n",
       "15     16  0.8786    0.8012\n",
       "16     17  0.8773    0.8012\n",
       "17     18  0.8777    0.8012\n",
       "18     19  0.8773    0.7950\n",
       "19     20  0.8777    0.8043"
      ]
     },
     "execution_count": 20,
     "metadata": {},
     "output_type": "execute_result"
    }
   ],
   "source": [
    "# Резултаты качество обучения, валидация и теста в одном датафрейме случайного леса\n",
    "\n",
    "accuracy_RFC = pd.DataFrame( [RFC_train, RFC_validate],\n",
    "                           columns = range(1,21,1)).T.reset_index() \n",
    "\n",
    "accuracy_RFC.columns = ['estim', 'train', 'validate']\n",
    "\n",
    "accuracy_RFC"
   ]
  },
  {
   "cell_type": "code",
   "execution_count": 21,
   "metadata": {},
   "outputs": [
    {
     "data": {
      "text/plain": [
       "Text(0.5, 1.0, ' Accuracy Random Forest Classifier Models ')"
      ]
     },
     "execution_count": 21,
     "metadata": {},
     "output_type": "execute_result"
    },
    {
     "data": {
      "image/png": "[encoded data removed]",
      "text/plain": [
       "<Figure size 1080x360 with 1 Axes>"
      ]
     },
     "metadata": {
      "needs_background": "light"
     },
     "output_type": "display_data"
    }
   ],
   "source": [
    "x = accuracy_RFC['estim']\n",
    "y = accuracy_RFC['train']\n",
    "z = accuracy_RFC['validate']\n",
    "plt.figure(figsize=(15,5))\n",
    "plt.xlim(1,21)\n",
    "plt.xlabel('n_estimator')\n",
    "plt.ylabel('Accuracy')\n",
    "plt.plot(x, y , color='blue', label = 'Train')\n",
    "plt.plot(x,z,  color = 'red', label = 'validate')\n",
    "plt.grid()\n",
    "plt.legend()\n",
    "plt.title(' Accuracy Random Forest Classifier Models ')\n"
   ]
  },
  {
   "cell_type": "markdown",
   "metadata": {},
   "source": [
    "## Вывод \n",
    "\n",
    "При увеличении значение n_estimators случайного леса  решений значения точности валидационой выборке увличивается и достигает его максимальное значение при n_estimators равно 10, затем точности валидации снижается. Это свидителствует о переобучения модели."
   ]
  },
  {
   "cell_type": "code",
   "execution_count": 22,
   "metadata": {},
   "outputs": [],
   "source": [
    "from sklearn.linear_model import LogisticRegression\n"
   ]
  },
  {
   "cell_type": "code",
   "execution_count": 23,
   "metadata": {},
   "outputs": [
    {
     "name": "stderr",
     "output_type": "stream",
     "text": [
      "C:\\Users\\Asus\\Anaconda3\\lib\\site-packages\\sklearn\\svm\\base.py:929: ConvergenceWarning: Liblinear failed to converge, increase the number of iterations.\n",
      "  \"the number of iterations.\", ConvergenceWarning)\n"
     ]
    },
    {
     "data": {
      "text/plain": [
       "0.70253"
      ]
     },
     "execution_count": 23,
     "metadata": {},
     "output_type": "execute_result"
    }
   ],
   "source": [
    "# Обучение модель Логистической регресси\n",
    "\n",
    "model = LogisticRegression(random_state=12345, solver = 'liblinear' , max_iter = 10)\n",
    "\n",
    "model.fit(features_train, targets_train)\n",
    "\n",
    "prediction_train = model.predict(features_train)\n",
    "\n",
    "accuracy_train = accuracy_score(targets_train, prediction_train)\n",
    "\n",
    "accuracy_train.round(5)"
   ]
  },
  {
   "cell_type": "code",
   "execution_count": 24,
   "metadata": {},
   "outputs": [
    {
     "data": {
      "text/plain": [
       "0.70807"
      ]
     },
     "execution_count": 24,
     "metadata": {},
     "output_type": "execute_result"
    }
   ],
   "source": [
    "# Валидация модель Логистической регресси\n",
    "\n",
    "\n",
    "prediction_validate = model.predict(features_validate)\n",
    "\n",
    "accuracy_validate = accuracy_score(targets_validate, prediction_validate)\n",
    "\n",
    "accuracy_validate.round(5)"
   ]
  },
  {
   "cell_type": "markdown",
   "metadata": {},
   "source": [
    "## Вывод \n",
    "\n",
    "При увеличении применения логистической регресии значение точности меньше чем при присенение других моделей обучения."
   ]
  },
  {
   "cell_type": "markdown",
   "metadata": {},
   "source": [
    "## 4. Проверка модели на тестовой выборке"
   ]
  },
  {
   "cell_type": "code",
   "execution_count": 25,
   "metadata": {},
   "outputs": [
    {
     "data": {
      "text/plain": [
       "0.6967340590979783"
      ]
     },
     "execution_count": 25,
     "metadata": {},
     "output_type": "execute_result"
    }
   ],
   "source": [
    "# Тестирование модель Логистической регресси\n",
    "\n",
    "prediction_test = model.predict(features_test)\n",
    "\n",
    "accuracy_test = accuracy_score(targets_test, prediction_test)\n",
    "\n",
    "accuracy_test"
   ]
  },
  {
   "cell_type": "code",
   "execution_count": 26,
   "metadata": {},
   "outputs": [
    {
     "data": {
      "text/html": [
       "<div>\n",
       "<style scoped>\n",
       "    .dataframe tbody tr th:only-of-type {\n",
       "        vertical-align: middle;\n",
       "    }\n",
       "\n",
       "    .dataframe tbody tr th {\n",
       "        vertical-align: top;\n",
       "    }\n",
       "\n",
       "    .dataframe thead th {\n",
       "        text-align: right;\n",
       "    }\n",
       "</style>\n",
       "<table border=\"1\" class=\"dataframe\">\n",
       "  <thead>\n",
       "    <tr style=\"text-align: right;\">\n",
       "      <th></th>\n",
       "      <th>max_depth</th>\n",
       "      <th>train</th>\n",
       "      <th>validate</th>\n",
       "    </tr>\n",
       "  </thead>\n",
       "  <tbody>\n",
       "    <tr>\n",
       "      <td>2</td>\n",
       "      <td>5</td>\n",
       "      <td>0.8195</td>\n",
       "      <td>0.8012</td>\n",
       "    </tr>\n",
       "  </tbody>\n",
       "</table>\n",
       "</div>"
      ],
      "text/plain": [
       "   max_depth   train  validate\n",
       "2          5  0.8195    0.8012"
      ]
     },
     "execution_count": 26,
     "metadata": {},
     "output_type": "execute_result"
    }
   ],
   "source": [
    "# Нахождение оптимальной модели класификатора дерево рещений по максимальному значению точности валидаций\n",
    "optimal_DTC_accuracy = accuracy_DTC[accuracy_DTC['validate'] == accuracy_DTC['validate'].max()]\n",
    "\n",
    "optimal_DTC_accuracy"
   ]
  },
  {
   "cell_type": "code",
   "execution_count": 27,
   "metadata": {},
   "outputs": [
    {
     "data": {
      "text/plain": [
       "0.8134"
      ]
     },
     "execution_count": 27,
     "metadata": {},
     "output_type": "execute_result"
    }
   ],
   "source": [
    "#обучение модели классификатора дерева решений с оптимальным значением глубины дерево\n",
    "optimal_model_DTC = DecisionTreeClassifier(max_depth = 7 ,  random_state = 123456)\n",
    "optimal_model_DTC.fit(features_train , targets_train)\n",
    "\n",
    "# Тестирование модель классификатора дерева решений\n",
    "prediction_DTC_test =  optimal_model_DTC.predict(features_test)\n",
    "accuracy_DTC_test = accuracy_score(targets_test, prediction_DTC_test)\n",
    "accuracy_DTC_test.round(4)"
   ]
  },
  {
   "cell_type": "code",
   "execution_count": 28,
   "metadata": {},
   "outputs": [
    {
     "data": {
      "text/html": [
       "<div>\n",
       "<style scoped>\n",
       "    .dataframe tbody tr th:only-of-type {\n",
       "        vertical-align: middle;\n",
       "    }\n",
       "\n",
       "    .dataframe tbody tr th {\n",
       "        vertical-align: top;\n",
       "    }\n",
       "\n",
       "    .dataframe thead th {\n",
       "        text-align: right;\n",
       "    }\n",
       "</style>\n",
       "<table border=\"1\" class=\"dataframe\">\n",
       "  <thead>\n",
       "    <tr style=\"text-align: right;\">\n",
       "      <th></th>\n",
       "      <th>estim</th>\n",
       "      <th>train</th>\n",
       "      <th>validate</th>\n",
       "    </tr>\n",
       "  </thead>\n",
       "  <tbody>\n",
       "    <tr>\n",
       "      <td>7</td>\n",
       "      <td>8</td>\n",
       "      <td>0.8773</td>\n",
       "      <td>0.8137</td>\n",
       "    </tr>\n",
       "  </tbody>\n",
       "</table>\n",
       "</div>"
      ],
      "text/plain": [
       "   estim   train  validate\n",
       "7      8  0.8773    0.8137"
      ]
     },
     "execution_count": 28,
     "metadata": {},
     "output_type": "execute_result"
    }
   ],
   "source": [
    "# Нахождение оптимальной модели клаяификатора дерево рещений\n",
    "optimal_RFC_accuracy = accuracy_RFC[accuracy_RFC['validate'] == accuracy_RFC['validate'].max()]\n",
    "\n",
    "optimal_RFC_accuracy"
   ]
  },
  {
   "cell_type": "code",
   "execution_count": 29,
   "metadata": {},
   "outputs": [
    {
     "data": {
      "text/plain": [
       "0.8149"
      ]
     },
     "execution_count": 29,
     "metadata": {},
     "output_type": "execute_result"
    }
   ],
   "source": [
    "#обучение модели случайного леса\n",
    "optimal_model_RFC = RandomForestClassifier(random_state=12345, n_estimators= 8, max_depth = 7)\n",
    "    \n",
    "optimal_model_RFC.fit(features_train , targets_train)\n",
    "\n",
    "# Тестирование модель случайного леса\n",
    "\n",
    "prediction_RFC_test = optimal_model_RFC.predict(features_test)\n",
    "accuracy_RFC_test =  accuracy_score(targets_test, prediction_RFC_test)\n",
    "accuracy_RFC_test.round(4)\n",
    "\n"
   ]
  },
  {
   "cell_type": "markdown",
   "metadata": {},
   "source": [
    "## Вывод\n",
    "\n",
    "Исходя из полученых значении качество лучше модель оказался случаный лес при n_estimator равно 8 , получили качество при тестирование равно 82,43%"
   ]
  },
  {
   "cell_type": "markdown",
   "metadata": {},
   "source": [
    "## 5. Проверка модели на адекватность"
   ]
  },
  {
   "cell_type": "code",
   "execution_count": 30,
   "metadata": {},
   "outputs": [
    {
     "data": {
      "text/html": [
       "<div>\n",
       "<style scoped>\n",
       "    .dataframe tbody tr th:only-of-type {\n",
       "        vertical-align: middle;\n",
       "    }\n",
       "\n",
       "    .dataframe tbody tr th {\n",
       "        vertical-align: top;\n",
       "    }\n",
       "\n",
       "    .dataframe thead th {\n",
       "        text-align: right;\n",
       "    }\n",
       "</style>\n",
       "<table border=\"1\" class=\"dataframe\">\n",
       "  <thead>\n",
       "    <tr style=\"text-align: right;\">\n",
       "      <th></th>\n",
       "      <th>Accuracy_Test</th>\n",
       "    </tr>\n",
       "  </thead>\n",
       "  <tbody>\n",
       "    <tr>\n",
       "      <td>Decision_Tree_Classifier</td>\n",
       "      <td>0.813375</td>\n",
       "    </tr>\n",
       "    <tr>\n",
       "      <td>Random_Forest_Classifier</td>\n",
       "      <td>0.814930</td>\n",
       "    </tr>\n",
       "    <tr>\n",
       "      <td>Logistic_Regression</td>\n",
       "      <td>0.696734</td>\n",
       "    </tr>\n",
       "  </tbody>\n",
       "</table>\n",
       "</div>"
      ],
      "text/plain": [
       "                          Accuracy_Test\n",
       "Decision_Tree_Classifier       0.813375\n",
       "Random_Forest_Classifier       0.814930\n",
       "Logistic_Regression            0.696734"
      ]
     },
     "execution_count": 30,
     "metadata": {},
     "output_type": "execute_result"
    }
   ],
   "source": [
    "#Проверка на адекватность\n",
    "\n",
    "sanity_check = pd.DataFrame([[accuracy_DTC_test], [accuracy_RFC_test], [accuracy_test]],\n",
    "                           columns = ['Accuracy_Test'],\n",
    "                           index = ['Decision_Tree_Classifier', 'Random_Forest_Classifier' , 'Logistic_Regression'])\n",
    "\n",
    "\n",
    "sanity_check\n",
    "\n"
   ]
  },
  {
   "cell_type": "code",
   "execution_count": 31,
   "metadata": {},
   "outputs": [
    {
     "data": {
      "text/plain": [
       "0    446\n",
       "1    197\n",
       "Name: targets_test, dtype: int64"
      ]
     },
     "execution_count": 31,
     "metadata": {},
     "output_type": "execute_result"
    }
   ],
   "source": [
    "targets_test.value_counts()"
   ]
  },
  {
   "cell_type": "code",
   "execution_count": 32,
   "metadata": {},
   "outputs": [
    {
     "name": "stdout",
     "output_type": "stream",
     "text": [
      "0.6936236391912908\n"
     ]
    }
   ],
   "source": [
    "# Нулевой массив \n",
    "target_pred_constant_test = pd.Series([0]*len(targets_test))\n",
    "\n",
    "print(accuracy_score(targets_test, target_pred_constant_test))\n",
    "\n"
   ]
  },
  {
   "cell_type": "markdown",
   "metadata": {},
   "source": [
    "## Вывод\n",
    "\n",
    "Высше значение качество модели, получили при применении класификатор случайного леса. Полученное значение 0,82 больше чем 0,75 который требоалось по заданию. \n",
    "\n",
    "\n",
    "Рассмотрим отдельно ответы «1» (ультра ) и «0» (смарт):\n",
    " \n",
    "Ответы модели не связаны с правильными ответами, поэтому вероятность угадать «1» равна 50% (так же и для «0»). Accuracy будет равна 0.5.\n",
    "\n",
    "\n",
    "Точность нащей модели 0,816, что значительно высше нулевой выборке 0,69. Что свидительствует о адвекватность выбраной модели. "
   ]
  }
 ],
 "metadata": {
  "kernelspec": {
   "display_name": "Python 3",
   "language": "python",
   "name": "python3"
  },
  "language_info": {
   "codemirror_mode": {
    "name": "ipython",
    "version": 3
   },
   "file_extension": ".py",
   "mimetype": "text/x-python",
   "name": "python",
   "nbconvert_exporter": "python",
   "pygments_lexer": "ipython3",
   "version": "3.7.4"
  }
 },
 "nbformat": 4,
 "nbformat_minor": 2
}
