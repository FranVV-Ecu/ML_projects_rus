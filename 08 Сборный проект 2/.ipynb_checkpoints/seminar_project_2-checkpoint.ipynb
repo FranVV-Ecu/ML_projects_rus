{
 "cells": [
  {
   "cell_type": "code",
   "execution_count": 1,
   "metadata": {},
   "outputs": [],
   "source": [
    "# Импорт библиотек\n",
    "import pandas as pd\n",
    "import numpy as np\n",
    "from sklearn.linear_model import LinearRegression,Lasso,ElasticNet"
   ]
  },
  {
   "cell_type": "code",
   "execution_count": 2,
   "metadata": {},
   "outputs": [],
   "source": [
    "import seaborn as sns\n",
    "import matplotlib.pyplot as plt\n",
    "%matplotlib inline"
   ]
  },
  {
   "cell_type": "code",
   "execution_count": 4,
   "metadata": {},
   "outputs": [],
   "source": [
    "# Считываем данные\n",
    "test = pd.read_csv(r'C:\\Users\\Asus\\Documents\\Python Scripts\\Яндекс практикум\\Сборный проект 2\\gold_recovery_df_test.csv', index_col = 'date',parse_dates = True)\n",
    "train = pd.read_csv(r'C:\\Users\\Asus\\Documents\\Python Scripts\\Яндекс практикум\\Сборный проект 2\\gold_recovery_df_train.csv', index_col = 'date',parse_dates = True)"
   ]
  },
  {
   "cell_type": "code",
   "execution_count": 5,
   "metadata": {},
   "outputs": [
    {
     "name": "stdout",
     "output_type": "stream",
     "text": [
      "Collecting pandas-profiling[html,notebook]\n",
      "  Downloading https://files.pythonhosted.org/packages/1d/08/1f614fb2d31b59cd69896b900044c8d7119389b9151983a872d047ea021f/pandas-profiling-2.4.0.tar.gz (150kB)\n",
      "Requirement already satisfied: pandas>=0.19 in c:\\users\\asus\\anaconda3\\lib\\site-packages (from pandas-profiling[html,notebook]) (0.25.1)\n",
      "Requirement already satisfied: matplotlib>=1.4 in c:\\users\\asus\\anaconda3\\lib\\site-packages (from pandas-profiling[html,notebook]) (3.1.1)\n",
      "Collecting confuse>=1.0.0 (from pandas-profiling[html,notebook])\n",
      "  Downloading https://files.pythonhosted.org/packages/4c/6f/90e860cba937c174d8b3775729ccc6377eb91f52ad4eeb008e7252a3646d/confuse-1.0.0.tar.gz\n",
      "Requirement already satisfied: jinja2>=2.8 in c:\\users\\asus\\anaconda3\\lib\\site-packages (from pandas-profiling[html,notebook]) (2.10.3)\n",
      "Collecting htmlmin>=0.1.12 (from pandas-profiling[html,notebook])\n",
      "  Downloading https://files.pythonhosted.org/packages/b3/e7/fcd59e12169de19f0131ff2812077f964c6b960e7c09804d30a7bf2ab461/htmlmin-0.1.12.tar.gz\n",
      "Collecting missingno>=0.4.2 (from pandas-profiling[html,notebook])\n",
      "  Downloading https://files.pythonhosted.org/packages/2b/de/6e4dd6d720c49939544352155dc06a08c9f7e4271aa631a559dfbeaaf9d4/missingno-0.4.2-py3-none-any.whl\n",
      "Collecting phik>=0.9.8 (from pandas-profiling[html,notebook])\n",
      "  Downloading https://files.pythonhosted.org/packages/03/cf/b8cef2778104dc5d319f36dd836efaceb07a037cbf63f27c966b5a193ce9/phik-0.9.9-py3-none-any.whl (607kB)\n",
      "Requirement already satisfied: astropy in c:\\users\\asus\\anaconda3\\lib\\site-packages (from pandas-profiling[html,notebook]) (3.2.1)\n",
      "Collecting jupyter-client>=5.3.4 (from pandas-profiling[html,notebook])\n",
      "  Downloading https://files.pythonhosted.org/packages/13/81/fe0eee1bcf949851a120254b1f530ae1e01bdde2d3ab9710c6ff81525061/jupyter_client-5.3.4-py2.py3-none-any.whl (92kB)\n",
      "Collecting jupyter-core>=4.6.1 (from pandas-profiling[html,notebook])\n",
      "  Downloading https://files.pythonhosted.org/packages/fb/82/86437f661875e30682e99d04c13ba6c216f86f5f6ca6ef212d3ee8b6ca11/jupyter_core-4.6.1-py2.py3-none-any.whl (82kB)\n",
      "Requirement already satisfied: ipywidgets in c:\\users\\asus\\anaconda3\\lib\\site-packages (from pandas-profiling[html,notebook]) (7.5.1)\n",
      "Requirement already satisfied: pytz>=2017.2 in c:\\users\\asus\\anaconda3\\lib\\site-packages (from pandas>=0.19->pandas-profiling[html,notebook]) (2019.3)\n",
      "Requirement already satisfied: python-dateutil>=2.6.1 in c:\\users\\asus\\anaconda3\\lib\\site-packages (from pandas>=0.19->pandas-profiling[html,notebook]) (2.8.0)\n",
      "Requirement already satisfied: numpy>=1.13.3 in c:\\users\\asus\\anaconda3\\lib\\site-packages (from pandas>=0.19->pandas-profiling[html,notebook]) (1.16.5)\n",
      "Requirement already satisfied: cycler>=0.10 in c:\\users\\asus\\anaconda3\\lib\\site-packages (from matplotlib>=1.4->pandas-profiling[html,notebook]) (0.10.0)\n",
      "Requirement already satisfied: kiwisolver>=1.0.1 in c:\\users\\asus\\anaconda3\\lib\\site-packages (from matplotlib>=1.4->pandas-profiling[html,notebook]) (1.1.0)\n",
      "Requirement already satisfied: pyparsing!=2.0.4,!=2.1.2,!=2.1.6,>=2.0.1 in c:\\users\\asus\\anaconda3\\lib\\site-packages (from matplotlib>=1.4->pandas-profiling[html,notebook]) (2.4.2)\n",
      "Requirement already satisfied: pyyaml in c:\\users\\asus\\anaconda3\\lib\\site-packages (from confuse>=1.0.0->pandas-profiling[html,notebook]) (5.1.2)\n",
      "Requirement already satisfied: MarkupSafe>=0.23 in c:\\users\\asus\\anaconda3\\lib\\site-packages (from jinja2>=2.8->pandas-profiling[html,notebook]) (1.1.1)\n",
      "Requirement already satisfied: seaborn in c:\\users\\asus\\anaconda3\\lib\\site-packages (from missingno>=0.4.2->pandas-profiling[html,notebook]) (0.9.0)\n",
      "Requirement already satisfied: scipy in c:\\users\\asus\\anaconda3\\lib\\site-packages (from missingno>=0.4.2->pandas-profiling[html,notebook]) (1.3.1)\n",
      "Collecting pytest-pylint>=0.13.0 (from phik>=0.9.8->pandas-profiling[html,notebook])\n",
      "  Downloading https://files.pythonhosted.org/packages/0f/2e/12d3e83e90341fc7aff0e42955ab560df4e7f07b847f98302e23eba96289/pytest_pylint-0.15.0-py3-none-any.whl\n",
      "Collecting joblib>=0.14.1 (from phik>=0.9.8->pandas-profiling[html,notebook])\n",
      "  Downloading https://files.pythonhosted.org/packages/28/5c/cf6a2b65a321c4a209efcdf64c2689efae2cb62661f8f6f4bb28547cf1bf/joblib-0.14.1-py2.py3-none-any.whl (294kB)\n",
      "Requirement already satisfied: pytest>=4.0.2 in c:\\users\\asus\\anaconda3\\lib\\site-packages (from phik>=0.9.8->pandas-profiling[html,notebook]) (5.2.1)\n",
      "Requirement already satisfied: numba>=0.38.1 in c:\\users\\asus\\anaconda3\\lib\\site-packages (from phik>=0.9.8->pandas-profiling[html,notebook]) (0.45.1)\n",
      "Requirement already satisfied: nbconvert>=5.3.1 in c:\\users\\asus\\anaconda3\\lib\\site-packages (from phik>=0.9.8->pandas-profiling[html,notebook]) (5.6.0)\n",
      "Requirement already satisfied: tornado>=4.1 in c:\\users\\asus\\anaconda3\\lib\\site-packages (from jupyter-client>=5.3.4->pandas-profiling[html,notebook]) (6.0.3)\n",
      "Requirement already satisfied: pyzmq>=13 in c:\\users\\asus\\anaconda3\\lib\\site-packages (from jupyter-client>=5.3.4->pandas-profiling[html,notebook]) (18.1.0)\n",
      "Requirement already satisfied: traitlets in c:\\users\\asus\\anaconda3\\lib\\site-packages (from jupyter-client>=5.3.4->pandas-profiling[html,notebook]) (4.3.3)\n",
      "Requirement already satisfied: pywin32>=1.0; sys_platform == \"win32\" in c:\\users\\asus\\anaconda3\\lib\\site-packages (from jupyter-client>=5.3.4->pandas-profiling[html,notebook]) (223)\n",
      "Requirement already satisfied: widgetsnbextension~=3.5.0 in c:\\users\\asus\\anaconda3\\lib\\site-packages (from ipywidgets->pandas-profiling[html,notebook]) (3.5.1)\n",
      "Requirement already satisfied: ipython>=4.0.0; python_version >= \"3.3\" in c:\\users\\asus\\anaconda3\\lib\\site-packages (from ipywidgets->pandas-profiling[html,notebook]) (7.8.0)\n",
      "Requirement already satisfied: nbformat>=4.2.0 in c:\\users\\asus\\anaconda3\\lib\\site-packages (from ipywidgets->pandas-profiling[html,notebook]) (4.4.0)\n",
      "Requirement already satisfied: ipykernel>=4.5.1 in c:\\users\\asus\\anaconda3\\lib\\site-packages (from ipywidgets->pandas-profiling[html,notebook]) (5.1.2)\n",
      "Requirement already satisfied: six>=1.5 in c:\\users\\asus\\anaconda3\\lib\\site-packages (from python-dateutil>=2.6.1->pandas>=0.19->pandas-profiling[html,notebook]) (1.12.0)\n",
      "Requirement already satisfied: setuptools in c:\\users\\asus\\anaconda3\\lib\\site-packages (from kiwisolver>=1.0.1->matplotlib>=1.4->pandas-profiling[html,notebook]) (41.4.0)\n",
      "Requirement already satisfied: pylint>=2.0.0 in c:\\users\\asus\\anaconda3\\lib\\site-packages (from pytest-pylint>=0.13.0->phik>=0.9.8->pandas-profiling[html,notebook]) (2.4.2)\n",
      "Requirement already satisfied: py>=1.5.0 in c:\\users\\asus\\anaconda3\\lib\\site-packages (from pytest>=4.0.2->phik>=0.9.8->pandas-profiling[html,notebook]) (1.8.0)\n",
      "Requirement already satisfied: packaging in c:\\users\\asus\\anaconda3\\lib\\site-packages (from pytest>=4.0.2->phik>=0.9.8->pandas-profiling[html,notebook]) (19.2)\n",
      "Requirement already satisfied: attrs>=17.4.0 in c:\\users\\asus\\anaconda3\\lib\\site-packages (from pytest>=4.0.2->phik>=0.9.8->pandas-profiling[html,notebook]) (19.2.0)\n",
      "Requirement already satisfied: more-itertools>=4.0.0 in c:\\users\\asus\\anaconda3\\lib\\site-packages (from pytest>=4.0.2->phik>=0.9.8->pandas-profiling[html,notebook]) (7.2.0)\n",
      "Requirement already satisfied: atomicwrites>=1.0 in c:\\users\\asus\\anaconda3\\lib\\site-packages (from pytest>=4.0.2->phik>=0.9.8->pandas-profiling[html,notebook]) (1.3.0)\n",
      "Requirement already satisfied: pluggy<1.0,>=0.12 in c:\\users\\asus\\anaconda3\\lib\\site-packages (from pytest>=4.0.2->phik>=0.9.8->pandas-profiling[html,notebook]) (0.13.0)\n",
      "Requirement already satisfied: wcwidth in c:\\users\\asus\\anaconda3\\lib\\site-packages (from pytest>=4.0.2->phik>=0.9.8->pandas-profiling[html,notebook]) (0.1.7)\n",
      "Requirement already satisfied: importlib-metadata>=0.12 in c:\\users\\asus\\anaconda3\\lib\\site-packages (from pytest>=4.0.2->phik>=0.9.8->pandas-profiling[html,notebook]) (0.23)\n",
      "Requirement already satisfied: colorama in c:\\users\\asus\\anaconda3\\lib\\site-packages (from pytest>=4.0.2->phik>=0.9.8->pandas-profiling[html,notebook]) (0.4.1)\n",
      "Requirement already satisfied: llvmlite>=0.29.0dev0 in c:\\users\\asus\\anaconda3\\lib\\site-packages (from numba>=0.38.1->phik>=0.9.8->pandas-profiling[html,notebook]) (0.29.0)\n",
      "Requirement already satisfied: testpath in c:\\users\\asus\\anaconda3\\lib\\site-packages (from nbconvert>=5.3.1->phik>=0.9.8->pandas-profiling[html,notebook]) (0.4.2)\n",
      "Requirement already satisfied: defusedxml in c:\\users\\asus\\anaconda3\\lib\\site-packages (from nbconvert>=5.3.1->phik>=0.9.8->pandas-profiling[html,notebook]) (0.6.0)\n",
      "Requirement already satisfied: mistune<2,>=0.8.1 in c:\\users\\asus\\anaconda3\\lib\\site-packages (from nbconvert>=5.3.1->phik>=0.9.8->pandas-profiling[html,notebook]) (0.8.4)\n",
      "Requirement already satisfied: pandocfilters>=1.4.1 in c:\\users\\asus\\anaconda3\\lib\\site-packages (from nbconvert>=5.3.1->phik>=0.9.8->pandas-profiling[html,notebook]) (1.4.2)\n",
      "Requirement already satisfied: entrypoints>=0.2.2 in c:\\users\\asus\\anaconda3\\lib\\site-packages (from nbconvert>=5.3.1->phik>=0.9.8->pandas-profiling[html,notebook]) (0.3)\n",
      "Requirement already satisfied: pygments in c:\\users\\asus\\anaconda3\\lib\\site-packages (from nbconvert>=5.3.1->phik>=0.9.8->pandas-profiling[html,notebook]) (2.4.2)\n",
      "Requirement already satisfied: bleach in c:\\users\\asus\\anaconda3\\lib\\site-packages (from nbconvert>=5.3.1->phik>=0.9.8->pandas-profiling[html,notebook]) (3.1.0)\n",
      "Requirement already satisfied: decorator in c:\\users\\asus\\anaconda3\\lib\\site-packages (from traitlets->jupyter-client>=5.3.4->pandas-profiling[html,notebook]) (4.4.0)\n",
      "Requirement already satisfied: ipython-genutils in c:\\users\\asus\\anaconda3\\lib\\site-packages (from traitlets->jupyter-client>=5.3.4->pandas-profiling[html,notebook]) (0.2.0)\n",
      "Requirement already satisfied: notebook>=4.4.1 in c:\\users\\asus\\anaconda3\\lib\\site-packages (from widgetsnbextension~=3.5.0->ipywidgets->pandas-profiling[html,notebook]) (6.0.1)\n",
      "Requirement already satisfied: pickleshare in c:\\users\\asus\\anaconda3\\lib\\site-packages (from ipython>=4.0.0; python_version >= \"3.3\"->ipywidgets->pandas-profiling[html,notebook]) (0.7.5)\n",
      "Requirement already satisfied: backcall in c:\\users\\asus\\anaconda3\\lib\\site-packages (from ipython>=4.0.0; python_version >= \"3.3\"->ipywidgets->pandas-profiling[html,notebook]) (0.1.0)\n",
      "Requirement already satisfied: prompt-toolkit<2.1.0,>=2.0.0 in c:\\users\\asus\\anaconda3\\lib\\site-packages (from ipython>=4.0.0; python_version >= \"3.3\"->ipywidgets->pandas-profiling[html,notebook]) (2.0.10)\n",
      "Requirement already satisfied: jedi>=0.10 in c:\\users\\asus\\anaconda3\\lib\\site-packages (from ipython>=4.0.0; python_version >= \"3.3\"->ipywidgets->pandas-profiling[html,notebook]) (0.15.1)\n",
      "Requirement already satisfied: jsonschema!=2.5.0,>=2.4 in c:\\users\\asus\\anaconda3\\lib\\site-packages (from nbformat>=4.2.0->ipywidgets->pandas-profiling[html,notebook]) (3.0.2)\n",
      "Requirement already satisfied: mccabe<0.7,>=0.6 in c:\\users\\asus\\anaconda3\\lib\\site-packages (from pylint>=2.0.0->pytest-pylint>=0.13.0->phik>=0.9.8->pandas-profiling[html,notebook]) (0.6.1)\n",
      "Requirement already satisfied: isort<5,>=4.2.5 in c:\\users\\asus\\anaconda3\\lib\\site-packages (from pylint>=2.0.0->pytest-pylint>=0.13.0->phik>=0.9.8->pandas-profiling[html,notebook]) (4.3.21)\n",
      "Requirement already satisfied: astroid<2.4,>=2.3.0 in c:\\users\\asus\\anaconda3\\lib\\site-packages (from pylint>=2.0.0->pytest-pylint>=0.13.0->phik>=0.9.8->pandas-profiling[html,notebook]) (2.3.1)\n",
      "Requirement already satisfied: zipp>=0.5 in c:\\users\\asus\\anaconda3\\lib\\site-packages (from importlib-metadata>=0.12->pytest>=4.0.2->phik>=0.9.8->pandas-profiling[html,notebook]) (0.6.0)\n",
      "Requirement already satisfied: webencodings in c:\\users\\asus\\anaconda3\\lib\\site-packages (from bleach->nbconvert>=5.3.1->phik>=0.9.8->pandas-profiling[html,notebook]) (0.5.1)\n",
      "Requirement already satisfied: prometheus-client in c:\\users\\asus\\anaconda3\\lib\\site-packages (from notebook>=4.4.1->widgetsnbextension~=3.5.0->ipywidgets->pandas-profiling[html,notebook]) (0.7.1)\n",
      "Requirement already satisfied: terminado>=0.8.1 in c:\\users\\asus\\anaconda3\\lib\\site-packages (from notebook>=4.4.1->widgetsnbextension~=3.5.0->ipywidgets->pandas-profiling[html,notebook]) (0.8.2)\n",
      "Requirement already satisfied: Send2Trash in c:\\users\\asus\\anaconda3\\lib\\site-packages (from notebook>=4.4.1->widgetsnbextension~=3.5.0->ipywidgets->pandas-profiling[html,notebook]) (1.5.0)\n",
      "Requirement already satisfied: parso>=0.5.0 in c:\\users\\asus\\anaconda3\\lib\\site-packages (from jedi>=0.10->ipython>=4.0.0; python_version >= \"3.3\"->ipywidgets->pandas-profiling[html,notebook]) (0.5.1)\n",
      "Requirement already satisfied: pyrsistent>=0.14.0 in c:\\users\\asus\\anaconda3\\lib\\site-packages (from jsonschema!=2.5.0,>=2.4->nbformat>=4.2.0->ipywidgets->pandas-profiling[html,notebook]) (0.15.4)\n",
      "Collecting typed-ast<1.5,>=1.4.0; implementation_name == \"cpython\" and python_version < \"3.8\" (from astroid<2.4,>=2.3.0->pylint>=2.0.0->pytest-pylint>=0.13.0->phik>=0.9.8->pandas-profiling[html,notebook])\n",
      "  Downloading https://files.pythonhosted.org/packages/6d/6f/c67eed763bcc095d9187c7a04fdc3ba640d1e990368acfcb1d294ff71549/typed_ast-1.4.1-cp37-cp37m-win_amd64.whl (155kB)\n",
      "Requirement already satisfied: wrapt==1.11.* in c:\\users\\asus\\anaconda3\\lib\\site-packages (from astroid<2.4,>=2.3.0->pylint>=2.0.0->pytest-pylint>=0.13.0->phik>=0.9.8->pandas-profiling[html,notebook]) (1.11.2)\n",
      "Requirement already satisfied: lazy-object-proxy==1.4.* in c:\\users\\asus\\anaconda3\\lib\\site-packages (from astroid<2.4,>=2.3.0->pylint>=2.0.0->pytest-pylint>=0.13.0->phik>=0.9.8->pandas-profiling[html,notebook]) (1.4.2)\n",
      "Building wheels for collected packages: pandas-profiling, confuse, htmlmin\n",
      "  Building wheel for pandas-profiling (setup.py): started\n",
      "  Building wheel for pandas-profiling (setup.py): finished with status 'done'\n",
      "  Created wheel for pandas-profiling: filename=pandas_profiling-2.4.0-py2.py3-none-any.whl size=195596 sha256=0f7703a0d876d4348ece99edd97e09a668054ed1c4eebec2e687066686ce6585\n",
      "  Stored in directory: C:\\Users\\Asus\\AppData\\Local\\pip\\Cache\\wheels\\b2\\4b\\40\\ff4633a59f4e7fbdfec19b8e10e353b54b5eef125c31afe51a\n",
      "  Building wheel for confuse (setup.py): started\n",
      "  Building wheel for confuse (setup.py): finished with status 'done'\n",
      "  Created wheel for confuse: filename=confuse-1.0.0-cp37-none-any.whl size=17494 sha256=38859698e8dfbdb57d706857aad70608628702e501b7fbd68b27db19c04ad975\n",
      "  Stored in directory: C:\\Users\\Asus\\AppData\\Local\\pip\\Cache\\wheels\\b0\\b2\\96\\2074eee7dbf7b7df69d004c9b6ac4e32dad04fb7666cf943bd\n",
      "  Building wheel for htmlmin (setup.py): started\n",
      "  Building wheel for htmlmin (setup.py): finished with status 'done'\n",
      "  Created wheel for htmlmin: filename=htmlmin-0.1.12-cp37-none-any.whl size=27090 sha256=8e51c73b19bf95e19675d0109b5f82c20e9cbb36c466420446cc2f062432f100\n",
      "  Stored in directory: C:\\Users\\Asus\\AppData\\Local\\pip\\Cache\\wheels\\43\\07\\ac\\7c5a9d708d65247ac1f94066cf1db075540b85716c30255459\n",
      "Successfully built pandas-profiling confuse htmlmin\n",
      "Installing collected packages: confuse, htmlmin, missingno, pytest-pylint, joblib, jupyter-core, jupyter-client, phik, pandas-profiling, typed-ast\n",
      "Successfully installed confuse-1.0.0 htmlmin-0.1.12 joblib-0.14.1 jupyter-client-5.3.4 jupyter-core-4.6.1 missingno-0.4.2 pandas-profiling-2.4.0 phik-0.9.9 pytest-pylint-0.15.0 typed-ast-1.4.1\n"
     ]
    },
    {
     "name": "stderr",
     "output_type": "stream",
     "text": [
      "  WARNING: The script htmlmin.exe is installed in 'C:\\Users\\Asus\\AppData\\Roaming\\Python\\Python37\\Scripts' which is not on PATH.\n",
      "  Consider adding this directory to PATH or, if you prefer to suppress this warning, use --no-warn-script-location.\n",
      "  WARNING: The scripts jupyter-migrate.exe, jupyter-troubleshoot.exe and jupyter.exe are installed in 'C:\\Users\\Asus\\AppData\\Roaming\\Python\\Python37\\Scripts' which is not on PATH.\n",
      "  Consider adding this directory to PATH or, if you prefer to suppress this warning, use --no-warn-script-location.\n",
      "  WARNING: The scripts jupyter-kernel.exe, jupyter-kernelspec.exe and jupyter-run.exe are installed in 'C:\\Users\\Asus\\AppData\\Roaming\\Python\\Python37\\Scripts' which is not on PATH.\n",
      "  Consider adding this directory to PATH or, if you prefer to suppress this warning, use --no-warn-script-location.\n",
      "  WARNING: The script phik_trial.exe is installed in 'C:\\Users\\Asus\\AppData\\Roaming\\Python\\Python37\\Scripts' which is not on PATH.\n",
      "  Consider adding this directory to PATH or, if you prefer to suppress this warning, use --no-warn-script-location.\n",
      "  WARNING: The script pandas_profiling.exe is installed in 'C:\\Users\\Asus\\AppData\\Roaming\\Python\\Python37\\Scripts' which is not on PATH.\n",
      "  Consider adding this directory to PATH or, if you prefer to suppress this warning, use --no-warn-script-location.\n"
     ]
    },
    {
     "ename": "ModuleNotFoundError",
     "evalue": "No module named 'pandas_profiling'",
     "output_type": "error",
     "traceback": [
      "\u001b[1;31m---------------------------------------------------------------------------\u001b[0m",
      "\u001b[1;31mModuleNotFoundError\u001b[0m                       Traceback (most recent call last)",
      "\u001b[1;32m<ipython-input-5-1709ca79debf>\u001b[0m in \u001b[0;36m<module>\u001b[1;34m\u001b[0m\n\u001b[0;32m      2\u001b[0m \u001b[1;32mtry\u001b[0m\u001b[1;33m:\u001b[0m\u001b[1;33m\u001b[0m\u001b[1;33m\u001b[0m\u001b[0m\n\u001b[1;32m----> 3\u001b[1;33m     \u001b[1;32mfrom\u001b[0m \u001b[0mpandas_profiling\u001b[0m \u001b[1;32mimport\u001b[0m \u001b[0mProfileReport\u001b[0m\u001b[1;33m\u001b[0m\u001b[1;33m\u001b[0m\u001b[0m\n\u001b[0m\u001b[0;32m      4\u001b[0m \u001b[1;33m\u001b[0m\u001b[0m\n",
      "\u001b[1;31mModuleNotFoundError\u001b[0m: No module named 'pandas_profiling'",
      "\nDuring handling of the above exception, another exception occurred:\n",
      "\u001b[1;31mModuleNotFoundError\u001b[0m                       Traceback (most recent call last)",
      "\u001b[1;32m<ipython-input-5-1709ca79debf>\u001b[0m in \u001b[0;36m<module>\u001b[1;34m\u001b[0m\n\u001b[0;32m      5\u001b[0m \u001b[1;32mexcept\u001b[0m \u001b[0mModuleNotFoundError\u001b[0m\u001b[1;33m:\u001b[0m\u001b[1;33m\u001b[0m\u001b[1;33m\u001b[0m\u001b[0m\n\u001b[0;32m      6\u001b[0m     \u001b[0mget_ipython\u001b[0m\u001b[1;33m(\u001b[0m\u001b[1;33m)\u001b[0m\u001b[1;33m.\u001b[0m\u001b[0msystem\u001b[0m\u001b[1;33m(\u001b[0m\u001b[1;34m'pip install pandas-profiling[notebook,html] --user'\u001b[0m\u001b[1;33m)\u001b[0m\u001b[1;33m\u001b[0m\u001b[1;33m\u001b[0m\u001b[0m\n\u001b[1;32m----> 7\u001b[1;33m     \u001b[1;32mfrom\u001b[0m \u001b[0mpandas_profiling\u001b[0m \u001b[1;32mimport\u001b[0m \u001b[0mProfileReport\u001b[0m\u001b[1;33m\u001b[0m\u001b[1;33m\u001b[0m\u001b[0m\n\u001b[0m",
      "\u001b[1;31mModuleNotFoundError\u001b[0m: No module named 'pandas_profiling'"
     ]
    }
   ],
   "source": [
    "# пытаемся импортить библиотеку для отчетов\n",
    "try:\n",
    "    from pandas_profiling import ProfileReport\n",
    "    \n",
    "except ModuleNotFoundError:\n",
    "    !pip install pandas-profiling[notebook,html] --user\n",
    "    from pandas_profiling import ProfileReport"
   ]
  },
  {
   "cell_type": "code",
   "execution_count": null,
   "metadata": {},
   "outputs": [],
   "source": []
  },
  {
   "cell_type": "code",
   "execution_count": null,
   "metadata": {},
   "outputs": [],
   "source": []
  },
  {
   "cell_type": "code",
   "execution_count": null,
   "metadata": {},
   "outputs": [],
   "source": [
    "import os"
   ]
  },
  {
   "cell_type": "code",
   "execution_count": null,
   "metadata": {
    "scrolled": false
   },
   "outputs": [],
   "source": [
    "# Если отчетов нет, то создаем, мб долго\n",
    "if not os.path.exists(\"train_report.html\"):\n",
    "    profile = ProfileReport(train,minimal = True)\n",
    "    profile.to_file(output_file=\"train_report.html\")"
   ]
  },
  {
   "cell_type": "code",
   "execution_count": null,
   "metadata": {},
   "outputs": [],
   "source": [
    "if not os.path.exists(\"test_report.html\"):\n",
    "    profile = ProfileReport(test,minimal = True)\n",
    "    profile.to_file(output_file=\"test_report.html\")"
   ]
  },
  {
   "cell_type": "markdown",
   "metadata": {},
   "source": [
    "### Как выбрать способ проверки моделей под задачу"
   ]
  },
  {
   "cell_type": "markdown",
   "metadata": {},
   "source": [
    "Принцип всегда один - проверять модель надо максимально близко к тому, как ее будут использовать:)\n",
    "Попробуем соотнести задачи с методом валидации\n",
    "<ol>\n",
    "    <li>кредитный скоринг - найти вероятность невозврата кредита для пользователя</li>\n",
    "<li>предсказание цен на акции - найти цену акций завтра</li> \n",
    "<li>предсказание клика на баннер на главной странице яндекса - найти вероятность клика для пользователя</li>\n",
    "    <li>исследование эффективности лекарства - предсказание вероятности эффективности лечения</li>\n",
    "</ol>\n",
    "\n",
    "- train, test, valid \n",
    "    - с перемешиванием?\n",
    "- K-Fold\n",
    "    - с перемешиванием?\n",
    "- Time Split"
   ]
  },
  {
   "cell_type": "markdown",
   "metadata": {},
   "source": [
    "Что важно:\n",
    "<ol>\n",
    "    <li>Модель протухает со временем</li>\n",
    "    <li>Предсказание и трейн разнесены во времени - влияние временных фичей, не всегда можно шаффлить == перемешивать</li>\n",
    "    <li>Размер выборки и число раз обучения</li>\n",
    "    <li>Как можно более несмещенная оценка относительно размера выборки - число фолдов K</li>\n",
    "</ol>"
   ]
  },
  {
   "cell_type": "code",
   "execution_count": 8,
   "metadata": {},
   "outputs": [],
   "source": [
    "# Хинт для подсчета разных статистик\n",
    "train['ones'] = 1\n",
    "test['ones'] = 1"
   ]
  },
  {
   "cell_type": "code",
   "execution_count": 9,
   "metadata": {},
   "outputs": [
    {
     "data": {
      "text/plain": [
       "<matplotlib.lines.Line2D at 0x7f37caacfcf8>"
      ]
     },
     "execution_count": 9,
     "metadata": {},
     "output_type": "execute_result"
    },
    {
     "data": {
      "image/png": "[encoded data removed]",
      "text/plain": [
       "<Figure size 576x396 with 1 Axes>"
      ]
     },
     "metadata": {},
     "output_type": "display_data"
    }
   ],
   "source": [
    "# поймем как разбито по времени\n",
    "gr_day_train = train.resample('D')['ones'].first()\n",
    "gr_day_test = test.resample('D')['ones'].first()-1\n",
    "ax = gr_day_train.plot(label = 'train')\n",
    "\n",
    "gr_day_test.plot(color='r',label = 'test')\n",
    "ax.legend()\n",
    "ax.axvline(test.index.max(),linestyle = '--',color = 'r')"
   ]
  },
  {
   "cell_type": "code",
   "execution_count": 10,
   "metadata": {},
   "outputs": [
    {
     "name": "stdout",
     "output_type": "stream",
     "text": [
      "(16860, 87)\n",
      "(11353, 87)\n"
     ]
    }
   ],
   "source": [
    "# обрежем будущее\n",
    "print(train.shape)\n",
    "right_train = train[test.index.max():]\n",
    "train = train[:test.index.max()]\n",
    "\n",
    "print(train.shape)"
   ]
  },
  {
   "cell_type": "markdown",
   "metadata": {},
   "source": [
    "#### Чем грозит такое разбиение?"
   ]
  },
  {
   "cell_type": "markdown",
   "metadata": {},
   "source": [
    "Модель не видела 4 месяца года - значит для них нужна экстраполяция как минимум."
   ]
  },
  {
   "cell_type": "markdown",
   "metadata": {},
   "source": [
    "### Фичи из индекса"
   ]
  },
  {
   "cell_type": "code",
   "execution_count": 11,
   "metadata": {},
   "outputs": [],
   "source": [
    "targets = ['rougher.output.recovery','final.output.recovery']"
   ]
  },
  {
   "cell_type": "code",
   "execution_count": 12,
   "metadata": {},
   "outputs": [
    {
     "data": {
      "image/png": "[encoded data removed]",
      "text/plain": [
       "<Figure size 2160x720 with 6 Axes>"
      ]
     },
     "metadata": {},
     "output_type": "display_data"
    }
   ],
   "source": [
    "fig, ax = plt.subplots(3,2,figsize = (30,10))\n",
    "for num, name in enumerate(targets):\n",
    "    train.resample('D')[name].median().plot(ax = ax[0,num],label = f'годовой профиль {name}')\n",
    "    ax[0,num].legend()\n",
    "    train.groupby(train.index.hour)[name].median().plot(ax = ax[1,num],label = f'дневной профиль {name}')\n",
    "    ax[1,num].legend()\n",
    "    train.groupby(train.index.day)[name].median().plot(ax = ax[2,num],label = f'месячный профиль {name}')\n",
    "    ax[2,num].legend()"
   ]
  },
  {
   "cell_type": "markdown",
   "metadata": {},
   "source": [
    "Даты важны, из них можно получить профили - соотношения таргета для каждого месяца, дня, года\n"
   ]
  },
  {
   "cell_type": "markdown",
   "metadata": {},
   "source": [
    "tsfresh, fbprophet - библиотеки для исследования временных рядов, перед установкой создать virtualenv"
   ]
  },
  {
   "cell_type": "markdown",
   "metadata": {},
   "source": [
    "virtualenv - позволяет делать слепок рабочей среды"
   ]
  },
  {
   "cell_type": "markdown",
   "metadata": {},
   "source": [
    "### Заполнение пропусков"
   ]
  },
  {
   "cell_type": "code",
   "execution_count": 13,
   "metadata": {},
   "outputs": [],
   "source": [
    "from sklearn.base import TransformerMixin"
   ]
  },
  {
   "cell_type": "code",
   "execution_count": 14,
   "metadata": {},
   "outputs": [],
   "source": [
    "# Наследуем от базового класса для всех ьрансформеров\n",
    "class Transformer(TransformerMixin):\n",
    "    def __init__(self,method_string,**kwargs):\n",
    "        self.method_string = method_string\n",
    "        self.kwargs = kwargs\n",
    "    def fit(self,X,y = None):\n",
    "        return self\n",
    "    def transform(self,X):\n",
    "        X.replace([-np.inf,np.inf],0,inplace = True)\n",
    "        if self.method_string == 'interpolate':\n",
    "            return X.interpolate(**self.kwargs)\n",
    "        elif self.method_string == 'ffill':\n",
    "            return X.fillna(method = self.method_string)\n",
    "        elif self.method_string == 'bfill':\n",
    "            return X.fillna(method = self.method_string)\n",
    "        else:\n",
    "            print('Not implemented')"
   ]
  },
  {
   "cell_type": "code",
   "execution_count": 15,
   "metadata": {},
   "outputs": [],
   "source": [
    "# Можно посмотерть исходный код\n",
    "#??TransformerMixin"
   ]
  },
  {
   "cell_type": "raw",
   "metadata": {},
   "source": []
  },
  {
   "cell_type": "code",
   "execution_count": 16,
   "metadata": {},
   "outputs": [],
   "source": [
    "# Сделали аналогичный трансформер\n",
    "from sklearn.preprocessing import RobustScaler"
   ]
  },
  {
   "cell_type": "code",
   "execution_count": 17,
   "metadata": {},
   "outputs": [],
   "source": [
    "rs = RobustScaler()\n"
   ]
  },
  {
   "cell_type": "code",
   "execution_count": 18,
   "metadata": {},
   "outputs": [
    {
     "name": "stdout",
     "output_type": "stream",
     "text": [
      "<class 'pandas.core.frame.DataFrame'>\n",
      "DatetimeIndex: 11353 entries, 2016-01-15 00:00:00 to 2017-08-31 23:59:59\n",
      "Data columns (total 87 columns):\n",
      "final.output.concentrate_ag                           11290 non-null float64\n",
      "final.output.concentrate_pb                           11290 non-null float64\n",
      "final.output.concentrate_sol                          10992 non-null float64\n",
      "final.output.concentrate_au                           11291 non-null float64\n",
      "final.output.recovery                                 10261 non-null float64\n",
      "final.output.tail_ag                                  11293 non-null float64\n",
      "final.output.tail_pb                                  11286 non-null float64\n",
      "final.output.tail_sol                                 11271 non-null float64\n",
      "final.output.tail_au                                  11293 non-null float64\n",
      "primary_cleaner.input.sulfate                         10667 non-null float64\n",
      "primary_cleaner.input.depressant                      10530 non-null float64\n",
      "primary_cleaner.input.feed_size                       11353 non-null float64\n",
      "primary_cleaner.input.xanthate                        10673 non-null float64\n",
      "primary_cleaner.output.concentrate_ag                 11290 non-null float64\n",
      "primary_cleaner.output.concentrate_pb                 11084 non-null float64\n",
      "primary_cleaner.output.concentrate_sol                10865 non-null float64\n",
      "primary_cleaner.output.concentrate_au                 11290 non-null float64\n",
      "primary_cleaner.output.tail_ag                        11289 non-null float64\n",
      "primary_cleaner.output.tail_pb                        11273 non-null float64\n",
      "primary_cleaner.output.tail_sol                       11206 non-null float64\n",
      "primary_cleaner.output.tail_au                        11289 non-null float64\n",
      "primary_cleaner.state.floatbank8_a_air                11331 non-null float64\n",
      "primary_cleaner.state.floatbank8_a_level              11334 non-null float64\n",
      "primary_cleaner.state.floatbank8_b_air                11331 non-null float64\n",
      "primary_cleaner.state.floatbank8_b_level              11340 non-null float64\n",
      "primary_cleaner.state.floatbank8_c_air                11333 non-null float64\n",
      "primary_cleaner.state.floatbank8_c_level              11340 non-null float64\n",
      "primary_cleaner.state.floatbank8_d_air                11332 non-null float64\n",
      "primary_cleaner.state.floatbank8_d_level              11340 non-null float64\n",
      "rougher.calculation.sulfate_to_au_concentrate         11340 non-null float64\n",
      "rougher.calculation.floatbank10_sulfate_to_au_feed    11340 non-null float64\n",
      "rougher.calculation.floatbank11_sulfate_to_au_feed    11340 non-null float64\n",
      "rougher.calculation.au_pb_ratio                       10437 non-null float64\n",
      "rougher.input.feed_ag                                 11290 non-null float64\n",
      "rougher.input.feed_pb                                 11252 non-null float64\n",
      "rougher.input.feed_rate                               11217 non-null float64\n",
      "rougher.input.feed_size                               10950 non-null float64\n",
      "rougher.input.feed_sol                                11148 non-null float64\n",
      "rougher.input.feed_au                                 11289 non-null float64\n",
      "rougher.input.floatbank10_sulfate                     10864 non-null float64\n",
      "rougher.input.floatbank10_xanthate                    11142 non-null float64\n",
      "rougher.input.floatbank11_sulfate                     11228 non-null float64\n",
      "rougher.input.floatbank11_xanthate                    10094 non-null float64\n",
      "rougher.output.concentrate_ag                         11290 non-null float64\n",
      "rougher.output.concentrate_pb                         11290 non-null float64\n",
      "rougher.output.concentrate_sol                        11242 non-null float64\n",
      "rougher.output.concentrate_au                         11290 non-null float64\n",
      "rougher.output.recovery                               9852 non-null float64\n",
      "rougher.output.tail_ag                                9971 non-null float64\n",
      "rougher.output.tail_pb                                11290 non-null float64\n",
      "rougher.output.tail_sol                               9972 non-null float64\n",
      "rougher.output.tail_au                                9972 non-null float64\n",
      "rougher.state.floatbank10_a_air                       11332 non-null float64\n",
      "rougher.state.floatbank10_a_level                     11332 non-null float64\n",
      "rougher.state.floatbank10_b_air                       11332 non-null float64\n",
      "rougher.state.floatbank10_b_level                     11332 non-null float64\n",
      "rougher.state.floatbank10_c_air                       11332 non-null float64\n",
      "rougher.state.floatbank10_c_level                     11339 non-null float64\n",
      "rougher.state.floatbank10_d_air                       11328 non-null float64\n",
      "rougher.state.floatbank10_d_level                     11335 non-null float64\n",
      "rougher.state.floatbank10_e_air                       11328 non-null float64\n",
      "rougher.state.floatbank10_e_level                     11335 non-null float64\n",
      "rougher.state.floatbank10_f_air                       11328 non-null float64\n",
      "rougher.state.floatbank10_f_level                     11328 non-null float64\n",
      "secondary_cleaner.output.tail_ag                      11288 non-null float64\n",
      "secondary_cleaner.output.tail_pb                      11278 non-null float64\n",
      "secondary_cleaner.output.tail_sol                     11058 non-null float64\n",
      "secondary_cleaner.output.tail_au                      11290 non-null float64\n",
      "secondary_cleaner.state.floatbank2_a_air              11180 non-null float64\n",
      "secondary_cleaner.state.floatbank2_a_level            11262 non-null float64\n",
      "secondary_cleaner.state.floatbank2_b_air              11216 non-null float64\n",
      "secondary_cleaner.state.floatbank2_b_level            11259 non-null float64\n",
      "secondary_cleaner.state.floatbank3_a_air              11278 non-null float64\n",
      "secondary_cleaner.state.floatbank3_a_level            11258 non-null float64\n",
      "secondary_cleaner.state.floatbank3_b_air              11263 non-null float64\n",
      "secondary_cleaner.state.floatbank3_b_level            11261 non-null float64\n",
      "secondary_cleaner.state.floatbank4_a_air              11243 non-null float64\n",
      "secondary_cleaner.state.floatbank4_a_level            11258 non-null float64\n",
      "secondary_cleaner.state.floatbank4_b_air              11286 non-null float64\n",
      "secondary_cleaner.state.floatbank4_b_level            11285 non-null float64\n",
      "secondary_cleaner.state.floatbank5_a_air              11286 non-null float64\n",
      "secondary_cleaner.state.floatbank5_a_level            11286 non-null float64\n",
      "secondary_cleaner.state.floatbank5_b_air              11286 non-null float64\n",
      "secondary_cleaner.state.floatbank5_b_level            11287 non-null float64\n",
      "secondary_cleaner.state.floatbank6_a_air              11273 non-null float64\n",
      "secondary_cleaner.state.floatbank6_a_level            11286 non-null float64\n",
      "ones                                                  11353 non-null int64\n",
      "dtypes: float64(86), int64(1)\n",
      "memory usage: 7.6 MB\n"
     ]
    }
   ],
   "source": [
    "train.info()"
   ]
  },
  {
   "cell_type": "code",
   "execution_count": 19,
   "metadata": {},
   "outputs": [],
   "source": [
    "tr = Transformer(method_string = 'interpolate',order = 2, method = 'polynomial')\n",
    "tr = Transformer(method_string = 'bfill')\n",
    "A = tr.fit_transform(train)"
   ]
  },
  {
   "cell_type": "code",
   "execution_count": 20,
   "metadata": {},
   "outputs": [
    {
     "name": "stdout",
     "output_type": "stream",
     "text": [
      "<class 'pandas.core.frame.DataFrame'>\n",
      "DatetimeIndex: 11353 entries, 2016-01-15 00:00:00 to 2017-08-31 23:59:59\n",
      "Data columns (total 87 columns):\n",
      "final.output.concentrate_ag                           11353 non-null float64\n",
      "final.output.concentrate_pb                           11353 non-null float64\n",
      "final.output.concentrate_sol                          11353 non-null float64\n",
      "final.output.concentrate_au                           11353 non-null float64\n",
      "final.output.recovery                                 11353 non-null float64\n",
      "final.output.tail_ag                                  11353 non-null float64\n",
      "final.output.tail_pb                                  11353 non-null float64\n",
      "final.output.tail_sol                                 11353 non-null float64\n",
      "final.output.tail_au                                  11353 non-null float64\n",
      "primary_cleaner.input.sulfate                         11353 non-null float64\n",
      "primary_cleaner.input.depressant                      11353 non-null float64\n",
      "primary_cleaner.input.feed_size                       11353 non-null float64\n",
      "primary_cleaner.input.xanthate                        11353 non-null float64\n",
      "primary_cleaner.output.concentrate_ag                 11353 non-null float64\n",
      "primary_cleaner.output.concentrate_pb                 11353 non-null float64\n",
      "primary_cleaner.output.concentrate_sol                11353 non-null float64\n",
      "primary_cleaner.output.concentrate_au                 11353 non-null float64\n",
      "primary_cleaner.output.tail_ag                        11353 non-null float64\n",
      "primary_cleaner.output.tail_pb                        11353 non-null float64\n",
      "primary_cleaner.output.tail_sol                       11353 non-null float64\n",
      "primary_cleaner.output.tail_au                        11353 non-null float64\n",
      "primary_cleaner.state.floatbank8_a_air                11353 non-null float64\n",
      "primary_cleaner.state.floatbank8_a_level              11353 non-null float64\n",
      "primary_cleaner.state.floatbank8_b_air                11353 non-null float64\n",
      "primary_cleaner.state.floatbank8_b_level              11353 non-null float64\n",
      "primary_cleaner.state.floatbank8_c_air                11353 non-null float64\n",
      "primary_cleaner.state.floatbank8_c_level              11353 non-null float64\n",
      "primary_cleaner.state.floatbank8_d_air                11353 non-null float64\n",
      "primary_cleaner.state.floatbank8_d_level              11353 non-null float64\n",
      "rougher.calculation.sulfate_to_au_concentrate         11353 non-null float64\n",
      "rougher.calculation.floatbank10_sulfate_to_au_feed    11353 non-null float64\n",
      "rougher.calculation.floatbank11_sulfate_to_au_feed    11353 non-null float64\n",
      "rougher.calculation.au_pb_ratio                       11353 non-null float64\n",
      "rougher.input.feed_ag                                 11353 non-null float64\n",
      "rougher.input.feed_pb                                 11353 non-null float64\n",
      "rougher.input.feed_rate                               11353 non-null float64\n",
      "rougher.input.feed_size                               11353 non-null float64\n",
      "rougher.input.feed_sol                                11353 non-null float64\n",
      "rougher.input.feed_au                                 11353 non-null float64\n",
      "rougher.input.floatbank10_sulfate                     11353 non-null float64\n",
      "rougher.input.floatbank10_xanthate                    11353 non-null float64\n",
      "rougher.input.floatbank11_sulfate                     11353 non-null float64\n",
      "rougher.input.floatbank11_xanthate                    11353 non-null float64\n",
      "rougher.output.concentrate_ag                         11353 non-null float64\n",
      "rougher.output.concentrate_pb                         11353 non-null float64\n",
      "rougher.output.concentrate_sol                        11353 non-null float64\n",
      "rougher.output.concentrate_au                         11353 non-null float64\n",
      "rougher.output.recovery                               11353 non-null float64\n",
      "rougher.output.tail_ag                                11353 non-null float64\n",
      "rougher.output.tail_pb                                11353 non-null float64\n",
      "rougher.output.tail_sol                               11353 non-null float64\n",
      "rougher.output.tail_au                                11353 non-null float64\n",
      "rougher.state.floatbank10_a_air                       11353 non-null float64\n",
      "rougher.state.floatbank10_a_level                     11353 non-null float64\n",
      "rougher.state.floatbank10_b_air                       11353 non-null float64\n",
      "rougher.state.floatbank10_b_level                     11353 non-null float64\n",
      "rougher.state.floatbank10_c_air                       11353 non-null float64\n",
      "rougher.state.floatbank10_c_level                     11353 non-null float64\n",
      "rougher.state.floatbank10_d_air                       11353 non-null float64\n",
      "rougher.state.floatbank10_d_level                     11353 non-null float64\n",
      "rougher.state.floatbank10_e_air                       11353 non-null float64\n",
      "rougher.state.floatbank10_e_level                     11353 non-null float64\n",
      "rougher.state.floatbank10_f_air                       11353 non-null float64\n",
      "rougher.state.floatbank10_f_level                     11353 non-null float64\n",
      "secondary_cleaner.output.tail_ag                      11353 non-null float64\n",
      "secondary_cleaner.output.tail_pb                      11353 non-null float64\n",
      "secondary_cleaner.output.tail_sol                     11353 non-null float64\n",
      "secondary_cleaner.output.tail_au                      11353 non-null float64\n",
      "secondary_cleaner.state.floatbank2_a_air              11353 non-null float64\n",
      "secondary_cleaner.state.floatbank2_a_level            11353 non-null float64\n",
      "secondary_cleaner.state.floatbank2_b_air              11353 non-null float64\n",
      "secondary_cleaner.state.floatbank2_b_level            11353 non-null float64\n",
      "secondary_cleaner.state.floatbank3_a_air              11353 non-null float64\n",
      "secondary_cleaner.state.floatbank3_a_level            11353 non-null float64\n",
      "secondary_cleaner.state.floatbank3_b_air              11353 non-null float64\n",
      "secondary_cleaner.state.floatbank3_b_level            11353 non-null float64\n",
      "secondary_cleaner.state.floatbank4_a_air              11353 non-null float64\n",
      "secondary_cleaner.state.floatbank4_a_level            11353 non-null float64\n",
      "secondary_cleaner.state.floatbank4_b_air              11353 non-null float64\n",
      "secondary_cleaner.state.floatbank4_b_level            11353 non-null float64\n",
      "secondary_cleaner.state.floatbank5_a_air              11353 non-null float64\n",
      "secondary_cleaner.state.floatbank5_a_level            11353 non-null float64\n",
      "secondary_cleaner.state.floatbank5_b_air              11353 non-null float64\n",
      "secondary_cleaner.state.floatbank5_b_level            11353 non-null float64\n",
      "secondary_cleaner.state.floatbank6_a_air              11353 non-null float64\n",
      "secondary_cleaner.state.floatbank6_a_level            11353 non-null float64\n",
      "ones                                                  11353 non-null int64\n",
      "dtypes: float64(86), int64(1)\n",
      "memory usage: 7.6 MB\n"
     ]
    }
   ],
   "source": [
    "A.info()"
   ]
  },
  {
   "cell_type": "markdown",
   "metadata": {},
   "source": [
    "Заполнение пропусков - часть модели, тоже можно подбирать параметры. \n",
    "Удобно использовать TransformerMixin для кастомной обработки.\n",
    "Заполнение пропусков диктуется задачкой - нельзя смотреть в будущее."
   ]
  },
  {
   "cell_type": "markdown",
   "metadata": {},
   "source": [
    "### Разбиваем на две части трейн"
   ]
  },
  {
   "cell_type": "markdown",
   "metadata": {},
   "source": [
    "А для чего? Как не смотреть в будущее?"
   ]
  },
  {
   "cell_type": "code",
   "execution_count": 21,
   "metadata": {},
   "outputs": [
    {
     "data": {
      "text/plain": [
       "array([3600000000000, 3600000000000, 3600000000000, ..., 3600000000000,\n",
       "       3600000000000, 3600000000000])"
      ]
     },
     "execution_count": 21,
     "metadata": {},
     "output_type": "execute_result"
    }
   ],
   "source": [
    "np.diff(train.index.values.astype(int))"
   ]
  },
  {
   "cell_type": "code",
   "execution_count": 22,
   "metadata": {},
   "outputs": [],
   "source": [
    "ind_train_end = np.where(np.diff(train.index.values.astype(int))!=3600000000000)[0][0]\n",
    "ind_test_end = np.where(np.diff(test.index.values.astype(int))!=3600000000000)[0][0]"
   ]
  },
  {
   "cell_type": "code",
   "execution_count": 23,
   "metadata": {},
   "outputs": [
    {
     "data": {
      "text/plain": [
       "<matplotlib.lines.Line2D at 0x7f37caaf8cc0>"
      ]
     },
     "execution_count": 23,
     "metadata": {},
     "output_type": "execute_result"
    },
    {
     "data": {
      "image/png": "[encoded data removed]",
      "text/plain": [
       "<Figure size 576x396 with 1 Axes>"
      ]
     },
     "metadata": {},
     "output_type": "display_data"
    }
   ],
   "source": [
    "gr_day_train = train.resample('D')['ones'].first()\n",
    "gr_day_test = test.resample('D')['ones'].first()-1\n",
    "ax = gr_day_train.plot()\n",
    "\n",
    "gr_day_test.plot(color='r')\n",
    "\n",
    "ax.axvline(test.index[0],linestyle = '--',color = 'g')\n",
    "ax.axvline(test.index[ind_test_end],linestyle = '--',color = 'r')"
   ]
  },
  {
   "cell_type": "code",
   "execution_count": 24,
   "metadata": {},
   "outputs": [
    {
     "name": "stdout",
     "output_type": "stream",
     "text": [
      "(5521, 87) (5832, 87)\n"
     ]
    }
   ],
   "source": [
    "# Разбиваем на 2 пары трейн-тест по времени\n",
    "train_1 = train[:test.index[0]]\n",
    "train_2 = train[test.index[ind_test_end]:]\n",
    "\n",
    "print(train_1.shape,train_2.shape)"
   ]
  },
  {
   "cell_type": "code",
   "execution_count": 25,
   "metadata": {},
   "outputs": [
    {
     "name": "stdout",
     "output_type": "stream",
     "text": [
      "(5521, 87)\n",
      "(4736, 53)\n",
      "(5832, 87)\n",
      "(5312, 53)\n"
     ]
    }
   ],
   "source": [
    "# берем признаки из теста\n",
    "\n",
    "print(train_1.shape)\n",
    "target_1 = train_1[targets[0]]\n",
    "train_1= train_1.loc[~target_1.isnull(),test.columns]\n",
    "target_1 = target_1[~target_1.isnull()]\n",
    "\n",
    "print(train_1.shape)\n",
    "\n",
    "print(train_2.shape)\n",
    "target_2 = train_2[targets[1]]\n",
    "train_2= train_2.loc[~target_2.isnull(),test.columns]\n",
    "target_2 = target_2[~target_2.isnull()]\n",
    "print(train_2.shape)"
   ]
  },
  {
   "cell_type": "code",
   "execution_count": null,
   "metadata": {},
   "outputs": [],
   "source": []
  },
  {
   "cell_type": "code",
   "execution_count": null,
   "metadata": {},
   "outputs": [],
   "source": [
    "\n"
   ]
  },
  {
   "cell_type": "code",
   "execution_count": null,
   "metadata": {},
   "outputs": [],
   "source": []
  },
  {
   "cell_type": "code",
   "execution_count": 26,
   "metadata": {},
   "outputs": [],
   "source": [
    "# Научимся формировать пайплайн для моделей чтобы легче обучать\n",
    "from sklearn.pipeline import Pipeline\n",
    "from sklearn.preprocessing import StandardScaler"
   ]
  },
  {
   "cell_type": "code",
   "execution_count": 27,
   "metadata": {},
   "outputs": [],
   "source": [
    "model = Pipeline([('transform',Transformer('ffill')),('scaler',StandardScaler()),\n",
    "                  ('estimator',ElasticNet(random_state = 22,))])"
   ]
  },
  {
   "cell_type": "code",
   "execution_count": null,
   "metadata": {},
   "outputs": [],
   "source": []
  },
  {
   "cell_type": "code",
   "execution_count": 28,
   "metadata": {},
   "outputs": [
    {
     "data": {
      "text/plain": [
       "Pipeline(memory=None,\n",
       "         steps=[('transform', <__main__.Transformer object at 0x7f37ca7c4240>),\n",
       "                ('scaler',\n",
       "                 StandardScaler(copy=True, with_mean=True, with_std=True)),\n",
       "                ('estimator',\n",
       "                 ElasticNet(alpha=1.0, copy_X=True, fit_intercept=True,\n",
       "                            l1_ratio=0.5, max_iter=1000, normalize=False,\n",
       "                            positive=False, precompute=False, random_state=22,\n",
       "                            selection='cyclic', tol=0.0001,\n",
       "                            warm_start=False))],\n",
       "         verbose=False)"
      ]
     },
     "execution_count": 28,
     "metadata": {},
     "output_type": "execute_result"
    }
   ],
   "source": [
    "model.fit(train_1,target_1)"
   ]
  },
  {
   "cell_type": "code",
   "execution_count": 29,
   "metadata": {},
   "outputs": [],
   "source": [
    "p = model.predict(train_2)"
   ]
  },
  {
   "cell_type": "code",
   "execution_count": 30,
   "metadata": {},
   "outputs": [],
   "source": [
    "# smape - взвешенное mae\n",
    "from sklearn.metrics import mean_absolute_error"
   ]
  },
  {
   "cell_type": "code",
   "execution_count": 31,
   "metadata": {},
   "outputs": [
    {
     "data": {
      "text/plain": [
       "14.340744317969868"
      ]
     },
     "execution_count": 31,
     "metadata": {},
     "output_type": "execute_result"
    }
   ],
   "source": [
    "mean_absolute_error(target_2,p)"
   ]
  },
  {
   "cell_type": "code",
   "execution_count": 32,
   "metadata": {},
   "outputs": [],
   "source": [
    "# подбор параметров\n",
    "from itertools import product"
   ]
  },
  {
   "cell_type": "code",
   "execution_count": 33,
   "metadata": {},
   "outputs": [],
   "source": [
    "#?product"
   ]
  },
  {
   "cell_type": "code",
   "execution_count": 34,
   "metadata": {},
   "outputs": [],
   "source": [
    "gen = product([{'method_string':'bfill'},{'method_string':'ffill'}],\n",
    "              [{'with_mean':True, 'with_std':True},],\n",
    "              [{'alpha':0.5},{'alpha':1000}])"
   ]
  },
  {
   "cell_type": "code",
   "execution_count": 35,
   "metadata": {},
   "outputs": [],
   "source": [
    "from sklearn.metrics import make_scorer"
   ]
  },
  {
   "cell_type": "code",
   "execution_count": 36,
   "metadata": {},
   "outputs": [],
   "source": [
    "#?make_scorer"
   ]
  },
  {
   "cell_type": "code",
   "execution_count": 37,
   "metadata": {
    "scrolled": true
   },
   "outputs": [
    {
     "name": "stdout",
     "output_type": "stream",
     "text": [
      "{'method_string': 'bfill'}\n",
      "{'method_string': 'bfill'}\n",
      "{'method_string': 'bfill'}\n",
      "{'method_string': 'ffill'}\n",
      "{'method_string': 'ffill'}\n",
      "{'method_string': 'ffill'}\n"
     ]
    }
   ],
   "source": [
    "buf = dict()\n",
    "for i in product([{'method_string':'bfill'},{'method_string':'ffill'}],\n",
    "              [{'with_mean':True, 'with_std':True},],\n",
    "              [{'alpha':0.5},{'alpha':1000},{'alpha':0.01}]):\n",
    "    print(i[0])\n",
    "    model = Pipeline([('transform',Transformer(**i[0])),('scaler',StandardScaler(**i[1])),\n",
    "                  ('estimator',ElasticNet(random_state = 22,**i[2]))])\n",
    "    model.fit(train_1,target_1)\n",
    "    pred = model.predict(train_2)\n",
    "    buf[str(i)] = mean_absolute_error(target_2,pred)"
   ]
  },
  {
   "cell_type": "code",
   "execution_count": 38,
   "metadata": {},
   "outputs": [
    {
     "data": {
      "text/plain": [
       "['ffill', 'adhksjhgfakjhf sldfh', 'bfil']"
      ]
     },
     "execution_count": 38,
     "metadata": {},
     "output_type": "execute_result"
    }
   ],
   "source": [
    "# Конкатенация списков - поязсняем, что такое звездочки\n",
    "[*['ffill','adhksjhgfakjhf sldfh'],*['bfil']]\n"
   ]
  },
  {
   "cell_type": "code",
   "execution_count": 39,
   "metadata": {},
   "outputs": [
    {
     "data": {
      "text/plain": [
       "{'a': 4, 'b': 2, 'c': 3}"
      ]
     },
     "execution_count": 39,
     "metadata": {},
     "output_type": "execute_result"
    }
   ],
   "source": [
    "{**{'a':1,'b':2},**{\"a\":4,\"c\":3}}"
   ]
  },
  {
   "cell_type": "markdown",
   "metadata": {},
   "source": [
    "### Ансамблирование"
   ]
  },
  {
   "cell_type": "markdown",
   "metadata": {},
   "source": [
    "<ol>\n",
    "    <li>Взвешенное среднее предсказаний (блендинг)</li>\n",
    "    <li>Предсказание мета моделями(стекинг)</li>\n",
    "\n",
    " </ol>"
   ]
  },
  {
   "cell_type": "code",
   "execution_count": 40,
   "metadata": {},
   "outputs": [],
   "source": [
    "from sklearn.ensemble import RandomForestRegressor"
   ]
  },
  {
   "cell_type": "code",
   "execution_count": 41,
   "metadata": {},
   "outputs": [
    {
     "name": "stdout",
     "output_type": "stream",
     "text": [
      "{'method_string': 'bfill'}\n"
     ]
    },
    {
     "name": "stderr",
     "output_type": "stream",
     "text": [
      "/opt/conda/lib/python3.7/site-packages/sklearn/ensemble/forest.py:245: FutureWarning: The default value of n_estimators will change from 10 in version 0.20 to 100 in 0.22.\n",
      "  \"10 in version 0.20 to 100 in 0.22.\", FutureWarning)\n"
     ]
    },
    {
     "name": "stdout",
     "output_type": "stream",
     "text": [
      "{'method_string': 'bfill'}\n"
     ]
    },
    {
     "name": "stderr",
     "output_type": "stream",
     "text": [
      "/opt/conda/lib/python3.7/site-packages/sklearn/ensemble/forest.py:245: FutureWarning: The default value of n_estimators will change from 10 in version 0.20 to 100 in 0.22.\n",
      "  \"10 in version 0.20 to 100 in 0.22.\", FutureWarning)\n"
     ]
    },
    {
     "name": "stdout",
     "output_type": "stream",
     "text": [
      "{'method_string': 'bfill'}\n"
     ]
    },
    {
     "name": "stderr",
     "output_type": "stream",
     "text": [
      "/opt/conda/lib/python3.7/site-packages/sklearn/ensemble/forest.py:245: FutureWarning: The default value of n_estimators will change from 10 in version 0.20 to 100 in 0.22.\n",
      "  \"10 in version 0.20 to 100 in 0.22.\", FutureWarning)\n"
     ]
    },
    {
     "name": "stdout",
     "output_type": "stream",
     "text": [
      "{'method_string': 'ffill'}\n"
     ]
    },
    {
     "name": "stderr",
     "output_type": "stream",
     "text": [
      "/opt/conda/lib/python3.7/site-packages/sklearn/ensemble/forest.py:245: FutureWarning: The default value of n_estimators will change from 10 in version 0.20 to 100 in 0.22.\n",
      "  \"10 in version 0.20 to 100 in 0.22.\", FutureWarning)\n"
     ]
    },
    {
     "name": "stdout",
     "output_type": "stream",
     "text": [
      "{'method_string': 'ffill'}\n"
     ]
    },
    {
     "name": "stderr",
     "output_type": "stream",
     "text": [
      "/opt/conda/lib/python3.7/site-packages/sklearn/ensemble/forest.py:245: FutureWarning: The default value of n_estimators will change from 10 in version 0.20 to 100 in 0.22.\n",
      "  \"10 in version 0.20 to 100 in 0.22.\", FutureWarning)\n"
     ]
    },
    {
     "name": "stdout",
     "output_type": "stream",
     "text": [
      "{'method_string': 'ffill'}\n"
     ]
    },
    {
     "name": "stderr",
     "output_type": "stream",
     "text": [
      "/opt/conda/lib/python3.7/site-packages/sklearn/ensemble/forest.py:245: FutureWarning: The default value of n_estimators will change from 10 in version 0.20 to 100 in 0.22.\n",
      "  \"10 in version 0.20 to 100 in 0.22.\", FutureWarning)\n"
     ]
    }
   ],
   "source": [
    "#Блендинг\n",
    "for i in product([{'method_string':'bfill'},{'method_string':'ffill'}],\n",
    "              [{'with_mean':True, 'with_std':True},],\n",
    "              [{'alpha':0.5},{'alpha':1000},{'alpha':0.01}]):\n",
    "    print(i[0])\n",
    "    model = Pipeline([('transform',Transformer(**i[0])),('scaler',StandardScaler(**i[1])),\n",
    "                  ('estimator',ElasticNet(random_state = 22,**i[2]))])\n",
    "    model_1 = Pipeline([('transform',Transformer(**i[0])),('scaler',StandardScaler(**i[1])),\n",
    "                  ('estimator',RandomForestRegressor(random_state = 22,))])\n",
    "    model.fit(train_1,target_1)\n",
    "    model_1.fit(train_1,target_1)\n",
    "    pred = 0.5*model.predict(train_2)+0.5*model_1.predict(train_2)\n",
    "    buf[str(i)] = mean_absolute_error(target_2,pred)"
   ]
  },
  {
   "cell_type": "code",
   "execution_count": 42,
   "metadata": {},
   "outputs": [
    {
     "data": {
      "text/plain": [
       "{\"({'method_string': 'bfill'}, {'with_mean': True, 'with_std': True}, {'alpha': 0.5})\": 10.964823846771248,\n",
       " \"({'method_string': 'bfill'}, {'with_mean': True, 'with_std': True}, {'alpha': 1000})\": 11.225445719035129,\n",
       " \"({'method_string': 'bfill'}, {'with_mean': True, 'with_std': True}, {'alpha': 0.01})\": 11.036018934035464,\n",
       " \"({'method_string': 'ffill'}, {'with_mean': True, 'with_std': True}, {'alpha': 0.5})\": 11.25850390678176,\n",
       " \"({'method_string': 'ffill'}, {'with_mean': True, 'with_std': True}, {'alpha': 1000})\": 11.502818089573946,\n",
       " \"({'method_string': 'ffill'}, {'with_mean': True, 'with_std': True}, {'alpha': 0.01})\": 11.390683259651711}"
      ]
     },
     "execution_count": 42,
     "metadata": {},
     "output_type": "execute_result"
    }
   ],
   "source": [
    "buf"
   ]
  },
  {
   "cell_type": "markdown",
   "metadata": {},
   "source": [
    "<h3>Стекинг</h3>\n",
    "Основная идея - пробуем строить модели на мета-признаках, т.е. на выходах других моделей, но чтобы добавить в систему новые знания, нужно разбить данные на кусочки - следовательно усложняется валидация."
   ]
  },
  {
   "cell_type": "code",
   "execution_count": 43,
   "metadata": {},
   "outputs": [],
   "source": [
    "# Сначала подберем параметры для прогнозирования 'rougher.output.recovery'\n",
    "valid_1 = train_1.iloc[-1000:]\n",
    "target_valid_1 = target_1.iloc[-1000:]\n",
    "\n",
    "train_1 = train_1.iloc[:-1000]\n",
    "target_1 = target_1.iloc[:-1000]\n",
    "\n",
    "\n"
   ]
  },
  {
   "cell_type": "code",
   "execution_count": 44,
   "metadata": {},
   "outputs": [
    {
     "name": "stdout",
     "output_type": "stream",
     "text": [
      "{'method_string': 'bfill'}\n",
      "{'method_string': 'bfill'}\n",
      "{'method_string': 'bfill'}\n",
      "{'method_string': 'ffill'}\n",
      "{'method_string': 'ffill'}\n",
      "{'method_string': 'ffill'}\n"
     ]
    },
    {
     "data": {
      "text/plain": [
       "{\"({'method_string': 'bfill'}, {'with_mean': True, 'with_std': True}, {'alpha': 0.5})\": 5.4710845857259285,\n",
       " \"({'method_string': 'bfill'}, {'with_mean': True, 'with_std': True}, {'alpha': 1000})\": 8.06593682691064,\n",
       " \"({'method_string': 'bfill'}, {'with_mean': True, 'with_std': True}, {'alpha': 0.01})\": 5.76004015190176,\n",
       " \"({'method_string': 'ffill'}, {'with_mean': True, 'with_std': True}, {'alpha': 0.5})\": 5.472607155396283,\n",
       " \"({'method_string': 'ffill'}, {'with_mean': True, 'with_std': True}, {'alpha': 1000})\": 8.06593682691064,\n",
       " \"({'method_string': 'ffill'}, {'with_mean': True, 'with_std': True}, {'alpha': 0.01})\": 5.74381227646685}"
      ]
     },
     "execution_count": 44,
     "metadata": {},
     "output_type": "execute_result"
    }
   ],
   "source": [
    "for i in product([{'method_string':'bfill'},{'method_string':'ffill'}],\n",
    "              [{'with_mean':True, 'with_std':True},],\n",
    "              [{'alpha':0.5},{'alpha':1000},{'alpha':0.01}]):\n",
    "    print(i[0])\n",
    "    model = Pipeline([('transform',Transformer(**i[0])),('scaler',StandardScaler(**i[1])),\n",
    "                  ('estimator',ElasticNet(random_state = 22,**i[2]))])\n",
    "\n",
    "    model.fit(train_1,target_1)\n",
    "    pred = model.predict(valid_1)\n",
    "    buf[str(i)] = mean_absolute_error(target_valid_1,pred)\n",
    "buf"
   ]
  },
  {
   "cell_type": "code",
   "execution_count": 45,
   "metadata": {},
   "outputs": [],
   "source": [
    "best_params = ({'method_string': 'bfill'}, {'with_mean': True, 'with_std': True}, {'alpha': 0.5})\n",
    "model_best_meta = Pipeline([('transform',Transformer(**best_params[0])),('scaler',StandardScaler(**best_params [1])),\n",
    "                  ('estimator',ElasticNet(random_state = 22,**best_params[2]))])\n",
    "model_best_meta.fit(train_1,target_1)\n",
    "# Делаем предсказание на признаках второго трейна, чтобы потом на объединенных признаках трейна 2 научиться \n",
    "pred_meta = model_best_meta.predict(train_2)\n",
    "train_2['meta'] = pred_meta"
   ]
  },
  {
   "cell_type": "code",
   "execution_count": 49,
   "metadata": {},
   "outputs": [
    {
     "name": "stdout",
     "output_type": "stream",
     "text": [
      "<class 'pandas.core.frame.DataFrame'>\n",
      "DatetimeIndex: 4312 entries, 2017-01-01 00:59:59 to 2017-07-19 13:59:59\n",
      "Data columns (total 54 columns):\n",
      "primary_cleaner.input.sulfate                 4307 non-null float64\n",
      "primary_cleaner.input.depressant              4304 non-null float64\n",
      "primary_cleaner.input.feed_size               4312 non-null float64\n",
      "primary_cleaner.input.xanthate                4246 non-null float64\n",
      "primary_cleaner.state.floatbank8_a_air        4309 non-null float64\n",
      "primary_cleaner.state.floatbank8_a_level      4312 non-null float64\n",
      "primary_cleaner.state.floatbank8_b_air        4309 non-null float64\n",
      "primary_cleaner.state.floatbank8_b_level      4312 non-null float64\n",
      "primary_cleaner.state.floatbank8_c_air        4311 non-null float64\n",
      "primary_cleaner.state.floatbank8_c_level      4312 non-null float64\n",
      "primary_cleaner.state.floatbank8_d_air        4311 non-null float64\n",
      "primary_cleaner.state.floatbank8_d_level      4312 non-null float64\n",
      "rougher.input.feed_ag                         4312 non-null float64\n",
      "rougher.input.feed_pb                         4312 non-null float64\n",
      "rougher.input.feed_rate                       4312 non-null float64\n",
      "rougher.input.feed_size                       4304 non-null float64\n",
      "rougher.input.feed_sol                        4284 non-null float64\n",
      "rougher.input.feed_au                         4312 non-null float64\n",
      "rougher.input.floatbank10_sulfate             4299 non-null float64\n",
      "rougher.input.floatbank10_xanthate            4312 non-null float64\n",
      "rougher.input.floatbank11_sulfate             4293 non-null float64\n",
      "rougher.input.floatbank11_xanthate            3933 non-null float64\n",
      "rougher.state.floatbank10_a_air               4312 non-null float64\n",
      "rougher.state.floatbank10_a_level             4312 non-null float64\n",
      "rougher.state.floatbank10_b_air               4312 non-null float64\n",
      "rougher.state.floatbank10_b_level             4312 non-null float64\n",
      "rougher.state.floatbank10_c_air               4312 non-null float64\n",
      "rougher.state.floatbank10_c_level             4312 non-null float64\n",
      "rougher.state.floatbank10_d_air               4312 non-null float64\n",
      "rougher.state.floatbank10_d_level             4312 non-null float64\n",
      "rougher.state.floatbank10_e_air               4312 non-null float64\n",
      "rougher.state.floatbank10_e_level             4312 non-null float64\n",
      "rougher.state.floatbank10_f_air               4312 non-null float64\n",
      "rougher.state.floatbank10_f_level             4312 non-null float64\n",
      "secondary_cleaner.state.floatbank2_a_air      4235 non-null float64\n",
      "secondary_cleaner.state.floatbank2_a_level    4312 non-null float64\n",
      "secondary_cleaner.state.floatbank2_b_air      4307 non-null float64\n",
      "secondary_cleaner.state.floatbank2_b_level    4312 non-null float64\n",
      "secondary_cleaner.state.floatbank3_a_air      4312 non-null float64\n",
      "secondary_cleaner.state.floatbank3_a_level    4312 non-null float64\n",
      "secondary_cleaner.state.floatbank3_b_air      4312 non-null float64\n",
      "secondary_cleaner.state.floatbank3_b_level    4312 non-null float64\n",
      "secondary_cleaner.state.floatbank4_a_air      4312 non-null float64\n",
      "secondary_cleaner.state.floatbank4_a_level    4312 non-null float64\n",
      "secondary_cleaner.state.floatbank4_b_air      4312 non-null float64\n",
      "secondary_cleaner.state.floatbank4_b_level    4312 non-null float64\n",
      "secondary_cleaner.state.floatbank5_a_air      4312 non-null float64\n",
      "secondary_cleaner.state.floatbank5_a_level    4312 non-null float64\n",
      "secondary_cleaner.state.floatbank5_b_air      4312 non-null float64\n",
      "secondary_cleaner.state.floatbank5_b_level    4312 non-null float64\n",
      "secondary_cleaner.state.floatbank6_a_air      4312 non-null float64\n",
      "secondary_cleaner.state.floatbank6_a_level    4312 non-null float64\n",
      "ones                                          4312 non-null int64\n",
      "meta                                          4312 non-null float64\n",
      "dtypes: float64(53), int64(1)\n",
      "memory usage: 1.8 MB\n"
     ]
    }
   ],
   "source": [
    "train_2.info()"
   ]
  },
  {
   "cell_type": "code",
   "execution_count": 46,
   "metadata": {},
   "outputs": [],
   "source": [
    "# Сначала подберем параметры для прогнозирования 'rougher.output.recovery'\n",
    "valid_2 = train_2.iloc[-1000:]\n",
    "target_valid_2 = target_2.iloc[-1000:]\n",
    "\n",
    "train_2 = train_2.iloc[:-1000]\n",
    "target_2 = target_2.iloc[:-1000]\n"
   ]
  },
  {
   "cell_type": "code",
   "execution_count": 65,
   "metadata": {},
   "outputs": [
    {
     "data": {
      "text/plain": [
       "primary_cleaner.input.sulfate                    0.003112\n",
       "primary_cleaner.input.depressant                 0.009468\n",
       "primary_cleaner.input.feed_size                  4.970000\n",
       "primary_cleaner.input.xanthate                   0.000154\n",
       "primary_cleaner.state.floatbank8_a_air        1321.746134\n",
       "primary_cleaner.state.floatbank8_a_level      -615.091268\n",
       "primary_cleaner.state.floatbank8_b_air        1346.853008\n",
       "primary_cleaner.state.floatbank8_b_level      -593.303764\n",
       "primary_cleaner.state.floatbank8_c_air        1396.145339\n",
       "primary_cleaner.state.floatbank8_c_level      -799.719089\n",
       "primary_cleaner.state.floatbank8_d_air        1333.961739\n",
       "primary_cleaner.state.floatbank8_d_level      -799.788598\n",
       "rougher.input.feed_ag                            2.276682\n",
       "rougher.input.feed_pb                            0.389402\n",
       "rougher.input.feed_rate                          0.104660\n",
       "rougher.input.feed_size                          9.659576\n",
       "rougher.input.feed_sol                           6.547826\n",
       "rougher.input.feed_au                            2.273032\n",
       "rougher.input.floatbank10_sulfate                0.001164\n",
       "rougher.input.floatbank10_xanthate               0.001785\n",
       "rougher.input.floatbank11_sulfate                0.000163\n",
       "rougher.input.floatbank11_xanthate               0.000290\n",
       "rougher.state.floatbank10_a_air                 -0.020059\n",
       "rougher.state.floatbank10_a_level             -650.202881\n",
       "rougher.state.floatbank10_b_air                 -0.408072\n",
       "rougher.state.floatbank10_b_level             -650.260008\n",
       "rougher.state.floatbank10_c_air                 -0.026301\n",
       "rougher.state.floatbank10_c_level             -640.995627\n",
       "rougher.state.floatbank10_d_air                 -0.554299\n",
       "rougher.state.floatbank10_d_level             -617.756031\n",
       "rougher.state.floatbank10_e_air                 -1.970275\n",
       "rougher.state.floatbank10_e_level             -646.831910\n",
       "rougher.state.floatbank10_f_air                 -2.328641\n",
       "rougher.state.floatbank10_f_level             -649.764418\n",
       "secondary_cleaner.state.floatbank2_a_air         0.122013\n",
       "secondary_cleaner.state.floatbank2_a_level    -799.606441\n",
       "secondary_cleaner.state.floatbank2_b_air         0.000000\n",
       "secondary_cleaner.state.floatbank2_b_level    -791.746224\n",
       "secondary_cleaner.state.floatbank3_a_air         0.000000\n",
       "secondary_cleaner.state.floatbank3_a_level    -799.573257\n",
       "secondary_cleaner.state.floatbank3_b_air         0.000000\n",
       "secondary_cleaner.state.floatbank3_b_level    -757.801765\n",
       "secondary_cleaner.state.floatbank4_a_air         0.000000\n",
       "secondary_cleaner.state.floatbank4_a_level    -565.783342\n",
       "secondary_cleaner.state.floatbank4_b_air         0.000000\n",
       "secondary_cleaner.state.floatbank4_b_level    -799.619081\n",
       "secondary_cleaner.state.floatbank5_a_air        -0.372054\n",
       "secondary_cleaner.state.floatbank5_a_level    -792.794538\n",
       "secondary_cleaner.state.floatbank5_b_air         0.646208\n",
       "secondary_cleaner.state.floatbank5_b_level    -746.432635\n",
       "secondary_cleaner.state.floatbank6_a_air         0.238511\n",
       "secondary_cleaner.state.floatbank6_a_level    -809.398668\n",
       "ones                                             1.000000\n",
       "meta                                            55.241971\n",
       "dtype: float64"
      ]
     },
     "execution_count": 65,
     "metadata": {},
     "output_type": "execute_result"
    }
   ],
   "source": [
    "train_2.min()"
   ]
  },
  {
   "cell_type": "code",
   "execution_count": 56,
   "metadata": {},
   "outputs": [
    {
     "data": {
      "text/plain": [
       "((4312, 54), (4312,))"
      ]
     },
     "execution_count": 56,
     "metadata": {},
     "output_type": "execute_result"
    }
   ],
   "source": [
    "train_2.shape,target_2.shape"
   ]
  },
  {
   "cell_type": "code",
   "execution_count": 67,
   "metadata": {},
   "outputs": [],
   "source": [
    "import lightgbm"
   ]
  },
  {
   "cell_type": "code",
   "execution_count": 68,
   "metadata": {},
   "outputs": [],
   "source": [
    "# Подбираем параметры, но уже для другой модели с использованием метапризнака\n",
    "for i in product([{'method_string':'bfill'},{'method_string':'ffill'}],\n",
    "              [{'with_mean':True, 'with_std':True},],\n",
    "              [{'learning_rate':0.01},{'reg_alpha':1000},{'learning_rate':0.01,'reg_alpha':1000}]):\n",
    "    \n",
    "    model = Pipeline([('transform',Transformer(**i[0])),('scaler',StandardScaler(**i[1])),\n",
    "                  ('estimator',lightgbm.LGBMRegressor(**i[2]))])\n",
    "\n",
    "    model.fit(train_2,target_2)\n",
    "    pred = model.predict(valid_2)\n",
    "    buf[str(i)] = mean_absolute_error(target_valid_2,pred)"
   ]
  },
  {
   "cell_type": "code",
   "execution_count": 69,
   "metadata": {},
   "outputs": [
    {
     "data": {
      "text/plain": [
       "{\"({'method_string': 'bfill'}, {'with_mean': True, 'with_std': True}, {'alpha': 0.5})\": 5.4710845857259285,\n",
       " \"({'method_string': 'bfill'}, {'with_mean': True, 'with_std': True}, {'alpha': 1000})\": 8.06593682691064,\n",
       " \"({'method_string': 'bfill'}, {'with_mean': True, 'with_std': True}, {'alpha': 0.01})\": 5.76004015190176,\n",
       " \"({'method_string': 'ffill'}, {'with_mean': True, 'with_std': True}, {'alpha': 0.5})\": 5.472607155396283,\n",
       " \"({'method_string': 'ffill'}, {'with_mean': True, 'with_std': True}, {'alpha': 1000})\": 8.06593682691064,\n",
       " \"({'method_string': 'ffill'}, {'with_mean': True, 'with_std': True}, {'alpha': 0.01})\": 5.74381227646685,\n",
       " \"({'method_string': 'bfill'}, {'with_mean': True, 'with_std': True}, {'learning_rate': 0.01})\": 8.646226029861703,\n",
       " \"({'method_string': 'bfill'}, {'with_mean': True, 'with_std': True}, {'reg_alpha': 1000})\": 6.869051812948932,\n",
       " \"({'method_string': 'bfill'}, {'with_mean': True, 'with_std': True}, {'learning_rate': 0.01, 'reg_alpha': 1000})\": 6.201892474590428,\n",
       " \"({'method_string': 'ffill'}, {'with_mean': True, 'with_std': True}, {'learning_rate': 0.01})\": 8.404999551418289,\n",
       " \"({'method_string': 'ffill'}, {'with_mean': True, 'with_std': True}, {'reg_alpha': 1000})\": 6.9952046796195715,\n",
       " \"({'method_string': 'ffill'}, {'with_mean': True, 'with_std': True}, {'learning_rate': 0.01, 'reg_alpha': 1000})\": 6.174887752632047}"
      ]
     },
     "execution_count": 69,
     "metadata": {},
     "output_type": "execute_result"
    }
   ],
   "source": [
    "buf"
   ]
  },
  {
   "cell_type": "code",
   "execution_count": null,
   "metadata": {},
   "outputs": [],
   "source": []
  },
  {
   "cell_type": "markdown",
   "metadata": {},
   "source": [
    "<h3>Резюме</h3>\n",
    "<ul>\n",
    "    <li>Валидация от задачи - размер выборок, время, протухание</li>\n",
    "    <li>Заполнение пропусков от задачи - не смотреть в будущее? часть пайплайна</li>\n",
    "    <li>product  для кастомного поиска по сетке</li>\n",
    "    <li>ансамблирование как способ улучшить качество слабых моделей</li>\n",
    "    </ul>"
   ]
  },
  {
   "cell_type": "markdown",
   "metadata": {},
   "source": [
    "<h3>Полезные ссылки</h3>\n",
    "<ol>\n",
    "    <li>https://metanit.com/python/tutorial/7.3.php - коротко про наследование, для полного погружения - лучше документация</li>\n",
    "    <li>https://stepik.org/course/50352 - курс хоть и про компьютерное зрение, но содержит отличные задания по линейной алгебре. Сложноват, но того стоит.</li>\n",
    "    <li>https://dyakonov.org/2019/04/19/%d0%b0%d0%bd%d1%81%d0%b0%d0%bc%d0%b1%d0%bb%d0%b8-%d0%b2-%d0%bc%d0%b0%d1%88%d0%b8%d0%bd%d0%bd%d0%be%d0%bc-%d0%be%d0%b1%d1%83%d1%87%d0%b5%d0%bd%d0%b8%d0%b8/ - про ансамбли математически красиво</li>\n",
    "    <li>https://habr.com/ru/company/ruvds/blog/451478/ - про pandas-profiling</li>\n",
    "</ol>"
   ]
  },
  {
   "cell_type": "markdown",
   "metadata": {},
   "source": [
    "<h3>Задания для отличников</h3>\n",
    "<ol>\n",
    "    <li>Построить недельный профиль для каждого таргета должен получиться вектор длины 7.</li>\n",
    "    <li>Реализовать класс-трансформер аналогичный StandardScaler, но который возвращает dataframe, а не np.array.</li>\n",
    "    <li>Добавить модель ExtraTreesRegressor в ансамбль, проверить, что как взаимодействуют две взвешенных линейных регрессии, два случайных леса и три разных модели. По возможности параметризовать веса моделей - добавить из в product.</li>\n",
    "    <li>Попробовать реализовать ансамбли на основе библиотеки mlxtend</li>\n",
    "    <li>Попробовать можифицировать схему стекинга, чтобы финальное предсказание делалось на основе 3 метапризнаков (т.е. нам нужно 3 трейна, на каждом из которых своя модель на свой метапризнак, а на 4 трейне своя модель, обученная только на метапризнаках)</li>\n",
    "</ol>"
   ]
  },
  {
   "cell_type": "markdown",
   "metadata": {},
   "source": [
    "<font color=green>P.S. Опечатки, неточности и прочие пожелания можно и нужно адреовывать в слак:)</font>"
   ]
  },
  {
   "cell_type": "code",
   "execution_count": null,
   "metadata": {},
   "outputs": [],
   "source": []
  }
 ],
 "metadata": {
  "kernelspec": {
   "display_name": "Python 3",
   "language": "python",
   "name": "python3"
  },
  "language_info": {
   "codemirror_mode": {
    "name": "ipython",
    "version": 3
   },
   "file_extension": ".py",
   "mimetype": "text/x-python",
   "name": "python",
   "nbconvert_exporter": "python",
   "pygments_lexer": "ipython3",
   "version": "3.7.4"
  }
 },
 "nbformat": 4,
 "nbformat_minor": 2
}
