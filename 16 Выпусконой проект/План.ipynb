{
 "cells": [
  {
   "cell_type": "markdown",
   "metadata": {},
   "source": [
    "# Исследование данных  Телеком\n",
    "Оператор связи «Ниединогоразрыва.ком» хочет научиться прогнозировать отток клиентов. Если выяснится, что пользователь планирует уйти, ему будут предложены промокоды и специальные условия. Команда оператора собрала персональные данные о некоторых клиентах, информацию об их тарифах и договорах.\n",
    "\n",
    "### Описание услуг\n",
    "\n",
    "Оператор предоставляет два основных типа услуг: \n",
    "\n",
    "1. Стационарную телефонную связь. Возможно подключение телефонного аппарата к нескольким линиям одновременно.\n",
    "2. Интернет. Подключение может быть двух типов: через телефонную линию (DSL*,* от англ. *digital subscriber line*, «цифровая абонентская линия») или оптоволоконный кабель (*Fiber optic*).  \n",
    "\n",
    "Также доступны такие услуги:\n",
    "\n",
    "- Интернет-безопасность: антивирус (*DeviceProtection*) и блокировка небезопасных сайтов (*OnlineSecurity*);\n",
    "- Выделенная линия технической поддержки (*TechSupport*);\n",
    "- Облачное хранилище файлов для резервного копирования данных (*OnlineBackup*);\n",
    "- Стриминговое телевидение (*StreamingTV*) и каталог фильмов (*StreamingMovies*).\n",
    "\n",
    "За услуги клиенты могут платить каждый месяц или заключить договор на 1–2 года. Доступны различные способы расчёта и возможность получения электронного чека.\n",
    "\n",
    "### Описание данных\n",
    "\n",
    "Данные состоят из файлов, полученных из разных источников:\n",
    "\n",
    "- `contract.csv` — информация о договоре;\n",
    "- `personal.csv` — персональные данные клиента;\n",
    "- `internet.csv` — информация об интернет-услугах;\n",
    "- `phone.csv` — информация об услугах телефонии.\n",
    "\n",
    "Во всех файлах столбец `customerID` содержит код клиента.\n",
    "\n",
    "Информация о договорах актуальна на 1 февраля 2020."
   ]
  },
  {
   "cell_type": "markdown",
   "metadata": {},
   "source": [
    "### Шаг 1. Чтение файлов с данными и изучение общей информаций. "
   ]
  },
  {
   "cell_type": "code",
   "execution_count": 69,
   "metadata": {},
   "outputs": [],
   "source": [
    "#Импорт библиотек обработки данных и линейной алгебры\n",
    "import numpy as np \n",
    "import pandas as pd \n",
    "import matplotlib.pyplot as plt\n"
   ]
  },
  {
   "cell_type": "code",
   "execution_count": 3,
   "metadata": {},
   "outputs": [
    {
     "ename": "NameError",
     "evalue": "name 'pd' is not defined",
     "output_type": "error",
     "traceback": [
      "\u001b[1;31m---------------------------------------------------------------------------\u001b[0m",
      "\u001b[1;31mNameError\u001b[0m                                 Traceback (most recent call last)",
      "\u001b[1;32m<ipython-input-3-c2f2125e7f96>\u001b[0m in \u001b[0;36m<module>\u001b[1;34m\u001b[0m\n\u001b[0;32m      1\u001b[0m \u001b[1;31m# Ввод данных в датафрейм пандас\u001b[0m\u001b[1;33m\u001b[0m\u001b[1;33m\u001b[0m\u001b[1;33m\u001b[0m\u001b[0m\n\u001b[0;32m      2\u001b[0m \u001b[1;33m\u001b[0m\u001b[0m\n\u001b[1;32m----> 3\u001b[1;33m \u001b[0mcontract\u001b[0m \u001b[1;33m=\u001b[0m \u001b[0mpd\u001b[0m\u001b[1;33m.\u001b[0m\u001b[0mread_csv\u001b[0m\u001b[1;33m(\u001b[0m\u001b[1;34mr\"C:\\Users\\Asus\\Documents\\Python Scripts\\Яндекс практикум\\Выпусконой проект\\data\\contract.csv\"\u001b[0m\u001b[1;33m)\u001b[0m\u001b[1;33m\u001b[0m\u001b[1;33m\u001b[0m\u001b[0m\n\u001b[0m\u001b[0;32m      4\u001b[0m \u001b[1;33m\u001b[0m\u001b[0m\n\u001b[0;32m      5\u001b[0m \u001b[0minternet\u001b[0m \u001b[1;33m=\u001b[0m \u001b[0mpd\u001b[0m\u001b[1;33m.\u001b[0m\u001b[0mread_csv\u001b[0m\u001b[1;33m(\u001b[0m\u001b[1;34mr\"C:\\Users\\Asus\\Documents\\Python Scripts\\Яндекс практикум\\Выпусконой проект\\data\\internet.csv\"\u001b[0m\u001b[1;33m)\u001b[0m\u001b[1;33m\u001b[0m\u001b[1;33m\u001b[0m\u001b[0m\n",
      "\u001b[1;31mNameError\u001b[0m: name 'pd' is not defined"
     ]
    }
   ],
   "source": [
    "# Ввод данных в датафрейм пандас\n",
    "\n",
    "contract = pd.read_csv(r\"C:\\Users\\Asus\\Documents\\Python Scripts\\Яндекс практикум\\Выпусконой проект\\data\\contract.csv\")\n",
    "\n",
    "internet = pd.read_csv(r\"C:\\Users\\Asus\\Documents\\Python Scripts\\Яндекс практикум\\Выпусконой проект\\data\\internet.csv\")\n",
    "\n",
    "personal = pd.read_csv(r\"C:\\Users\\Asus\\Documents\\Python Scripts\\Яндекс практикум\\Выпусконой проект\\data\\personal.csv\")\n",
    "\n",
    "phone = pd.read_csv(r\"C:\\Users\\Asus\\Documents\\Python Scripts\\Яндекс практикум\\Выпусконой проект\\data\\phone.csv\")\n",
    "\n",
    "#Назначение атрибут имия датафрэеймов\n",
    "contract.name = 'contract'\n",
    "internet.name = 'internet'\n",
    "personal.name = 'personal'\n",
    "phone.name = 'phone'\n"
   ]
  },
  {
   "cell_type": "code",
   "execution_count": 2,
   "metadata": {},
   "outputs": [],
   "source": [
    "# Функция раскрытия информаций датафрэймов\n",
    "def info_df(df):\n",
    "    print('Название датафрэйм :', df.name)\n",
    "    print (\"Кол-во наблюдений     : \" ,df.shape[0])\n",
    "    print (\"Кол-во признаков : \" ,df.shape[1])\n",
    "    print (\"\\n Список признаков : \\n\" ,df.columns.tolist())\n",
    "    print (\"\\n Пропущеный наблюдений :  \", df.isnull().sum().values.sum())\n",
    "    print (\"\\n Уникальные наблюдений :  \\n\",df.nunique())\n",
    "    print(\"\\n\")\n",
    "    print( df.info())\n",
    "    print(\"\\n\")\n",
    "    print(df.sample(5))\n"
   ]
  },
  {
   "cell_type": "code",
   "execution_count": 72,
   "metadata": {},
   "outputs": [
    {
     "name": "stdout",
     "output_type": "stream",
     "text": [
      "Название датафрэйм : contract\n",
      "Кол-во наблюдений     :  7043\n",
      "Кол-во признаков :  8\n",
      "\n",
      " Список признаков : \n",
      " ['customerID', 'BeginDate', 'EndDate', 'Type', 'PaperlessBilling', 'PaymentMethod', 'MonthlyCharges', 'TotalCharges']\n",
      "\n",
      " Пропущеный наблюдений :   0\n",
      "\n",
      " Уникальные наблюдений :  \n",
      " customerID          7043\n",
      "BeginDate             77\n",
      "EndDate                5\n",
      "Type                   3\n",
      "PaperlessBilling       2\n",
      "PaymentMethod          4\n",
      "MonthlyCharges      1585\n",
      "TotalCharges        6531\n",
      "dtype: int64\n",
      "\n",
      "\n",
      "<class 'pandas.core.frame.DataFrame'>\n",
      "RangeIndex: 7043 entries, 0 to 7042\n",
      "Data columns (total 8 columns):\n",
      "customerID          7043 non-null object\n",
      "BeginDate           7043 non-null object\n",
      "EndDate             7043 non-null object\n",
      "Type                7043 non-null object\n",
      "PaperlessBilling    7043 non-null object\n",
      "PaymentMethod       7043 non-null object\n",
      "MonthlyCharges      7043 non-null float64\n",
      "TotalCharges        7043 non-null object\n",
      "dtypes: float64(1), object(7)\n",
      "memory usage: 440.3+ KB\n",
      "None\n",
      "\n",
      "\n",
      "      customerID   BeginDate              EndDate            Type  \\\n",
      "1173  0107-WESLM  2019-09-01  2019-10-01 00:00:00  Month-to-month   \n",
      "25    6865-JZNKO  2017-08-01                   No  Month-to-month   \n",
      "66    8627-ZYGSZ  2016-03-01                   No        One year   \n",
      "6807  2030-BTZRO  2019-08-01                   No        Two year   \n",
      "6906  9945-PSVIP  2018-01-01                   No        Two year   \n",
      "\n",
      "     PaperlessBilling              PaymentMethod  MonthlyCharges TotalCharges  \n",
      "1173              Yes           Electronic check           19.85        19.85  \n",
      "25                Yes  Bank transfer (automatic)           55.30       1530.6  \n",
      "66                Yes           Electronic check           78.90      3650.35  \n",
      "6807              Yes    Credit card (automatic)           20.40        107.6  \n",
      "6906              Yes               Mailed check           18.70       383.65  \n"
     ]
    }
   ],
   "source": [
    "# Информация контракта\n",
    "info_df(contract)"
   ]
  },
  {
   "cell_type": "code",
   "execution_count": 73,
   "metadata": {},
   "outputs": [
    {
     "name": "stdout",
     "output_type": "stream",
     "text": [
      "Название датафрэйм : personal\n",
      "Кол-во наблюдений     :  7043\n",
      "Кол-во признаков :  5\n",
      "\n",
      " Список признаков : \n",
      " ['customerID', 'gender', 'SeniorCitizen', 'Partner', 'Dependents']\n",
      "\n",
      " Пропущеный наблюдений :   0\n",
      "\n",
      " Уникальные наблюдений :  \n",
      " customerID       7043\n",
      "gender              2\n",
      "SeniorCitizen       2\n",
      "Partner             2\n",
      "Dependents          2\n",
      "dtype: int64\n",
      "\n",
      "\n",
      "<class 'pandas.core.frame.DataFrame'>\n",
      "RangeIndex: 7043 entries, 0 to 7042\n",
      "Data columns (total 5 columns):\n",
      "customerID       7043 non-null object\n",
      "gender           7043 non-null object\n",
      "SeniorCitizen    7043 non-null int64\n",
      "Partner          7043 non-null object\n",
      "Dependents       7043 non-null object\n",
      "dtypes: int64(1), object(4)\n",
      "memory usage: 275.2+ KB\n",
      "None\n",
      "\n",
      "\n",
      "      customerID  gender  SeniorCitizen Partner Dependents\n",
      "6124  7153-CHRBV  Female              0     Yes        Yes\n",
      "6855  8738-JOKAR  Female              0      No         No\n",
      "1918  2801-NISEI    Male              0      No         No\n",
      "2153  7978-DKUQH  Female              0     Yes         No\n",
      "650   9576-ANLXO  Female              0      No         No\n"
     ]
    }
   ],
   "source": [
    "# Информация контракта\n",
    "info_df(personal)"
   ]
  },
  {
   "cell_type": "code",
   "execution_count": 74,
   "metadata": {},
   "outputs": [
    {
     "name": "stdout",
     "output_type": "stream",
     "text": [
      "Название датафрэйм : internet\n",
      "Кол-во наблюдений     :  5517\n",
      "Кол-во признаков :  8\n",
      "\n",
      " Список признаков : \n",
      " ['customerID', 'InternetService', 'OnlineSecurity', 'OnlineBackup', 'DeviceProtection', 'TechSupport', 'StreamingTV', 'StreamingMovies']\n",
      "\n",
      " Пропущеный наблюдений :   0\n",
      "\n",
      " Уникальные наблюдений :  \n",
      " customerID          5517\n",
      "InternetService        2\n",
      "OnlineSecurity         2\n",
      "OnlineBackup           2\n",
      "DeviceProtection       2\n",
      "TechSupport            2\n",
      "StreamingTV            2\n",
      "StreamingMovies        2\n",
      "dtype: int64\n",
      "\n",
      "\n",
      "<class 'pandas.core.frame.DataFrame'>\n",
      "RangeIndex: 5517 entries, 0 to 5516\n",
      "Data columns (total 8 columns):\n",
      "customerID          5517 non-null object\n",
      "InternetService     5517 non-null object\n",
      "OnlineSecurity      5517 non-null object\n",
      "OnlineBackup        5517 non-null object\n",
      "DeviceProtection    5517 non-null object\n",
      "TechSupport         5517 non-null object\n",
      "StreamingTV         5517 non-null object\n",
      "StreamingMovies     5517 non-null object\n",
      "dtypes: object(8)\n",
      "memory usage: 344.9+ KB\n",
      "None\n",
      "\n",
      "\n",
      "      customerID InternetService OnlineSecurity OnlineBackup DeviceProtection  \\\n",
      "4254  7879-CGSFV     Fiber optic            Yes          Yes               No   \n",
      "5349  5060-TQUQN     Fiber optic             No          Yes               No   \n",
      "2786  1624-NALOJ     Fiber optic             No          Yes               No   \n",
      "652   3196-NVXLZ     Fiber optic             No           No               No   \n",
      "3606  8513-OLYGY     Fiber optic            Yes          Yes              Yes   \n",
      "\n",
      "     TechSupport StreamingTV StreamingMovies  \n",
      "4254          No         Yes             Yes  \n",
      "5349         Yes          No              No  \n",
      "2786          No          No             Yes  \n",
      "652           No         Yes              No  \n",
      "3606         Yes         Yes             Yes  \n"
     ]
    }
   ],
   "source": [
    "info_df(internet)"
   ]
  },
  {
   "cell_type": "code",
   "execution_count": 75,
   "metadata": {},
   "outputs": [
    {
     "name": "stdout",
     "output_type": "stream",
     "text": [
      "Название датафрэйм : phone\n",
      "Кол-во наблюдений     :  6361\n",
      "Кол-во признаков :  2\n",
      "\n",
      " Список признаков : \n",
      " ['customerID', 'MultipleLines']\n",
      "\n",
      " Пропущеный наблюдений :   0\n",
      "\n",
      " Уникальные наблюдений :  \n",
      " customerID       6361\n",
      "MultipleLines       2\n",
      "dtype: int64\n",
      "\n",
      "\n",
      "<class 'pandas.core.frame.DataFrame'>\n",
      "RangeIndex: 6361 entries, 0 to 6360\n",
      "Data columns (total 2 columns):\n",
      "customerID       6361 non-null object\n",
      "MultipleLines    6361 non-null object\n",
      "dtypes: object(2)\n",
      "memory usage: 99.5+ KB\n",
      "None\n",
      "\n",
      "\n",
      "      customerID MultipleLines\n",
      "6143  8450-JOVAH           Yes\n",
      "3007  9122-UMROB            No\n",
      "4367  0988-AADSA           Yes\n",
      "4481  4298-OYIFC           Yes\n",
      "3094  0744-GKNGE           Yes\n"
     ]
    }
   ],
   "source": [
    "info_df(phone)"
   ]
  },
  {
   "cell_type": "markdown",
   "metadata": {},
   "source": [
    "## Вывод\n",
    "\n",
    "При первычном расмотрение можно отметить что необходимо привести тип данныхв нжную для оработки и построение модели.\n",
    "Нужно отметить что количество наблюдений в файле \"personal\" и \"contract\" одинаковые  -  7043,что наводит на мысль что у каждого клиента хотя бы один контракт заключен, так же количество набдюдений в файле \"internet \" - 5517  и колличество набдюдений в файле \"phone\" -6361 \n"
   ]
  },
  {
   "cell_type": "code",
   "execution_count": 76,
   "metadata": {},
   "outputs": [
    {
     "name": "stdout",
     "output_type": "stream",
     "text": [
      "Nan contract \n",
      " customerID          0\n",
      "BeginDate           0\n",
      "EndDate             0\n",
      "Type                0\n",
      "PaperlessBilling    0\n",
      "PaymentMethod       0\n",
      "MonthlyCharges      0\n",
      "TotalCharges        0\n",
      "dtype: int64\n",
      "Duplicate: contract \n",
      " 0\n",
      "Nan personal \n",
      " customerID       0\n",
      "gender           0\n",
      "SeniorCitizen    0\n",
      "Partner          0\n",
      "Dependents       0\n",
      "dtype: int64\n",
      "Duplicate: personal \n",
      " 0\n",
      "Nan internet \n",
      " customerID          0\n",
      "InternetService     0\n",
      "OnlineSecurity      0\n",
      "OnlineBackup        0\n",
      "DeviceProtection    0\n",
      "TechSupport         0\n",
      "StreamingTV         0\n",
      "StreamingMovies     0\n",
      "dtype: int64\n",
      "Duplicate: internet \n",
      " 0\n",
      "Nan phone \n",
      " customerID       0\n",
      "MultipleLines    0\n",
      "dtype: int64\n",
      "Duplicate: phone \n",
      " 0\n"
     ]
    }
   ],
   "source": [
    "# Проверка наличий значение Nan и дубликатов\n",
    "def duplicate_nan(df):\n",
    "    nan = df.isna().sum()\n",
    "    dup = df.duplicated().sum()\n",
    "    print('Nan',df.name,'\\n', nan)\n",
    "    print('Duplicate:', df.name,'\\n', dup)\n",
    "\n",
    "\n",
    "for df in (contract, personal, internet, phone):\n",
    "    duplicate_nan(df)"
   ]
  },
  {
   "cell_type": "code",
   "execution_count": 77,
   "metadata": {},
   "outputs": [],
   "source": [
    "contract['TotalCharges'] = pd.to_numeric(contract['TotalCharges'],errors='coerce')"
   ]
  },
  {
   "cell_type": "code",
   "execution_count": 78,
   "metadata": {},
   "outputs": [],
   "source": [
    "# Клиенты которые не ушли\n",
    "nochurn = contract[contract.EndDate == \"No\"]\n",
    "\n",
    "# Клиенты которые ушли \n",
    "churn = contract[contract.EndDate != \"No\"]"
   ]
  },
  {
   "cell_type": "code",
   "execution_count": 115,
   "metadata": {},
   "outputs": [
    {
     "data": {
      "image/png": "[encoded data removed]",
      "text/plain": [
       "<Figure size 960x320 with 2 Axes>"
      ]
     },
     "metadata": {},
     "output_type": "display_data"
    }
   ],
   "source": [
    "plt.figure(num=None, figsize=(12, 4), dpi=80, facecolor='w', edgecolor='k')\n",
    "plt.subplot(1, 2, 1)\n",
    "plt.hist(x = nochurn['MonthlyCharges'], color = 'r', label = '')\n",
    "plt.xlabel('Montly charges')\n",
    "plt.title('No_churn clients')\n",
    "plt.grid()\n",
    "\n",
    "\n",
    "plt.subplot(1, 2, 2)\n",
    "plt.hist(x = nochurn['TotalCharges'], color = 'b')\n",
    "plt.xlabel('Total charges')\n",
    "plt.title('No churn clients')\n",
    "plt.grid()\n",
    "\n",
    "plt.show()\n",
    "\n",
    "\n"
   ]
  },
  {
   "cell_type": "code",
   "execution_count": 116,
   "metadata": {},
   "outputs": [
    {
     "data": {
      "image/png": "[encoded data removed]",
      "text/plain": [
       "<Figure size 960x320 with 2 Axes>"
      ]
     },
     "metadata": {},
     "output_type": "display_data"
    }
   ],
   "source": [
    "plt.figure(num=None, figsize=(12, 4), dpi=80, facecolor='w', edgecolor='k')\n",
    "plt.subplot(1, 2, 1)\n",
    "plt.hist(x = churn['MonthlyCharges'], color = 'r', label = '')\n",
    "plt.xlabel('Montly charges')\n",
    "plt.title('Churn clients')\n",
    "plt.grid()\n",
    "\n",
    "\n",
    "plt.subplot(1, 2, 2)\n",
    "plt.hist(x = churn['TotalCharges'], color = 'b')\n",
    "plt.xlabel('Total charges')\n",
    "plt.title('Churn clients')\n",
    "plt.grid()\n",
    "\n",
    "plt.show()\n",
    "\n"
   ]
  },
  {
   "cell_type": "markdown",
   "metadata": {},
   "source": [
    "# Вывод\n",
    "\n",
    "Не нашлось Nan значение и дубликатов. Из гистограм возможно сформулировать гипотез о том  что чаше уходят кллиенты у которых месечная оплата больше 60 у.е, при этом у общая оплата ниже 2000у.е. Что говорит о том что не долго они задерживаются и решают уходит."
   ]
  },
  {
   "cell_type": "markdown",
   "metadata": {},
   "source": [
    "# План"
   ]
  },
  {
   "cell_type": "markdown",
   "metadata": {},
   "source": [
    "- <a>1. Чтение файлов с данными и изучение общей информаций.</a>\n",
    "- <a>2. Обработка данных. Поиск пропущеных, nan значений и дубликатов. Замена значений на медианы или на средное значение. Слияание датафрэимов</a>\n",
    "- <a>3. Исследовательский анализ данных. Построение графиков  признаков и ухода клиентов.  </a>\n",
    "- <a>4. Предварительная обработка данных для обучение моделей. Создание численых признаков и производных признаков от существующих.  </a>\n",
    "- <a>5. Построение моделей. Подборка гиперпараметров и выбор наилучше модель </a>\n",
    "- <a>6. Вырвод результатов  </a>"
   ]
  },
  {
   "cell_type": "markdown",
   "metadata": {},
   "source": [
    "# Вопросы"
   ]
  },
  {
   "cell_type": "markdown",
   "metadata": {},
   "source": [
    "- <a>1. У нас больше информация о клиентах чам о услуги предоставлены. Что делать с клиентами у которых нет информаций в датафржим internet и phone.?</a>\n",
    "- <a>2. Что означает признаки : SeniorCitizen, Partner и Dependents в файле personal?</a>\n",
    "- <a>3. Целособрасно ли создать один большой датафрэйм из всех файлов и заполнять каким-то значением пропушеных наблюдений? если да то каким? </a>\n",
    "\n"
   ]
  }
 ],
 "metadata": {
  "kernelspec": {
   "display_name": "Python 3",
   "language": "python",
   "name": "python3"
  },
  "language_info": {
   "codemirror_mode": {
    "name": "ipython",
    "version": 3
   },
   "file_extension": ".py",
   "mimetype": "text/x-python",
   "name": "python",
   "nbconvert_exporter": "python",
   "pygments_lexer": "ipython3",
   "version": "3.7.4"
  }
 },
 "nbformat": 4,
 "nbformat_minor": 2
}
