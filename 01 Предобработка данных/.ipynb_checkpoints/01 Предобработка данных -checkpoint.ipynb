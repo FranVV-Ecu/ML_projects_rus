{
 "cells": [
  {
   "cell_type": "markdown",
   "metadata": {},
   "source": [
    "## Исследование надёжности заёмщиков\n",
    "\n",
    "Заказчик — кредитный отдел банка. Нужно разобраться, влияет ли семейное положение и количество детей клиента на факт погашения кредита в срок. Входные данные от банка — статистика о платёжеспособности клиентов.\n",
    "\n",
    "Результаты исследования будут учтены при построении модели **кредитного скоринга** — специальной системы, которая оценивает способность потенциального заёмщика вернуть кредит банку."
   ]
  },
  {
   "cell_type": "markdown",
   "metadata": {},
   "source": [
    "### Шаг 1. Откройте файл с данными и изучите общую информацию. "
   ]
  },
  {
   "cell_type": "code",
   "execution_count": 1,
   "metadata": {},
   "outputs": [
    {
     "name": "stdout",
     "output_type": "stream",
     "text": [
      "                                0                        1                2\n",
      "children                        1                        1                0\n",
      "days_employed            -8437.67                  -4024.8         -5623.42\n",
      "dob_years                      42                       36               33\n",
      "education                  высшее                  среднее          Среднее\n",
      "education_id                    0                        1                1\n",
      "family_status     женат / замужем          женат / замужем  женат / замужем\n",
      "family_status_id                0                        0                0\n",
      "gender                          F                        F                M\n",
      "income_type             сотрудник                сотрудник        сотрудник\n",
      "debt                            0                        0                0\n",
      "total_income               253876                   112080           145886\n",
      "purpose             покупка жилья  приобретение автомобиля    покупка жилья\n",
      "\n",
      "\n",
      "\n",
      "<class 'pandas.core.frame.DataFrame'>\n",
      "RangeIndex: 21525 entries, 0 to 21524\n",
      "Data columns (total 12 columns):\n",
      "children            21525 non-null int64\n",
      "days_employed       19351 non-null float64\n",
      "dob_years           21525 non-null int64\n",
      "education           21525 non-null object\n",
      "education_id        21525 non-null int64\n",
      "family_status       21525 non-null object\n",
      "family_status_id    21525 non-null int64\n",
      "gender              21525 non-null object\n",
      "income_type         21525 non-null object\n",
      "debt                21525 non-null int64\n",
      "total_income        19351 non-null float64\n",
      "purpose             21525 non-null object\n",
      "dtypes: float64(2), int64(5), object(5)\n",
      "memory usage: 2.0+ MB\n",
      "None\n",
      "\n",
      "\n",
      "\n",
      "children               0\n",
      "days_employed       2174\n",
      "dob_years              0\n",
      "education              0\n",
      "education_id           0\n",
      "family_status          0\n",
      "family_status_id       0\n",
      "gender                 0\n",
      "income_type            0\n",
      "debt                   0\n",
      "total_income        2174\n",
      "purpose                0\n",
      "dtype: int64\n"
     ]
    }
   ],
   "source": [
    "import pandas as pd\n",
    "data = pd.read_csv(r'C:\\Users\\Asus\\Documents\\Python Scripts\\github praktikum\\01 Предобработка данных\\real_state_analys_project_1.csv')\n",
    "\n",
    "print (data.head(3).T)\n",
    "print(\"\\n\\n\")\n",
    "print(data.info())\n",
    "\n",
    "print(\"\\n\\n\")\n",
    "print(data.isna().sum())"
   ]
  },
  {
   "cell_type": "code",
   "execution_count": 23,
   "metadata": {},
   "outputs": [],
   "source": [
    "from IPython.display import FileLink, FileLinks\n",
    "\n",
    "data.to_csv('data project 1.csv', index=False)"
   ]
  },
  {
   "cell_type": "markdown",
   "metadata": {},
   "source": [
    "### Вывод"
   ]
  },
  {
   "cell_type": "markdown",
   "metadata": {},
   "source": [
    "В датасет наблюдается 12 столбцов и 21525 строк. На первый взгляд существуют ни коректные наблюдении в стольбце \"Стаж работы\", отрицательные значения, так ж в стольбце 'days_employed' и 'total_income' меньше количество наблюдений, что наводит на мысл о том что именно в этих столбцах есть пропушеные значения, которые предстоит анализировать и принимать решения об их удаления или заполнения. Количество пропушеных значений составляет 2174."
   ]
  },
  {
   "cell_type": "markdown",
   "metadata": {},
   "source": [
    "### Шаг 2. Предобработка данных"
   ]
  },
  {
   "cell_type": "code",
   "execution_count": 4,
   "metadata": {},
   "outputs": [
    {
     "name": "stdout",
     "output_type": "stream",
     "text": [
      "Доля пропушеных строк в столбце \"стаж работы\": 10.1%\n",
      "Доля пропушеных строк в столбце \"доход\": 10.1%\n",
      "\n",
      "Прверка совпадения индексов в столбцах days_employed и total_income\n",
      "True\n",
      "\n",
      "Количество отрицательных строк в столбце стажа работы: 15906.0\n",
      "Максимальное отрицательное значение в столбце стажа работы: -24.14\n",
      "Минимальное отрицательное значение в столбце стажа работы: -18388.95\n",
      "Средное отрицательное значение в столбце стажа работы: -2353.02\n",
      "3445\n"
     ]
    }
   ],
   "source": [
    "# Выделяем только строки с NaN значениями\n",
    "data_nan =  data[data.isna().any(axis=1)]\n",
    "data_nan.head()\n",
    "\n",
    "# Определяем перемены с долей пропущеных значений на каждый столбца\n",
    "part_nan_days_employed = len(data_nan['days_employed']) / len(data)\n",
    "part_nan_income = len(data_nan['total_income'])/ len(data)\n",
    "\n",
    "print('Доля пропушеных строк в столбце \"стаж работы\": {:.1%}'.format(part_nan_days_employed)) \n",
    "print('Доля пропушеных строк в столбце \"доход\": {:.1%}'.format(part_nan_income))\n",
    "print()\n",
    "\n",
    "\n",
    "print('Прверка совпадения индексов в столбцах days_employed и total_income')\n",
    "Nan_days_employed = pd.isnull(data['days_employed'])\n",
    "Nan_total_income = pd.isnull(data['total_income'])\n",
    "print((data[Nan_days_employed].index == data[Nan_total_income].index).all())\n",
    "print()\n",
    "\n",
    "negative_days_employed = data[data['days_employed'] <= 0]\n",
    "extra_days_employed = data[data['days_employed'] >= 50*365]\n",
    "print('Количество отрицательных строк в столбце стажа работы: {:.1f}'.format(len(negative_days_employed['days_employed'])))\n",
    "print('Максимальное отрицательное значение в столбце стажа работы: {:.2f}'.format(negative_days_employed['days_employed'].max()))\n",
    "print('Минимальное отрицательное значение в столбце стажа работы: {:.2f}'.format(negative_days_employed['days_employed'].min()))\n",
    "print('Средное отрицательное значение в столбце стажа работы: {:.2f}'.format(negative_days_employed['days_employed'].mean()))\n",
    "print(len(extra_days_employed))\n"
   ]
  },
  {
   "cell_type": "markdown",
   "metadata": {},
   "source": [
    "### Вывод \n",
    "\n",
    "Посчитаем количество NaN и выводим на экран.<br>\n",
    "    Посчитаем доля пропушеных строк в столбцах 'days_employed' и 'total_icome' и выводим на экран в порцентным соотношении\n",
    "Количество и доля пропущеных строк в столбцах 'days_employed' и 'total_income' большое- 10% и они совпадают, то что наводит \n",
    "на мысл что эти наблюдения неслучайные а пропушенное значение означает что человек не работает и соответсвено не имеет\n",
    "источник дохода. Чтобы преверть гипотезу рассмотрим совпадают ли индекси во всех строка <br>\n",
    "    Все индексы совпадают, соответсвенно гипотезу подтвеждается а следователно заменяем на значения средное значения.<br><br>\n",
    "    \n",
    "Доля пропушеных строк в столбце \"стаж работы\": 10.1% <br>\n",
    "Доля пропушеных строк в столбце \"доход\": 10.1% <br><br>\n",
    "\n",
    "Прверка совпадения индексов в столбцах days_employed и total_income <br><br>\n",
    "\n",
    "Количество отрицательных строк в столбце стажа работы:15906.0  <br>\n",
    "Максимальное отрицательное значение в столбце стажа работы::-24.14 <br>\n",
    "Минимальное отрицательное значение в столбце стажа работы::-18388.95<br>\n",
    "Средное отрицательное значение в столбце стажа работы::-2353.02. </font>"
   ]
  },
  {
   "cell_type": "markdown",
   "metadata": {},
   "source": [
    "### Обработка пропусков"
   ]
  },
  {
   "cell_type": "code",
   "execution_count": 7,
   "metadata": {},
   "outputs": [
    {
     "name": "stdout",
     "output_type": "stream",
     "text": [
      "children            0\n",
      "days_employed       0\n",
      "dob_years           0\n",
      "education           0\n",
      "education_id        0\n",
      "family_status       0\n",
      "family_status_id    0\n",
      "gender              0\n",
      "income_type         0\n",
      "debt                0\n",
      "total_income        0\n",
      "purpose             0\n",
      "dtype: int64\n"
     ]
    }
   ],
   "source": [
    "import numpy as np\n",
    "\n",
    "# Отрицательные значения столбца тажа оаботы заменяем на положительные значения\n",
    "    \n",
    "data['days_employed'] =  np.abs(data['days_employed'])\n",
    "\n",
    "# Вычысляем медианы на которуюзаменяем пропущеные значения\n",
    "median_days_employed = data['days_employed'].mean()\n",
    "median_total_income = data['total_income'].mean()\n",
    "\n",
    "data['days_employed'] = data['days_employed'].fillna(value = median_days_employed)\n",
    "data['total_income'] = data['total_income'].fillna(value= median_total_income)\n",
    "print(data.isna().sum())\n"
   ]
  },
  {
   "cell_type": "markdown",
   "metadata": {},
   "source": [
    "### Вывод"
   ]
  },
  {
   "cell_type": "markdown",
   "metadata": {},
   "source": [
    "Количество и доля пропущеных строк в столбцах 'days_employed' и 'total_income' большое- 10% и они совпадают, то что наводит \n",
    "на мысл что эти наблюдения неслучайные а пропушенное значение означает что человек не работает и соответсвено не имеет\n",
    "источник дохода. Чтобы проверть гипотезу рассмотрим совпадают ли индекси во всех строка. По сколько все индексы совпадают, соответсвенно гипотезу подтвеждается а следователно заменяем на меддиану.\n"
   ]
  },
  {
   "cell_type": "markdown",
   "metadata": {},
   "source": [
    "### Замена типа данных"
   ]
  },
  {
   "cell_type": "code",
   "execution_count": 8,
   "metadata": {},
   "outputs": [],
   "source": [
    "data['days_employed'] = data['days_employed'].astype('int')\n",
    "data['total_income'] = data['total_income'].astype('int')"
   ]
  },
  {
   "cell_type": "markdown",
   "metadata": {},
   "source": [
    "### Вывод"
   ]
  },
  {
   "cell_type": "markdown",
   "metadata": {},
   "source": [
    "Вещественные числа в столбцах 'days_employed' и 'total_income', переводим в целовых типа 'int' c с помощью метода astype()"
   ]
  },
  {
   "cell_type": "markdown",
   "metadata": {},
   "source": [
    "### Обработка дубликатов"
   ]
  },
  {
   "cell_type": "code",
   "execution_count": 9,
   "metadata": {},
   "outputs": [
    {
     "data": {
      "text/plain": [
       "54"
      ]
     },
     "execution_count": 9,
     "metadata": {},
     "output_type": "execute_result"
    }
   ],
   "source": [
    "#Список категориальных стольбцов\n",
    "cat_cols  = list(data.select_dtypes(include=['object']).columns)\n",
    "\n",
    "#Список численых стольбцов\n",
    "num_cols   = [x for x in data.columns if x not in cat_cols]\n",
    "\n",
    "\n",
    "#Стандартизаций строк \n",
    "for row in cat_cols:\n",
    "    data[row].str.lower\n",
    "    \n",
    "# Количество дупликатов\n",
    "data.duplicated().sum()\n",
    " "
   ]
  },
  {
   "cell_type": "code",
   "execution_count": 10,
   "metadata": {},
   "outputs": [
    {
     "data": {
      "text/plain": [
       "0"
      ]
     },
     "execution_count": 10,
     "metadata": {},
     "output_type": "execute_result"
    }
   ],
   "source": [
    "# Удаление дупликатов\n",
    "data = data.drop_duplicates().reset_index(drop=True)\n",
    "\n",
    "data.duplicated().sum()"
   ]
  },
  {
   "cell_type": "markdown",
   "metadata": {},
   "source": [
    "### Лемматизация"
   ]
  },
  {
   "cell_type": "code",
   "execution_count": 11,
   "metadata": {},
   "outputs": [
    {
     "name": "stdout",
     "output_type": "stream",
     "text": [
      "0                 [покупка,  , жилье, \\n]\n",
      "1       [приобретение,  , автомобиль, \\n]\n",
      "2                 [покупка,  , жилье, \\n]\n",
      "3    [дополнительный,  , образование, \\n]\n",
      "4               [сыграть,  , свадьба, \\n]\n",
      "Name: purpose_lemmas, dtype: object\n",
      "[автомобиль, \\n]                                          972\n",
      "[свадьба, \\n]                                             793\n",
      "[на,  , проведение,  , свадьба, \\n]                       773\n",
      "[сыграть,  , свадьба, \\n]                                 769\n",
      "[операция,  , с,  , недвижимость, \\n]                     675\n",
      "[покупка,  , коммерческий,  , недвижимость, \\n]           662\n",
      "[операция,  , с,  , жилье, \\n]                            652\n",
      "[покупка,  , жилье,  , для,  , сдача, \\n]                 652\n",
      "[операция,  , с,  , коммерческий,  , недвижимость, \\n]    650\n",
      "[покупка,  , жилье, \\n]                                   646\n",
      "[жилье, \\n]                                               646\n",
      "[покупка,  , жилье,  , для,  , семья, \\n]                 638\n",
      "[строительство,  , собственный,  , недвижимость, \\n]      635\n",
      "[недвижимость, \\n]                                        633\n",
      "[операция,  , со,  , свой,  , недвижимость, \\n]           627\n",
      "[строительство,  , жилой,  , недвижимость, \\n]            625\n",
      "[покупка,  , недвижимость, \\n]                            621\n",
      "[покупка,  , свой,  , жилье, \\n]                          620\n",
      "[строительство,  , недвижимость, \\n]                      619\n",
      "[ремонт,  , жилье, \\n]                                    607\n",
      "[покупка,  , жилой,  , недвижимость, \\n]                  606\n",
      "[на,  , покупка,  , свой,  , автомобиль, \\n]              505\n",
      "[заниматься,  , высокий,  , образование, \\n]              496\n",
      "[сделка,  , с,  , подержанный,  , автомобиль, \\n]         486\n",
      "[свой,  , автомобиль, \\n]                                 479\n",
      "[на,  , покупка,  , подержать,  , автомобиль, \\n]         478\n",
      "[на,  , покупка,  , автомобиль, \\n]                       472\n",
      "[приобретение,  , автомобиль, \\n]                         461\n",
      "[дополнительный,  , образование, \\n]                      460\n",
      "[сделка,  , с,  , автомобиль, \\n]                         455\n",
      "[высокий,  , образование, \\n]                             452\n",
      "[получение,  , дополнительный,  , образование, \\n]        447\n",
      "[образование, \\n]                                         447\n",
      "[получение,  , образование, \\n]                           442\n",
      "[профильный,  , образование, \\n]                          436\n",
      "[получение,  , высокий,  , образование, \\n]               426\n",
      "[заниматься,  , образование, \\n]                          408\n",
      "Name: purpose_lemmas, dtype: int64\n"
     ]
    }
   ],
   "source": [
    "\n",
    "from pymystem3 import Mystem\n",
    "m = Mystem()\n",
    "\n",
    "data['purpose_lemmas'] = data['purpose'].apply(m.lemmatize)\n",
    "print(data['purpose_lemmas'].head())   \n",
    "\n",
    "print(data['purpose_lemmas'].value_counts())"
   ]
  },
  {
   "cell_type": "markdown",
   "metadata": {},
   "source": [
    "### Вывод"
   ]
  },
  {
   "cell_type": "markdown",
   "metadata": {},
   "source": [
    "Создал новый столбец \"purpose_lemmas\" и в него сохранил леммы столбца \"цель кредита\". Исползовал метод aplly и m.lemmatize для того чтобы найти слова в \"стандартной\" форме чтобы далшье создать категории целей кредита."
   ]
  },
  {
   "cell_type": "markdown",
   "metadata": {},
   "source": [
    "### Категоризация данных"
   ]
  },
  {
   "cell_type": "code",
   "execution_count": 13,
   "metadata": {},
   "outputs": [
    {
     "name": "stdout",
     "output_type": "stream",
     "text": [
      "нeдвижимость    4461\n",
      "автокредит      4308\n",
      "образование     4014\n",
      "свадьба         2335\n",
      "Name: purpose_group, dtype: int64\n",
      "None \n",
      "\n",
      "\n",
      "взрозлые      16753\n",
      "молодые        3719\n",
      "пенсионеры      898\n",
      "Name: age_group, dtype: int64\n",
      "Неопределено \n",
      "\n",
      "\n",
      "срений           11748\n",
      "высокий           6159\n",
      "ниже средного     3564\n",
      "Name: income_group, dtype: int64\n",
      "Неопределено \n",
      "\n",
      "\n"
     ]
    }
   ],
   "source": [
    "# Функция разделения по цели кредита\n",
    "def purpose_group (data):\n",
    "    if 'автомобиль' in data:\n",
    "        return'автокредит'\n",
    "    elif 'свадьба' in data:\n",
    "        return 'свадьба'\n",
    "    elif 'образование' in data:\n",
    "        return 'образование'\n",
    "    elif ('жилье' or  'недвижимость') in data:\n",
    "            return 'нeдвижимость'\n",
    "    #else:\n",
    "        #return 'Неопределено'\n",
    "    \n",
    "\"\"\"\"\n",
    "Возвращает  группу по цели кредита, используя правила:\n",
    "- 'недвижимость' при наличии слова \"жильё\" и \"недвижимость\"\n",
    "- 'автокредит' при наличии слова \"автомобиль\"\n",
    "- 'свадьба' при наличии слова \"свадьва\"\n",
    "- 'образавание' при наличии слова \"образавание\"\n",
    "    \"\"\"\n",
    "    \n",
    "# Функция разделения по возровсту\n",
    "def age_group(age):\n",
    "    try:\n",
    "        if 0 < age < 18:\n",
    "            return 'дети'\n",
    "        elif 18 <= age <= 30:\n",
    "            return 'молодые'\n",
    "        elif  30 < age <= 64:\n",
    "            return 'взрозлые'\n",
    "        elif age > 64:\n",
    "            return'пенсионеры'\n",
    "    except:\n",
    "        return 'Неопределено'\n",
    "\n",
    "\"\"\"\"\n",
    "Возвращает возврастную группу по значению возраста age, используя правила:\n",
    "- 'несовершеннолетние' при значении age < 18 лет\n",
    "- 'молодые'при значении age более 18 и менее 30, включая 30\n",
    "- 'взрослые' при значениии age более 30 и менее 64, включая 64\n",
    "- 'пенсионеры' во всех остальных случаях\n",
    "\"\"\"\n",
    "# Функция разделения по доходу    \n",
    "def income_group (income):\n",
    "    try:\n",
    "        if  0 < income < 92000:\n",
    "            return 'ниже средного'\n",
    "        elif 9200 <= income <= 184000:\n",
    "            return 'срений'\n",
    "        elif income > 184000:\n",
    "            return 'высокий'\n",
    "        return 'без дохода'\n",
    "    except:\n",
    "        return 'Неопределено'\n",
    "    \n",
    "\"\"\"\"\n",
    "Возвращает группу по значению дохода income, используя правила:\n",
    "- 'ниже средного' при значении Income от 0 до  92 000\n",
    "- 'срений\"  при значении Income от 92 000 до  184 000\n",
    "- 'высокий' при значениии income более 200 000\n",
    "- 'без дохода' во всех остальных случаях\n",
    "\"\"\"\n",
    "#Применение функцию раздедения по цели кредита\n",
    "data['purpose_group'] = data['purpose_lemmas'].apply(purpose_group)\n",
    "print(data['purpose_group'].value_counts())\n",
    "print(purpose_group('NaN'),'\\n\\n')\n",
    "\n",
    "#Применение функцию раздедения по цели кредита\n",
    "data['age_group'] = data['dob_years'].apply(age_group)\n",
    "print(data['age_group'].value_counts())\n",
    "print(age_group('NaN'), '\\n\\n')\n",
    "\n",
    "#Применение функцию раздедения по дохода\n",
    "data['income_group'] = data['total_income'].apply(income_group)\n",
    "print(data['income_group'].value_counts())\n",
    "print(income_group('None') , '\\n\\n')"
   ]
  },
  {
   "cell_type": "markdown",
   "metadata": {},
   "source": [
    "### Вывод"
   ]
  },
  {
   "cell_type": "markdown",
   "metadata": {},
   "source": [
    "Выделял словарь - цельи кредита 'purpose_group', в нем разделили на четыры категории - автокредит, недвижимость, свадьба и образование. Так же словарь с возратсныим группами 'age_group'- несовершенолетние моложе 18 лет, молодые от 18 до 30, взрозлые от 31 до 64 и пенсионеры  старше 64. Третьий словарь уровня дохода 'income_group' - ниже среднего меньше 92000, средный доход от 90000 по 184000 и высокий доход свыше 184000. Выбрал порог 92000 согласно значению Росстата о средной заработной оплате по Москве на 2019. \n",
    "\n",
    "При определений функций категоризации применяли методы try и except чтобы избежать ошибок кода при значении вне заданного диапазона."
   ]
  },
  {
   "cell_type": "markdown",
   "metadata": {},
   "source": [
    "<font color='green'> Ссылька : https://www.sokolovpro.ru/2019/07/srednyaya-zarplata-v-moskve-na-2019-god-po-dannym-rosstata-svezhie-dannye.html\n",
    "    "
   ]
  },
  {
   "cell_type": "markdown",
   "metadata": {},
   "source": [
    "### Шаг 3. Ответьте на вопросы"
   ]
  },
  {
   "cell_type": "markdown",
   "metadata": {},
   "source": [
    "- Есть ли зависимость между наличием детей и возвратом кредита в срок?"
   ]
  },
  {
   "cell_type": "code",
   "execution_count": 19,
   "metadata": {
    "scrolled": true
   },
   "outputs": [
    {
     "name": "stdout",
     "output_type": "stream",
     "text": [
      "              0     1     ratio\n",
      "children                       \n",
      " 20          68     8  0.105263\n",
      " 4           37     4  0.097561\n",
      " 2         1858   194  0.094542\n",
      " 1         4365   444  0.092327\n",
      " 3          303    27  0.081818\n",
      " 0        13044  1063  0.075353\n",
      "-1           46     1  0.021277\n",
      " 5            9     0  0.000000\n",
      "\n",
      "Порцент клиентов которые не возврашают кредит: 7.10%\n"
     ]
    }
   ],
   "source": [
    "# Создание категоря кредита\n",
    "data['debt_category'] = data['debt']\n",
    "\n",
    "# Словарь колчество детей и возврат кредита\n",
    "children_dict= data.pivot_table(index = 'children' ,  columns = 'debt', values ='debt_category' , aggfunc={'debt_category': 'count'}, fill_value = 0)\n",
    "children_dict.set_axis(['0','1'], axis = 1, inplace =True)\n",
    "children_dict['ratio'] = children_dict['1'] / (children_dict['0'] + children_dict['1'])\n",
    "\n",
    "#Вывод наличие детей и коэф. возврата кредита\n",
    "print(children_dict.sort_values(by = 'ratio' , ascending = False))\n",
    "\n",
    "print()\n",
    "\n",
    "print('Порцент клиентов которые не возврашают кредит: {:.2%}'.format(children_dict['ratio'].mean()))\n"
   ]
  },
  {
   "cell_type": "markdown",
   "metadata": {},
   "source": [
    "### Вывод"
   ]
  },
  {
   "cell_type": "markdown",
   "metadata": {},
   "source": [
    "Из полученного результата можно сделать вывод что заёмщики с детьми худже возвращают кредиты по сравнению с заёмщики без детей. Интересное наблюдение  что среди заёмщиков с детьми лучше всего возвращают те у кого 3 ребенка, худже тем у кого 1 или 2  ребенка. Это может быть связано с государственной поддержкой которые многодетными семьями получают, тоже уместно обратить внимание на то что количество семьй  с одним или с двумя детьми в 10 раз больше чем с тремя или больше. "
   ]
  },
  {
   "cell_type": "markdown",
   "metadata": {},
   "source": [
    "- Есть ли зависимость между семейным положением и возвратом кредита в срок?"
   ]
  },
  {
   "cell_type": "code",
   "execution_count": 18,
   "metadata": {},
   "outputs": [
    {
     "name": "stdout",
     "output_type": "stream",
     "text": [
      "                           0    1     ratio\n",
      "family_status                              \n",
      "Не женат / не замужем   2536  274  0.097509\n",
      "гражданский брак        3775  388  0.093202\n",
      "женат / замужем        11413  931  0.075421\n",
      "в разводе               1110   85  0.071130\n",
      "вдовец / вдова           896   63  0.065693\n",
      "\n",
      "Порцент клиентов которые не возврашают кредит: 8.06%\n"
     ]
    }
   ],
   "source": [
    "#Создание признака семейное положение\n",
    "data['family_status_category'] = data['family_status']\n",
    "\n",
    "# Словарь семеиное положение и возврат кредита\n",
    "family_dict= data.pivot_table(index = 'family_status' ,  columns = 'debt', values ='debt_category' , aggfunc={'debt_category': 'count'}, fill_value = 0)\n",
    "family_dict.set_axis(['0','1'], axis = 1, inplace =True)\n",
    "family_dict['ratio'] = family_dict['1'] / (family_dict['0'] + family_dict['1'])\n",
    "\n",
    "print(family_dict.sort_values(by = 'ratio' , ascending = False))\n",
    "\n",
    "print()\n",
    "print('Порцент клиентов которые не возврашают кредит: {:.2%}'.format(family_dict['ratio'].mean()))\n"
   ]
  },
  {
   "cell_type": "markdown",
   "metadata": {},
   "source": [
    "Клиенты со семейным статусом \"не женат / не замужем\" и \"гражданский брак\" больше всех имеют задолженость по возврату кредитов. А лучше всех возвращает кредит со смейным статусом \"вдовец / вдова\". Скорее всего такая тендеция обусловлена тем что заемщики в гражданском браке или не женаты/не замужнем чаше меняется жизненые обстоятельств."
   ]
  },
  {
   "cell_type": "markdown",
   "metadata": {},
   "source": [
    "- Есть ли зависимость между уровнем дохода и возвратом кредита в срок?"
   ]
  },
  {
   "cell_type": "code",
   "execution_count": 21,
   "metadata": {},
   "outputs": [
    {
     "name": "stdout",
     "output_type": "stream",
     "text": [
      "                   0    1     ratio\n",
      "income_group                       \n",
      "срений         10751  997  0.084866\n",
      "ниже средного   3280  284  0.079686\n",
      "высокий         5699  460  0.074687\n",
      "\n",
      "Порцент клиентов которые не возврашают кредит : 8.06%\n"
     ]
    }
   ],
   "source": [
    "#Словарь наличие задолжености от группы дохода\n",
    "\n",
    "income_dict = data.pivot_table(index = 'income_group' ,  columns = 'debt', values ='debt_category' , aggfunc={'debt_category': 'count'}, fill_value = 0)\n",
    "income_dict.set_axis(['0','1'], axis = 1, inplace =True)\n",
    "income_dict['ratio'] = income_dict['1'] / (income_dict['0'] + income_dict['1'])\n",
    "\n",
    "print(income_dict.sort_values(by = 'ratio' , ascending = False))\n",
    "\n",
    "print()\n",
    "print('Порцент клиентов которые не возврашают кредит : {:.2%}'.format(family_dict['ratio'].mean()))"
   ]
  },
  {
   "cell_type": "markdown",
   "metadata": {},
   "source": [
    "### Вывод"
   ]
  },
  {
   "cell_type": "markdown",
   "metadata": {},
   "source": [
    "Клиенты со средным доходом (доход от 92 000 до 182 000 рублей) имеют худще показатель по возрату кредита. А клиенты с высоким доходом лучше возвращаую кредиты. "
   ]
  },
  {
   "cell_type": "markdown",
   "metadata": {},
   "source": [
    "- Как разные цели кредита влияют на его возврат в срок?"
   ]
  },
  {
   "cell_type": "code",
   "execution_count": 22,
   "metadata": {},
   "outputs": [
    {
     "name": "stdout",
     "output_type": "stream",
     "text": [
      "                  0    1     ratio\n",
      "purpose_group                     \n",
      "автокредит     3905  403  0.093547\n",
      "образование    3644  370  0.092177\n",
      "свадьба        2149  186  0.079657\n",
      "нeдвижимость   4153  308  0.069043\n",
      "\n",
      "Порцент клиентов которые не возврашают кредит : 8.36%\n"
     ]
    }
   ],
   "source": [
    "# \n",
    "purpose_dict = data.pivot_table(index = 'purpose_group' ,  columns = 'debt', values ='debt_category' , aggfunc={'debt_category': 'count'}, fill_value = 0)\n",
    "purpose_dict.set_axis(['0','1'], axis = 1, inplace =True)\n",
    "purpose_dict['ratio'] = purpose_dict['1'] / (purpose_dict['0'] + purpose_dict['1'])\n",
    "\n",
    "print(purpose_dict.sort_values(by = 'ratio' , ascending = False))\n",
    "\n",
    "print()\n",
    "print('Порцент клиентов которые не возврашают кредит : {:.2%}'.format(purpose_dict['ratio'].mean()))"
   ]
  },
  {
   "cell_type": "markdown",
   "metadata": {},
   "source": [
    "### Вывод"
   ]
  },
  {
   "cell_type": "markdown",
   "metadata": {},
   "source": [
    "Больше задолженость по возврату кредитов имеют те клиенты которые взяли автокредит. Более надежные кредиты являются те которые были направлены на недвижимость."
   ]
  },
  {
   "cell_type": "markdown",
   "metadata": {},
   "source": [
    "### Шаг 4. Общий вывод"
   ]
  },
  {
   "cell_type": "markdown",
   "metadata": {},
   "source": [
    "Из полученных резултатов можно сказать что клиент со средным доходом, со статусом\"не женат / не замужем\" либо \"гражданский брак\" которые берут кредит с целью \"образование\" или \"автокредит\" преставляют больше риск задолжености по возврату кредитов. С другой стороны заёмщики без детей со семеыним статусом \"женат / замужем\" которые берут кредиты на недвижимость или на свадьбу.\n",
    "\n",
    "Как мне кажется лучше возращают кредиты те у кого мало детей, состоит в браке и верет кредит на недвижимость со ниже средным уровнем дохода. А больше задолженость по возврату кредитов имеют заёмщики которые верут кредит на автомобиль или образование, не состоят в браке либо в гражданском браке со средным уровнем дохоа </font>"
   ]
  }
 ],
 "metadata": {
  "kernelspec": {
   "display_name": "Python 3",
   "language": "python",
   "name": "python3"
  },
  "language_info": {
   "codemirror_mode": {
    "name": "ipython",
    "version": 3
   },
   "file_extension": ".py",
   "mimetype": "text/x-python",
   "name": "python",
   "nbconvert_exporter": "python",
   "pygments_lexer": "ipython3",
   "version": "3.7.4"
  }
 },
 "nbformat": 4,
 "nbformat_minor": 2
}
